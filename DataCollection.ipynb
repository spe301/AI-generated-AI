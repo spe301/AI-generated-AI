{
  "nbformat": 4,
  "nbformat_minor": 0,
  "metadata": {
    "colab": {
      "name": "DataCollection.ipynb",
      "provenance": [],
      "collapsed_sections": [],
      "authorship_tag": "ABX9TyOJoenLjpkjlLnYMEh0Xr9Q",
      "include_colab_link": true
    },
    "kernelspec": {
      "name": "python3",
      "display_name": "Python 3"
    }
  },
  "cells": [
    {
      "cell_type": "markdown",
      "metadata": {
        "id": "view-in-github",
        "colab_type": "text"
      },
      "source": [
        "<a href=\"https://colab.research.google.com/github/spe301/AI-generated-AI/blob/main/DataCollection.ipynb\" target=\"_parent\"><img src=\"https://colab.research.google.com/assets/colab-badge.svg\" alt=\"Open In Colab\"/></a>"
      ]
    },
    {
      "cell_type": "code",
      "metadata": {
        "colab": {
          "base_uri": "https://localhost:8080/"
        },
        "id": "IizlXC7jhuk2",
        "outputId": "a500dde7-4220-4394-c6c7-48a95fb88269"
      },
      "source": [
        "!pip install Potosnail==0.0.6"
      ],
      "execution_count": 1,
      "outputs": [
        {
          "output_type": "stream",
          "text": [
            "Requirement already satisfied: Potosnail==0.0.6 in /usr/local/lib/python3.6/dist-packages (0.0.6)\n",
            "Requirement already satisfied: lxml==4.6.1 in /usr/local/lib/python3.6/dist-packages (from Potosnail==0.0.6) (4.6.1)\n",
            "Requirement already satisfied: pandas<=1.1.3 in /usr/local/lib/python3.6/dist-packages (from Potosnail==0.0.6) (1.1.3)\n",
            "Requirement already satisfied: scikit-learn<=0.23.2 in /usr/local/lib/python3.6/dist-packages (from Potosnail==0.0.6) (0.22.2.post1)\n",
            "Requirement already satisfied: matplotlib<=3.3.2 in /usr/local/lib/python3.6/dist-packages (from Potosnail==0.0.6) (3.2.2)\n",
            "Requirement already satisfied: statsmodels<=0.12.0 in /usr/local/lib/python3.6/dist-packages (from Potosnail==0.0.6) (0.10.2)\n",
            "Requirement already satisfied: tensorflow<=2.4.0 in /usr/local/lib/python3.6/dist-packages (from Potosnail==0.0.6) (2.4.0)\n",
            "Requirement already satisfied: imblearn<=0.0 in /usr/local/lib/python3.6/dist-packages (from Potosnail==0.0.6) (0.0)\n",
            "Requirement already satisfied: seaborn<=0.11.0 in /usr/local/lib/python3.6/dist-packages (from Potosnail==0.0.6) (0.11.0)\n",
            "Requirement already satisfied: regex==2020.10.15 in /usr/local/lib/python3.6/dist-packages (from Potosnail==0.0.6) (2020.10.15)\n",
            "Requirement already satisfied: urllib3==1.25.11 in /usr/local/lib/python3.6/dist-packages (from Potosnail==0.0.6) (1.25.11)\n",
            "Requirement already satisfied: xgboost<=1.3.1 in /usr/local/lib/python3.6/dist-packages (from Potosnail==0.0.6) (0.90)\n",
            "Requirement already satisfied: beautifulsoup4==4.9.3 in /usr/local/lib/python3.6/dist-packages (from Potosnail==0.0.6) (4.9.3)\n",
            "Requirement already satisfied: numpy<=1.19.2 in /usr/local/lib/python3.6/dist-packages (from Potosnail==0.0.6) (1.19.2)\n",
            "Requirement already satisfied: python-dateutil>=2.7.3 in /usr/local/lib/python3.6/dist-packages (from pandas<=1.1.3->Potosnail==0.0.6) (2.8.1)\n",
            "Requirement already satisfied: pytz>=2017.2 in /usr/local/lib/python3.6/dist-packages (from pandas<=1.1.3->Potosnail==0.0.6) (2018.9)\n",
            "Requirement already satisfied: scipy>=0.17.0 in /usr/local/lib/python3.6/dist-packages (from scikit-learn<=0.23.2->Potosnail==0.0.6) (1.4.1)\n",
            "Requirement already satisfied: joblib>=0.11 in /usr/local/lib/python3.6/dist-packages (from scikit-learn<=0.23.2->Potosnail==0.0.6) (1.0.0)\n",
            "Requirement already satisfied: pyparsing!=2.0.4,!=2.1.2,!=2.1.6,>=2.0.1 in /usr/local/lib/python3.6/dist-packages (from matplotlib<=3.3.2->Potosnail==0.0.6) (2.4.7)\n",
            "Requirement already satisfied: kiwisolver>=1.0.1 in /usr/local/lib/python3.6/dist-packages (from matplotlib<=3.3.2->Potosnail==0.0.6) (1.3.1)\n",
            "Requirement already satisfied: cycler>=0.10 in /usr/local/lib/python3.6/dist-packages (from matplotlib<=3.3.2->Potosnail==0.0.6) (0.10.0)\n",
            "Requirement already satisfied: patsy>=0.4.0 in /usr/local/lib/python3.6/dist-packages (from statsmodels<=0.12.0->Potosnail==0.0.6) (0.5.1)\n",
            "Requirement already satisfied: absl-py~=0.10 in /usr/local/lib/python3.6/dist-packages (from tensorflow<=2.4.0->Potosnail==0.0.6) (0.10.0)\n",
            "Requirement already satisfied: astunparse~=1.6.3 in /usr/local/lib/python3.6/dist-packages (from tensorflow<=2.4.0->Potosnail==0.0.6) (1.6.3)\n",
            "Requirement already satisfied: typing-extensions~=3.7.4 in /usr/local/lib/python3.6/dist-packages (from tensorflow<=2.4.0->Potosnail==0.0.6) (3.7.4.3)\n",
            "Requirement already satisfied: google-pasta~=0.2 in /usr/local/lib/python3.6/dist-packages (from tensorflow<=2.4.0->Potosnail==0.0.6) (0.2.0)\n",
            "Requirement already satisfied: six~=1.15.0 in /usr/local/lib/python3.6/dist-packages (from tensorflow<=2.4.0->Potosnail==0.0.6) (1.15.0)\n",
            "Requirement already satisfied: wheel~=0.35 in /usr/local/lib/python3.6/dist-packages (from tensorflow<=2.4.0->Potosnail==0.0.6) (0.36.2)\n",
            "Requirement already satisfied: wrapt~=1.12.1 in /usr/local/lib/python3.6/dist-packages (from tensorflow<=2.4.0->Potosnail==0.0.6) (1.12.1)\n",
            "Requirement already satisfied: tensorboard~=2.4 in /usr/local/lib/python3.6/dist-packages (from tensorflow<=2.4.0->Potosnail==0.0.6) (2.4.1)\n",
            "Requirement already satisfied: grpcio~=1.32.0 in /usr/local/lib/python3.6/dist-packages (from tensorflow<=2.4.0->Potosnail==0.0.6) (1.32.0)\n",
            "Requirement already satisfied: protobuf>=3.9.2 in /usr/local/lib/python3.6/dist-packages (from tensorflow<=2.4.0->Potosnail==0.0.6) (3.12.4)\n",
            "Requirement already satisfied: flatbuffers~=1.12.0 in /usr/local/lib/python3.6/dist-packages (from tensorflow<=2.4.0->Potosnail==0.0.6) (1.12)\n",
            "Requirement already satisfied: opt-einsum~=3.3.0 in /usr/local/lib/python3.6/dist-packages (from tensorflow<=2.4.0->Potosnail==0.0.6) (3.3.0)\n",
            "Requirement already satisfied: gast==0.3.3 in /usr/local/lib/python3.6/dist-packages (from tensorflow<=2.4.0->Potosnail==0.0.6) (0.3.3)\n",
            "Requirement already satisfied: tensorflow-estimator<2.5.0,>=2.4.0rc0 in /usr/local/lib/python3.6/dist-packages (from tensorflow<=2.4.0->Potosnail==0.0.6) (2.4.0)\n",
            "Requirement already satisfied: termcolor~=1.1.0 in /usr/local/lib/python3.6/dist-packages (from tensorflow<=2.4.0->Potosnail==0.0.6) (1.1.0)\n",
            "Requirement already satisfied: h5py~=2.10.0 in /usr/local/lib/python3.6/dist-packages (from tensorflow<=2.4.0->Potosnail==0.0.6) (2.10.0)\n",
            "Requirement already satisfied: keras-preprocessing~=1.1.2 in /usr/local/lib/python3.6/dist-packages (from tensorflow<=2.4.0->Potosnail==0.0.6) (1.1.2)\n",
            "Requirement already satisfied: imbalanced-learn in /usr/local/lib/python3.6/dist-packages (from imblearn<=0.0->Potosnail==0.0.6) (0.4.3)\n",
            "Requirement already satisfied: soupsieve>1.2; python_version >= \"3.0\" in /usr/local/lib/python3.6/dist-packages (from beautifulsoup4==4.9.3->Potosnail==0.0.6) (2.1)\n",
            "Requirement already satisfied: tensorboard-plugin-wit>=1.6.0 in /usr/local/lib/python3.6/dist-packages (from tensorboard~=2.4->tensorflow<=2.4.0->Potosnail==0.0.6) (1.8.0)\n",
            "Requirement already satisfied: google-auth<2,>=1.6.3 in /usr/local/lib/python3.6/dist-packages (from tensorboard~=2.4->tensorflow<=2.4.0->Potosnail==0.0.6) (1.17.2)\n",
            "Requirement already satisfied: markdown>=2.6.8 in /usr/local/lib/python3.6/dist-packages (from tensorboard~=2.4->tensorflow<=2.4.0->Potosnail==0.0.6) (3.3.3)\n",
            "Requirement already satisfied: requests<3,>=2.21.0 in /usr/local/lib/python3.6/dist-packages (from tensorboard~=2.4->tensorflow<=2.4.0->Potosnail==0.0.6) (2.23.0)\n",
            "Requirement already satisfied: werkzeug>=0.11.15 in /usr/local/lib/python3.6/dist-packages (from tensorboard~=2.4->tensorflow<=2.4.0->Potosnail==0.0.6) (1.0.1)\n",
            "Requirement already satisfied: setuptools>=41.0.0 in /usr/local/lib/python3.6/dist-packages (from tensorboard~=2.4->tensorflow<=2.4.0->Potosnail==0.0.6) (51.3.3)\n",
            "Requirement already satisfied: google-auth-oauthlib<0.5,>=0.4.1 in /usr/local/lib/python3.6/dist-packages (from tensorboard~=2.4->tensorflow<=2.4.0->Potosnail==0.0.6) (0.4.2)\n",
            "Requirement already satisfied: pyasn1-modules>=0.2.1 in /usr/local/lib/python3.6/dist-packages (from google-auth<2,>=1.6.3->tensorboard~=2.4->tensorflow<=2.4.0->Potosnail==0.0.6) (0.2.8)\n",
            "Requirement already satisfied: cachetools<5.0,>=2.0.0 in /usr/local/lib/python3.6/dist-packages (from google-auth<2,>=1.6.3->tensorboard~=2.4->tensorflow<=2.4.0->Potosnail==0.0.6) (4.2.1)\n",
            "Requirement already satisfied: rsa<5,>=3.1.4; python_version >= \"3\" in /usr/local/lib/python3.6/dist-packages (from google-auth<2,>=1.6.3->tensorboard~=2.4->tensorflow<=2.4.0->Potosnail==0.0.6) (4.7)\n",
            "Requirement already satisfied: importlib-metadata; python_version < \"3.8\" in /usr/local/lib/python3.6/dist-packages (from markdown>=2.6.8->tensorboard~=2.4->tensorflow<=2.4.0->Potosnail==0.0.6) (3.4.0)\n",
            "Requirement already satisfied: certifi>=2017.4.17 in /usr/local/lib/python3.6/dist-packages (from requests<3,>=2.21.0->tensorboard~=2.4->tensorflow<=2.4.0->Potosnail==0.0.6) (2020.12.5)\n",
            "Requirement already satisfied: chardet<4,>=3.0.2 in /usr/local/lib/python3.6/dist-packages (from requests<3,>=2.21.0->tensorboard~=2.4->tensorflow<=2.4.0->Potosnail==0.0.6) (3.0.4)\n",
            "Requirement already satisfied: idna<3,>=2.5 in /usr/local/lib/python3.6/dist-packages (from requests<3,>=2.21.0->tensorboard~=2.4->tensorflow<=2.4.0->Potosnail==0.0.6) (2.10)\n",
            "Requirement already satisfied: requests-oauthlib>=0.7.0 in /usr/local/lib/python3.6/dist-packages (from google-auth-oauthlib<0.5,>=0.4.1->tensorboard~=2.4->tensorflow<=2.4.0->Potosnail==0.0.6) (1.3.0)\n",
            "Requirement already satisfied: pyasn1<0.5.0,>=0.4.6 in /usr/local/lib/python3.6/dist-packages (from pyasn1-modules>=0.2.1->google-auth<2,>=1.6.3->tensorboard~=2.4->tensorflow<=2.4.0->Potosnail==0.0.6) (0.4.8)\n",
            "Requirement already satisfied: zipp>=0.5 in /usr/local/lib/python3.6/dist-packages (from importlib-metadata; python_version < \"3.8\"->markdown>=2.6.8->tensorboard~=2.4->tensorflow<=2.4.0->Potosnail==0.0.6) (3.4.0)\n",
            "Requirement already satisfied: oauthlib>=3.0.0 in /usr/local/lib/python3.6/dist-packages (from requests-oauthlib>=0.7.0->google-auth-oauthlib<0.5,>=0.4.1->tensorboard~=2.4->tensorflow<=2.4.0->Potosnail==0.0.6) (3.1.0)\n"
          ],
          "name": "stdout"
        }
      ]
    },
    {
      "cell_type": "code",
      "metadata": {
        "id": "tkOUAf-biaqy"
      },
      "source": [
        "import pandas as pd\r\n",
        "import numpy as np\r\n",
        "from google.colab import files\r\n",
        "import zipfile\r\n",
        "import io\r\n",
        "from potosnail import MachineLearning, DeepLearning, DataHelper, Evaluater, Algorithms, Wrappers\r\n",
        "from sklearn.datasets import load_breast_cancer, load_boston\r\n",
        "\r\n",
        "ml = MachineLearning()\r\n",
        "dl = DeepLearning()\r\n",
        "dh = DataHelper()\r\n",
        "ev = Evaluater()\r\n",
        "al = Algorithms()\r\n",
        "wr = Wrappers()"
      ],
      "execution_count": 10,
      "outputs": []
    },
    {
      "cell_type": "code",
      "metadata": {
        "id": "mFpGgfO1in7_"
      },
      "source": [
        "#Dataframes\r\n",
        "Wikipedia = pd.read_csv('https://raw.githubusercontent.com/spe301/AI-generated-AI/main/Data/Wikipedia.csv') #text\r\n",
        "Twitter = pd.read_csv('https://raw.githubusercontent.com/spe301/AI-generated-AI/main/Data/Twitter.csv') #text\r\n",
        "\r\n",
        "#Series\r\n",
        "articles = Wikipedia['Text']\r\n",
        "labels = Wikipedia['AI']\r\n",
        "tweets = Twitter['tweet']\r\n",
        "sentiments = Twitter['is_there_an_emotion_directed_at_a_brand_or_product']\r\n",
        "\r\n",
        "#arrays\r\n",
        "cancer_data = load_breast_cancer()['data']\r\n",
        "diagnosis = dl.MulticlassOutput(load_breast_cancer()['target'])\r\n",
        "housing_data = load_boston()['data']\r\n",
        "prices = load_boston()['target']\r\n",
        "\r\n",
        "#images\r\n",
        "#uploaded = files.upload()\r\n",
        "#data = zipfile.ZipFile(io.BytesIO(uploaded['IMGDS1.zip']), 'r')\r\n",
        "#data.extractall()"
      ],
      "execution_count": 11,
      "outputs": []
    },
    {
      "cell_type": "code",
      "metadata": {
        "id": "jw_1INBCkZGp"
      },
      "source": [
        "#image directories... if any"
      ],
      "execution_count": 6,
      "outputs": []
    },
    {
      "cell_type": "markdown",
      "metadata": {
        "id": "h5Ts1HBi8muZ"
      },
      "source": [
        "# Parameter Grid Templates\r\n",
        "\r\n",
        "rnn_grid = {'output_dim': [int], 'embedding': [vocab], 'nodes': [int], 'activation': [str], \r\n",
        "              'regularizer': [None or str], 'stacking': [bool], 'dropout': [bool], 'optimizer': [str], \r\n",
        "              'method': [str], 'bidirectional': [bool]} \r\n",
        "\r\n",
        "cnn_grid = {'output_dim': [int], 'base_filters':[int], 'kernel_size': [int], 'activation': [str], \r\n",
        "            'nblocks': [int], 'pool':[int], 'dropout': [bool], 'closer': [bool], 'optimizer': [str], \r\n",
        "            'metrics': [str]}\r\n",
        "\r\n",
        "tc_grid = {'output_dim': [int], 'nodes': [int], 'activation': [str], 'regularizer': [None or str], 'stacking': [bool], \r\n",
        "               'dropout': [bool], 'nlayers': [int], 'closer': [bool], 'loss': [str], 'optimizer': [str]}\r\n",
        "\r\n",
        "tr_grid = {'nodes': [int], 'activation': [str], 'regularizer': [None or str], 'stacking': [bool], 'dropout': [bool], 'nlayers': [int], 'closer': [bool], \r\n",
        "                'loss': [str], 'optimizer': [str], 'y_col': [str]}"
      ]
    },
    {
      "cell_type": "code",
      "metadata": {
        "id": "B93UwD1OpW8w"
      },
      "source": [
        "def TCP(X, y):\r\n",
        "  dl = DeepLearning()\r\n",
        "  if len(X) != len(y):\r\n",
        "    return \"lengths {} and {} don't match.\".format(len(X), len(y))\r\n",
        "  avg = 0\r\n",
        "  words = []\r\n",
        "  for i in range(len(X)):\r\n",
        "    avg += len(list(X)[i].split(' '))/len(X)\r\n",
        "    word_list = list(X)[i].replace('\\n', ' ').split(' ')\r\n",
        "    for word in word_list:\r\n",
        "      words.append(word.replace('.', '').replace(',', '').replace(' ', '').replace('\"', '').replace(':', '').replace(';', '').replace('!', ''))\r\n",
        "  pad = int(avg)\r\n",
        "  text, labels = dl.ModelReadyText1(X, y, pad)\r\n",
        "  return text, labels, len(np.unique(words))"
      ],
      "execution_count": 16,
      "outputs": []
    },
    {
      "cell_type": "code",
      "metadata": {
        "id": "Xp688N-WtfjJ"
      },
      "source": [
        "def BigDawg(X, y, task, params, directories=[], classes=[], ts=150, epochs=50, batch_size=32, patience=5, regression=False):\r\n",
        "  dl = DeepLearning()\r\n",
        "  if task == 'NLP':\r\n",
        "    X2, y2, embedding_dim = TCP(X, y)\r\n",
        "    func = dl.RNN\r\n",
        "  if task == 'CV':\r\n",
        "    try:\r\n",
        "      X2, _, y2, _ = dl.ModelReadyPixles(directories, classes, target_size=(ts, ts))\r\n",
        "    except:\r\n",
        "      return 'directories and classes cannot be empty if the task is CV'\r\n",
        "    func = dl.CNN\r\n",
        "  if task == 'TC':\r\n",
        "    try:\r\n",
        "      X2 = X\r\n",
        "      y2 = dl.MulticlassOutput(y)\r\n",
        "    except:\r\n",
        "      X2 = np.array(X)\r\n",
        "      y2 = dl.MulticlassOutput(np.array(y))\r\n",
        "    func = dl.DeepTabularClassification\r\n",
        "  if task == 'TR':\r\n",
        "    try:\r\n",
        "      X2 = X\r\n",
        "      y2 = y\r\n",
        "    except:\r\n",
        "      X2 = np.array(X)\r\n",
        "      y2 = dl.MulticlassOutput(np.array(y))\r\n",
        "    func = dl.DeepTabularRegression\r\n",
        "  return dl.CollectPerformance(params, func, X2, y2, epochs=epochs, batch_size=batch_size, patience=patience, regression=regression)"
      ],
      "execution_count": 20,
      "outputs": []
    },
    {
      "cell_type": "code",
      "metadata": {
        "colab": {
          "base_uri": "https://localhost:8080/"
        },
        "id": "psUx9sz9vpJ_",
        "outputId": "6f8b8d9e-f7a9-4c62-9b1f-889593f41c32"
      },
      "source": [
        "rnn_grid = {'output_dim': [], 'embedding': [], 'nodes': [64], 'activation': ['tanh'], 'regularizer': [None, 'L1'],\r\n",
        "            'stacking': [False], 'dropout': [False], 'optimizer': ['adam'], 'method': ['GRU'], 'bidirectional': [False, True]}\r\n",
        "\r\n",
        "rnn_grid['output_dim'] = [2]\r\n",
        "\r\n",
        "rnn_grid"
      ],
      "execution_count": 22,
      "outputs": [
        {
          "output_type": "execute_result",
          "data": {
            "text/plain": [
              "{'activation': ['tanh'],\n",
              " 'bidirectional': [False, True],\n",
              " 'dropout': [False],\n",
              " 'embedding': [],\n",
              " 'method': ['GRU'],\n",
              " 'nodes': [64],\n",
              " 'optimizer': ['adam'],\n",
              " 'output_dim': [2],\n",
              " 'regularizer': [None, 'L1'],\n",
              " 'stacking': [False]}"
            ]
          },
          "metadata": {
            "tags": []
          },
          "execution_count": 22
        }
      ]
    },
    {
      "cell_type": "markdown",
      "metadata": {
        "id": "45e40R5ewtXB"
      },
      "source": [
        "# Image dataset directory graveyard\r\n",
        "copy and paste these into a code cell when working with the dataset"
      ]
    },
    {
      "cell_type": "markdown",
      "metadata": {
        "id": "1XEKeVbQwy4A"
      },
      "source": [
        "Dogs and Cats\r\n",
        "train_dir = r'dataset/training_set'\r\n",
        "\r\n",
        "test_dir = r'dataset/test_set'\r\n",
        "\r\n",
        "train_dogs = r'dataset/training_set/dogs'\r\n",
        "\r\n",
        "train_cats = r'dataset/training_set/cats'\r\n",
        "\r\n",
        "test_dogs = r'dataset/test_set/dogs'\r\n",
        "\r\n",
        "test_cats = r'dataset/test_set/cats'\r\n",
        "\r\n",
        "directories = [train_dir, test_dir, train_dogs, train_cats, test_dogs, test_cats]\r\n",
        "\r\n",
        "classes = ['cats', 'dogs']"
      ]
    }
  ]
}