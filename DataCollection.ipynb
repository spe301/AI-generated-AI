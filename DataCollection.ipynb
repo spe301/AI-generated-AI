{
  "nbformat": 4,
  "nbformat_minor": 0,
  "metadata": {
    "colab": {
      "name": "DataCollection.ipynb",
      "provenance": [],
      "collapsed_sections": [],
      "authorship_tag": "ABX9TyOUA7WRI7Au1Xo5X2WlX0JG",
      "include_colab_link": true
    },
    "kernelspec": {
      "name": "python3",
      "display_name": "Python 3"
    }
  },
  "cells": [
    {
      "cell_type": "markdown",
      "metadata": {
        "id": "view-in-github",
        "colab_type": "text"
      },
      "source": [
        "<a href=\"https://colab.research.google.com/github/spe301/AI-generated-AI/blob/main/DataCollection.ipynb\" target=\"_parent\"><img src=\"https://colab.research.google.com/assets/colab-badge.svg\" alt=\"Open In Colab\"/></a>"
      ]
    },
    {
      "cell_type": "code",
      "metadata": {
        "colab": {
          "base_uri": "https://localhost:8080/"
        },
        "id": "IizlXC7jhuk2",
        "outputId": "dc2408b8-9f65-476e-9667-fff73ee5b073"
      },
      "source": [
        "!pip install Potosnail==0.0.6"
      ],
      "execution_count": 1,
      "outputs": [
        {
          "output_type": "stream",
          "text": [
            "Requirement already satisfied: Potosnail==0.0.6 in /usr/local/lib/python3.6/dist-packages (0.0.6)\n",
            "Requirement already satisfied: seaborn<=0.11.0 in /usr/local/lib/python3.6/dist-packages (from Potosnail==0.0.6) (0.11.0)\n",
            "Requirement already satisfied: beautifulsoup4==4.9.3 in /usr/local/lib/python3.6/dist-packages (from Potosnail==0.0.6) (4.9.3)\n",
            "Requirement already satisfied: lxml==4.6.1 in /usr/local/lib/python3.6/dist-packages (from Potosnail==0.0.6) (4.6.1)\n",
            "Requirement already satisfied: regex==2020.10.15 in /usr/local/lib/python3.6/dist-packages (from Potosnail==0.0.6) (2020.10.15)\n",
            "Requirement already satisfied: imblearn<=0.0 in /usr/local/lib/python3.6/dist-packages (from Potosnail==0.0.6) (0.0)\n",
            "Requirement already satisfied: pandas<=1.1.3 in /usr/local/lib/python3.6/dist-packages (from Potosnail==0.0.6) (1.1.3)\n",
            "Requirement already satisfied: tensorflow<=2.4.0 in /usr/local/lib/python3.6/dist-packages (from Potosnail==0.0.6) (2.4.0)\n",
            "Requirement already satisfied: xgboost<=1.3.1 in /usr/local/lib/python3.6/dist-packages (from Potosnail==0.0.6) (0.90)\n",
            "Requirement already satisfied: scikit-learn<=0.23.2 in /usr/local/lib/python3.6/dist-packages (from Potosnail==0.0.6) (0.22.2.post1)\n",
            "Requirement already satisfied: matplotlib<=3.3.2 in /usr/local/lib/python3.6/dist-packages (from Potosnail==0.0.6) (3.2.2)\n",
            "Requirement already satisfied: numpy<=1.19.2 in /usr/local/lib/python3.6/dist-packages (from Potosnail==0.0.6) (1.19.2)\n",
            "Requirement already satisfied: statsmodels<=0.12.0 in /usr/local/lib/python3.6/dist-packages (from Potosnail==0.0.6) (0.10.2)\n",
            "Requirement already satisfied: urllib3==1.25.11 in /usr/local/lib/python3.6/dist-packages (from Potosnail==0.0.6) (1.25.11)\n",
            "Requirement already satisfied: scipy>=1.0 in /usr/local/lib/python3.6/dist-packages (from seaborn<=0.11.0->Potosnail==0.0.6) (1.4.1)\n",
            "Requirement already satisfied: soupsieve>1.2; python_version >= \"3.0\" in /usr/local/lib/python3.6/dist-packages (from beautifulsoup4==4.9.3->Potosnail==0.0.6) (2.1)\n",
            "Requirement already satisfied: imbalanced-learn in /usr/local/lib/python3.6/dist-packages (from imblearn<=0.0->Potosnail==0.0.6) (0.4.3)\n",
            "Requirement already satisfied: pytz>=2017.2 in /usr/local/lib/python3.6/dist-packages (from pandas<=1.1.3->Potosnail==0.0.6) (2018.9)\n",
            "Requirement already satisfied: python-dateutil>=2.7.3 in /usr/local/lib/python3.6/dist-packages (from pandas<=1.1.3->Potosnail==0.0.6) (2.8.1)\n",
            "Requirement already satisfied: opt-einsum~=3.3.0 in /usr/local/lib/python3.6/dist-packages (from tensorflow<=2.4.0->Potosnail==0.0.6) (3.3.0)\n",
            "Requirement already satisfied: gast==0.3.3 in /usr/local/lib/python3.6/dist-packages (from tensorflow<=2.4.0->Potosnail==0.0.6) (0.3.3)\n",
            "Requirement already satisfied: grpcio~=1.32.0 in /usr/local/lib/python3.6/dist-packages (from tensorflow<=2.4.0->Potosnail==0.0.6) (1.32.0)\n",
            "Requirement already satisfied: tensorboard~=2.4 in /usr/local/lib/python3.6/dist-packages (from tensorflow<=2.4.0->Potosnail==0.0.6) (2.4.1)\n",
            "Requirement already satisfied: absl-py~=0.10 in /usr/local/lib/python3.6/dist-packages (from tensorflow<=2.4.0->Potosnail==0.0.6) (0.10.0)\n",
            "Requirement already satisfied: six~=1.15.0 in /usr/local/lib/python3.6/dist-packages (from tensorflow<=2.4.0->Potosnail==0.0.6) (1.15.0)\n",
            "Requirement already satisfied: wheel~=0.35 in /usr/local/lib/python3.6/dist-packages (from tensorflow<=2.4.0->Potosnail==0.0.6) (0.36.2)\n",
            "Requirement already satisfied: typing-extensions~=3.7.4 in /usr/local/lib/python3.6/dist-packages (from tensorflow<=2.4.0->Potosnail==0.0.6) (3.7.4.3)\n",
            "Requirement already satisfied: astunparse~=1.6.3 in /usr/local/lib/python3.6/dist-packages (from tensorflow<=2.4.0->Potosnail==0.0.6) (1.6.3)\n",
            "Requirement already satisfied: tensorflow-estimator<2.5.0,>=2.4.0rc0 in /usr/local/lib/python3.6/dist-packages (from tensorflow<=2.4.0->Potosnail==0.0.6) (2.4.0)\n",
            "Requirement already satisfied: protobuf>=3.9.2 in /usr/local/lib/python3.6/dist-packages (from tensorflow<=2.4.0->Potosnail==0.0.6) (3.12.4)\n",
            "Requirement already satisfied: wrapt~=1.12.1 in /usr/local/lib/python3.6/dist-packages (from tensorflow<=2.4.0->Potosnail==0.0.6) (1.12.1)\n",
            "Requirement already satisfied: flatbuffers~=1.12.0 in /usr/local/lib/python3.6/dist-packages (from tensorflow<=2.4.0->Potosnail==0.0.6) (1.12)\n",
            "Requirement already satisfied: keras-preprocessing~=1.1.2 in /usr/local/lib/python3.6/dist-packages (from tensorflow<=2.4.0->Potosnail==0.0.6) (1.1.2)\n",
            "Requirement already satisfied: termcolor~=1.1.0 in /usr/local/lib/python3.6/dist-packages (from tensorflow<=2.4.0->Potosnail==0.0.6) (1.1.0)\n",
            "Requirement already satisfied: google-pasta~=0.2 in /usr/local/lib/python3.6/dist-packages (from tensorflow<=2.4.0->Potosnail==0.0.6) (0.2.0)\n",
            "Requirement already satisfied: h5py~=2.10.0 in /usr/local/lib/python3.6/dist-packages (from tensorflow<=2.4.0->Potosnail==0.0.6) (2.10.0)\n",
            "Requirement already satisfied: joblib>=0.11 in /usr/local/lib/python3.6/dist-packages (from scikit-learn<=0.23.2->Potosnail==0.0.6) (1.0.0)\n",
            "Requirement already satisfied: cycler>=0.10 in /usr/local/lib/python3.6/dist-packages (from matplotlib<=3.3.2->Potosnail==0.0.6) (0.10.0)\n",
            "Requirement already satisfied: pyparsing!=2.0.4,!=2.1.2,!=2.1.6,>=2.0.1 in /usr/local/lib/python3.6/dist-packages (from matplotlib<=3.3.2->Potosnail==0.0.6) (2.4.7)\n",
            "Requirement already satisfied: kiwisolver>=1.0.1 in /usr/local/lib/python3.6/dist-packages (from matplotlib<=3.3.2->Potosnail==0.0.6) (1.3.1)\n",
            "Requirement already satisfied: patsy>=0.4.0 in /usr/local/lib/python3.6/dist-packages (from statsmodels<=0.12.0->Potosnail==0.0.6) (0.5.1)\n",
            "Requirement already satisfied: google-auth<2,>=1.6.3 in /usr/local/lib/python3.6/dist-packages (from tensorboard~=2.4->tensorflow<=2.4.0->Potosnail==0.0.6) (1.17.2)\n",
            "Requirement already satisfied: tensorboard-plugin-wit>=1.6.0 in /usr/local/lib/python3.6/dist-packages (from tensorboard~=2.4->tensorflow<=2.4.0->Potosnail==0.0.6) (1.8.0)\n",
            "Requirement already satisfied: werkzeug>=0.11.15 in /usr/local/lib/python3.6/dist-packages (from tensorboard~=2.4->tensorflow<=2.4.0->Potosnail==0.0.6) (1.0.1)\n",
            "Requirement already satisfied: markdown>=2.6.8 in /usr/local/lib/python3.6/dist-packages (from tensorboard~=2.4->tensorflow<=2.4.0->Potosnail==0.0.6) (3.3.3)\n",
            "Requirement already satisfied: setuptools>=41.0.0 in /usr/local/lib/python3.6/dist-packages (from tensorboard~=2.4->tensorflow<=2.4.0->Potosnail==0.0.6) (51.3.3)\n",
            "Requirement already satisfied: google-auth-oauthlib<0.5,>=0.4.1 in /usr/local/lib/python3.6/dist-packages (from tensorboard~=2.4->tensorflow<=2.4.0->Potosnail==0.0.6) (0.4.2)\n",
            "Requirement already satisfied: requests<3,>=2.21.0 in /usr/local/lib/python3.6/dist-packages (from tensorboard~=2.4->tensorflow<=2.4.0->Potosnail==0.0.6) (2.23.0)\n",
            "Requirement already satisfied: pyasn1-modules>=0.2.1 in /usr/local/lib/python3.6/dist-packages (from google-auth<2,>=1.6.3->tensorboard~=2.4->tensorflow<=2.4.0->Potosnail==0.0.6) (0.2.8)\n",
            "Requirement already satisfied: cachetools<5.0,>=2.0.0 in /usr/local/lib/python3.6/dist-packages (from google-auth<2,>=1.6.3->tensorboard~=2.4->tensorflow<=2.4.0->Potosnail==0.0.6) (4.2.1)\n",
            "Requirement already satisfied: rsa<5,>=3.1.4; python_version >= \"3\" in /usr/local/lib/python3.6/dist-packages (from google-auth<2,>=1.6.3->tensorboard~=2.4->tensorflow<=2.4.0->Potosnail==0.0.6) (4.7)\n",
            "Requirement already satisfied: importlib-metadata; python_version < \"3.8\" in /usr/local/lib/python3.6/dist-packages (from markdown>=2.6.8->tensorboard~=2.4->tensorflow<=2.4.0->Potosnail==0.0.6) (3.4.0)\n",
            "Requirement already satisfied: requests-oauthlib>=0.7.0 in /usr/local/lib/python3.6/dist-packages (from google-auth-oauthlib<0.5,>=0.4.1->tensorboard~=2.4->tensorflow<=2.4.0->Potosnail==0.0.6) (1.3.0)\n",
            "Requirement already satisfied: idna<3,>=2.5 in /usr/local/lib/python3.6/dist-packages (from requests<3,>=2.21.0->tensorboard~=2.4->tensorflow<=2.4.0->Potosnail==0.0.6) (2.10)\n",
            "Requirement already satisfied: chardet<4,>=3.0.2 in /usr/local/lib/python3.6/dist-packages (from requests<3,>=2.21.0->tensorboard~=2.4->tensorflow<=2.4.0->Potosnail==0.0.6) (3.0.4)\n",
            "Requirement already satisfied: certifi>=2017.4.17 in /usr/local/lib/python3.6/dist-packages (from requests<3,>=2.21.0->tensorboard~=2.4->tensorflow<=2.4.0->Potosnail==0.0.6) (2020.12.5)\n",
            "Requirement already satisfied: pyasn1<0.5.0,>=0.4.6 in /usr/local/lib/python3.6/dist-packages (from pyasn1-modules>=0.2.1->google-auth<2,>=1.6.3->tensorboard~=2.4->tensorflow<=2.4.0->Potosnail==0.0.6) (0.4.8)\n",
            "Requirement already satisfied: zipp>=0.5 in /usr/local/lib/python3.6/dist-packages (from importlib-metadata; python_version < \"3.8\"->markdown>=2.6.8->tensorboard~=2.4->tensorflow<=2.4.0->Potosnail==0.0.6) (3.4.0)\n",
            "Requirement already satisfied: oauthlib>=3.0.0 in /usr/local/lib/python3.6/dist-packages (from requests-oauthlib>=0.7.0->google-auth-oauthlib<0.5,>=0.4.1->tensorboard~=2.4->tensorflow<=2.4.0->Potosnail==0.0.6) (3.1.0)\n"
          ],
          "name": "stdout"
        }
      ]
    },
    {
      "cell_type": "code",
      "metadata": {
        "id": "tkOUAf-biaqy",
        "colab": {
          "base_uri": "https://localhost:8080/"
        },
        "outputId": "95c805c3-fa12-47d5-bb56-c5a39596f57e"
      },
      "source": [
        "import pandas as pd\r\n",
        "import numpy as np\r\n",
        "from google.colab import files\r\n",
        "import zipfile\r\n",
        "import io\r\n",
        "from potosnail import MachineLearning, DeepLearning, DataHelper, Evaluater, Algorithms, Wrappers\r\n",
        "from sklearn.datasets import load_breast_cancer, load_boston\r\n",
        "\r\n",
        "ml = MachineLearning()\r\n",
        "dl = DeepLearning()\r\n",
        "dh = DataHelper()\r\n",
        "ev = Evaluater()\r\n",
        "al = Algorithms()\r\n",
        "wr = Wrappers()"
      ],
      "execution_count": 2,
      "outputs": [
        {
          "output_type": "stream",
          "text": [
            "/usr/local/lib/python3.6/dist-packages/sklearn/externals/six.py:31: FutureWarning: The module is deprecated in version 0.21 and will be removed in version 0.23 since we've dropped support for Python 2.7. Please rely on the official version of six (https://pypi.org/project/six/).\n",
            "  \"(https://pypi.org/project/six/).\", FutureWarning)\n",
            "/usr/local/lib/python3.6/dist-packages/sklearn/utils/deprecation.py:144: FutureWarning: The sklearn.neighbors.base module is  deprecated in version 0.22 and will be removed in version 0.24. The corresponding classes / functions should instead be imported from sklearn.neighbors. Anything that cannot be imported from sklearn.neighbors is now part of the private API.\n",
            "  warnings.warn(message, FutureWarning)\n",
            "/usr/local/lib/python3.6/dist-packages/statsmodels/tools/_testing.py:19: FutureWarning: pandas.util.testing is deprecated. Use the functions in the public API at pandas.testing instead.\n",
            "  import pandas.util.testing as tm\n"
          ],
          "name": "stderr"
        }
      ]
    },
    {
      "cell_type": "code",
      "metadata": {
        "id": "mFpGgfO1in7_"
      },
      "source": [
        "#Dataframes\r\n",
        "Wikipedia = pd.read_csv('https://raw.githubusercontent.com/spe301/AI-generated-AI/main/Data/Wikipedia.csv') #text\r\n",
        "Twitter = pd.read_csv('https://raw.githubusercontent.com/spe301/AI-generated-AI/main/Data/Twitter.csv') #text\r\n",
        "\r\n",
        "#Series\r\n",
        "articles = Wikipedia['Text']\r\n",
        "labels = Wikipedia['AI']\r\n",
        "tweets = Twitter['tweet']\r\n",
        "sentiments = Twitter['is_there_an_emotion_directed_at_a_brand_or_product']\r\n",
        "\r\n",
        "#arrays\r\n",
        "cancer_data = load_breast_cancer()['data']\r\n",
        "diagnosis = dl.MulticlassOutput(load_breast_cancer()['target'])\r\n",
        "housing_data = load_boston()['data']\r\n",
        "prices = load_boston()['target']\r\n",
        "\r\n",
        "#images\r\n",
        "#uploaded = files.upload()\r\n",
        "#data = zipfile.ZipFile(io.BytesIO(uploaded['IMGDS1.zip']), 'r')\r\n",
        "#data.extractall()"
      ],
      "execution_count": 3,
      "outputs": []
    },
    {
      "cell_type": "code",
      "metadata": {
        "id": "jw_1INBCkZGp"
      },
      "source": [
        "#image directories... if any"
      ],
      "execution_count": null,
      "outputs": []
    },
    {
      "cell_type": "markdown",
      "metadata": {
        "id": "h5Ts1HBi8muZ"
      },
      "source": [
        "# Parameter Grid Templates\r\n",
        "\r\n",
        "rnn_grid = {'output_dim': [int], 'embedding': [vocab], 'nodes': [int], 'activation': [str], \r\n",
        "              'regularizer': [None or str], 'stacking': [bool], 'dropout': [bool], 'optimizer': [str], \r\n",
        "              'method': [str], 'bidirectional': [bool]} \r\n",
        "\r\n",
        "cnn_grid = {'output_dim': [int], 'base_filters':[int], 'kernel_size': [int], 'activation': [str], \r\n",
        "            'nblocks': [int], 'pool':[int], 'dropout': [bool], 'closer': [bool], 'optimizer': [str], \r\n",
        "            'metrics': [str]}\r\n",
        "\r\n",
        "tc_grid = {'output_dim': [int], 'nodes': [int], 'activation': [str], 'regularizer': [None or str], 'stacking': [bool], \r\n",
        "               'dropout': [bool], 'nlayers': [int], 'closer': [bool], 'loss': [str], 'optimizer': [str]}\r\n",
        "\r\n",
        "tr_grid = {'nodes': [int], 'activation': [str], 'regularizer': [None or str], 'stacking': [bool], 'dropout': [bool], 'nlayers': [int], 'closer': [bool], \r\n",
        "                'loss': [str], 'optimizer': [str], 'y_col': [str]}"
      ]
    },
    {
      "cell_type": "code",
      "metadata": {
        "id": "Vz9Sy7FZKpe7"
      },
      "source": [
        "def TCP(X, y):\r\n",
        "  dl = DeepLearning()\r\n",
        "  avg = 0\r\n",
        "  words = []\r\n",
        "  for i in range(len(X)):\r\n",
        "    avg += len(list(X)[i].split(' '))/len(X)\r\n",
        "    word_lst = list(X)[i].replace('\\n', ' ').split(' ')\r\n",
        "    for word in word_lst:\r\n",
        "      words.append(word.replace('.', '').replace(',', '').replace(' ', '').replace('\"', '').replace(':', '').replace(';', '').replace('!', ''))\r\n",
        "  pad = int(avg)\r\n",
        "  text, labels = dl.ModelReadyText1(X, y, pad)    \r\n",
        "  return text, labels, len(np.unique(words))"
      ],
      "execution_count": 60,
      "outputs": []
    },
    {
      "cell_type": "code",
      "metadata": {
        "id": "mJLOtNILEUxZ"
      },
      "source": [
        "def Preprocess(df, data_str, target_str):\r\n",
        "  '''fully preprocesses a dataframe of Text Documents for classification'''\r\n",
        "  avg = 0\r\n",
        "  for i in range(len(df[data_str])):\r\n",
        "    avg += len(list(df[data_str])[i].split(' '))/len(df)\r\n",
        "  pad = int(avg)\r\n",
        "  text, labels = dl.ModelReadyText1(df[data_str], df[target_str], pad)\r\n",
        "  return text, labels\r\n",
        "\r\n",
        "blogs, blog_labels = Preprocess(Wikipedia, 'Text', 'AI')\r\n",
        "tweets, tweet_labels = Preprocess(Twitter, 'tweet', 'is_there_an_emotion_directed_at_a_brand_or_product')"
      ],
      "execution_count": 43,
      "outputs": []
    },
    {
      "cell_type": "code",
      "metadata": {
        "id": "m9IlN0w4EiXP"
      },
      "source": [
        "def GetVocab(df, data_str):\r\n",
        "  words = []\r\n",
        "  for i in range(len(df)):\r\n",
        "    word_lst = list(df[data_str])[i].replace('\\n', ' ').split(' ')\r\n",
        "    for word in word_lst:\r\n",
        "      words.append(word.replace('.', '').replace(',', '').replace(' ', '').replace('\"', '').replace(':', '').replace(';', '').replace('!', ''))\r\n",
        "  return len(np.unique(words))"
      ],
      "execution_count": 44,
      "outputs": []
    },
    {
      "cell_type": "code",
      "metadata": {
        "id": "F4FIRop_Eo0f"
      },
      "source": [
        "blogs_vocab = GetVocab(Wikipedia, 'Text')\r\n",
        "tweets_vocab = GetVocab(Twitter, 'tweet')"
      ],
      "execution_count": 46,
      "outputs": []
    },
    {
      "cell_type": "code",
      "metadata": {
        "id": "PU4v6-JyN5mV"
      },
      "source": [
        "def BigDawg(X, y, params, task):\r\n",
        "  dl = DeepLearning()\r\n",
        "  if task == 'NLP':\r\n",
        "    X2, y2, _ = TCP(X, y)\r\n",
        "    func = dl.RNN\r\n",
        "  try:\r\n",
        "    return dl.CollectPerformance(params, func, X2, y2)\r\n",
        "  except:\r\n",
        "    return dl.CollectPerformance(params, func, X2, y2.reshape(-1))"
      ],
      "execution_count": 62,
      "outputs": []
    },
    {
      "cell_type": "code",
      "metadata": {
        "colab": {
          "base_uri": "https://localhost:8080/",
          "height": 1000
        },
        "id": "vAg_W7M9E14F",
        "outputId": "b1b492b5-9da7-47ea-adff-ab60ff6e3dba"
      },
      "source": [
        "_, _, embed = TCP(articles, labels)\r\n",
        "rnn_grid = {'output_dim': [2], 'embedding': [embed], 'nodes': [64], 'activation': ['tanh', 'relu'], 'regularizer': [None, 'L1'], \r\n",
        "            'stacking': [False], 'dropout': [False], 'optimizer': ['adam'], 'method': ['GRU'], 'bidirectional': [False]}\r\n",
        "\r\n",
        "#X = blogs\r\n",
        "#y = blog_labels\r\n",
        "\r\n",
        "#try:\r\n",
        "  #print(dl.CollectPerformance(rnn_grid, dl.RNN, X, y))\r\n",
        "#except:\r\n",
        "  #print(dl.CollectPerformance(rnn_grid, dl.RNN, X, y.reshape(-1)))\r\n",
        "\r\n",
        "BigDawg(articles, labels, rnn_grid, 'NLP')"
      ],
      "execution_count": 63,
      "outputs": [
        {
          "output_type": "stream",
          "text": [
            "preforming 4 total fits ...\n",
            "Epoch 1/50\n",
            "9/9 [==============================] - 10s 934ms/step - loss: 0.6864 - accuracy: 0.6110 - val_loss: 0.7904 - val_accuracy: 0.0000e+00\n",
            "Epoch 2/50\n",
            "9/9 [==============================] - 8s 902ms/step - loss: 0.6493 - accuracy: 0.6571 - val_loss: 0.9369 - val_accuracy: 0.0000e+00\n",
            "Epoch 3/50\n",
            "9/9 [==============================] - 8s 850ms/step - loss: 0.6087 - accuracy: 0.6061 - val_loss: 1.0260 - val_accuracy: 0.0000e+00\n",
            "Epoch 4/50\n",
            "9/9 [==============================] - 8s 846ms/step - loss: 0.4926 - accuracy: 0.7119 - val_loss: 0.7594 - val_accuracy: 0.5139\n",
            "Epoch 5/50\n",
            "9/9 [==============================] - 8s 838ms/step - loss: 0.5642 - accuracy: 0.8532 - val_loss: 3.0099 - val_accuracy: 0.0000e+00\n",
            "Epoch 6/50\n",
            "9/9 [==============================] - 8s 849ms/step - loss: 1.1413 - accuracy: 0.6198 - val_loss: 2.4633 - val_accuracy: 0.0000e+00\n",
            "Epoch 7/50\n",
            "9/9 [==============================] - 7s 831ms/step - loss: 0.9394 - accuracy: 0.6196 - val_loss: 1.9994 - val_accuracy: 0.0000e+00\n",
            "Epoch 8/50\n",
            "9/9 [==============================] - 8s 834ms/step - loss: 0.8289 - accuracy: 0.6231 - val_loss: 1.7805 - val_accuracy: 0.0000e+00\n",
            "Epoch 9/50\n",
            "9/9 [==============================] - 7s 838ms/step - loss: 0.7506 - accuracy: 0.6357 - val_loss: 1.4860 - val_accuracy: 0.0000e+00\n",
            "1 of 4 fits complete!\n",
            "Epoch 1/50\n",
            "9/9 [==============================] - 10s 904ms/step - loss: 0.6890 - accuracy: 0.6149 - val_loss: 0.7709 - val_accuracy: 0.0000e+00\n",
            "Epoch 2/50\n",
            "9/9 [==============================] - 8s 838ms/step - loss: 0.6602 - accuracy: 0.6353 - val_loss: 0.9294 - val_accuracy: 0.0000e+00\n",
            "Epoch 3/50\n",
            "9/9 [==============================] - 8s 855ms/step - loss: 0.6052 - accuracy: 0.6538 - val_loss: 1.1135 - val_accuracy: 0.0000e+00\n",
            "Epoch 4/50\n",
            "9/9 [==============================] - 8s 878ms/step - loss: 0.5265 - accuracy: 0.6705 - val_loss: 0.8344 - val_accuracy: 0.3194\n",
            "Epoch 5/50\n",
            "9/9 [==============================] - 8s 853ms/step - loss: 0.3225 - accuracy: 0.9816 - val_loss: 0.7480 - val_accuracy: 0.6528\n",
            "Epoch 6/50\n",
            "9/9 [==============================] - 8s 856ms/step - loss: 0.1104 - accuracy: 0.9821 - val_loss: 1.1737 - val_accuracy: 0.5139\n",
            "Epoch 7/50\n",
            "9/9 [==============================] - 8s 843ms/step - loss: 0.0531 - accuracy: 1.0000 - val_loss: 1.2401 - val_accuracy: 0.5417\n",
            "Epoch 8/50\n",
            "9/9 [==============================] - 8s 844ms/step - loss: 0.0383 - accuracy: 1.0000 - val_loss: 1.1609 - val_accuracy: 0.6250\n",
            "Epoch 9/50\n",
            "9/9 [==============================] - 8s 842ms/step - loss: 0.0308 - accuracy: 1.0000 - val_loss: 1.1645 - val_accuracy: 0.6667\n",
            "Epoch 10/50\n",
            "9/9 [==============================] - 8s 847ms/step - loss: 0.0260 - accuracy: 1.0000 - val_loss: 1.2062 - val_accuracy: 0.6667\n",
            "2 of 4 fits complete!\n",
            "Epoch 1/50\n",
            "9/9 [==============================] - 11s 1s/step - loss: 0.6885 - accuracy: 0.5273 - val_loss: 0.7999 - val_accuracy: 0.0000e+00\n",
            "Epoch 2/50\n",
            "9/9 [==============================] - 9s 965ms/step - loss: 0.6545 - accuracy: 0.6346 - val_loss: 0.9854 - val_accuracy: 0.0000e+00\n",
            "Epoch 3/50\n",
            "9/9 [==============================] - 8s 941ms/step - loss: 0.6127 - accuracy: 0.6203 - val_loss: 1.0599 - val_accuracy: 0.0000e+00\n",
            "Epoch 4/50\n",
            "9/9 [==============================] - 9s 978ms/step - loss: 0.4765 - accuracy: 0.7199 - val_loss: 0.6011 - val_accuracy: 0.7083\n",
            "Epoch 5/50\n",
            "9/9 [==============================] - 9s 989ms/step - loss: 0.6101 - accuracy: 0.8315 - val_loss: 3.0638 - val_accuracy: 0.0000e+00\n",
            "Epoch 6/50\n",
            "9/9 [==============================] - 9s 973ms/step - loss: 0.8800 - accuracy: 0.7150 - val_loss: 0.4934 - val_accuracy: 0.7639\n",
            "Epoch 7/50\n",
            "9/9 [==============================] - 8s 877ms/step - loss: 0.1180 - accuracy: 0.9860 - val_loss: 0.3691 - val_accuracy: 0.8750\n",
            "Epoch 8/50\n",
            "9/9 [==============================] - 8s 899ms/step - loss: 0.1161 - accuracy: 1.0000 - val_loss: 0.5290 - val_accuracy: 0.7639\n",
            "Epoch 9/50\n",
            "9/9 [==============================] - 8s 881ms/step - loss: 0.0866 - accuracy: 1.0000 - val_loss: 0.6883 - val_accuracy: 0.6111\n",
            "Epoch 10/50\n",
            "9/9 [==============================] - 8s 897ms/step - loss: 0.0726 - accuracy: 1.0000 - val_loss: 0.7793 - val_accuracy: 0.5694\n",
            "Epoch 11/50\n",
            "9/9 [==============================] - 8s 879ms/step - loss: 0.0633 - accuracy: 1.0000 - val_loss: 0.8236 - val_accuracy: 0.5694\n",
            "Epoch 12/50\n",
            "9/9 [==============================] - 8s 892ms/step - loss: 0.0566 - accuracy: 1.0000 - val_loss: 0.8407 - val_accuracy: 0.5694\n",
            "3 of 4 fits complete!\n",
            "Epoch 1/50\n",
            "9/9 [==============================] - 11s 1s/step - loss: 0.6907 - accuracy: 0.5145 - val_loss: 0.7646 - val_accuracy: 0.0000e+00\n",
            "Epoch 2/50\n",
            "9/9 [==============================] - 9s 1s/step - loss: 0.6642 - accuracy: 0.6167 - val_loss: 0.9017 - val_accuracy: 0.0000e+00\n",
            "Epoch 3/50\n",
            "9/9 [==============================] - 9s 1s/step - loss: 0.6129 - accuracy: 0.6424 - val_loss: 1.0951 - val_accuracy: 0.0000e+00\n",
            "Epoch 4/50\n",
            "9/9 [==============================] - 9s 1s/step - loss: 0.4892 - accuracy: 0.7014 - val_loss: 0.8653 - val_accuracy: 0.3056\n",
            "Epoch 5/50\n",
            "9/9 [==============================] - 9s 956ms/step - loss: 0.4391 - accuracy: 0.9282 - val_loss: 3.0463 - val_accuracy: 0.0000e+00\n",
            "Epoch 6/50\n",
            "9/9 [==============================] - 9s 1s/step - loss: 1.1110 - accuracy: 0.6312 - val_loss: 2.5936 - val_accuracy: 0.0000e+00\n",
            "4 of 4 fits complete!\n"
          ],
          "name": "stdout"
        },
        {
          "output_type": "execute_result",
          "data": {
            "text/html": [
              "<div>\n",
              "<style scoped>\n",
              "    .dataframe tbody tr th:only-of-type {\n",
              "        vertical-align: middle;\n",
              "    }\n",
              "\n",
              "    .dataframe tbody tr th {\n",
              "        vertical-align: top;\n",
              "    }\n",
              "\n",
              "    .dataframe thead th {\n",
              "        text-align: right;\n",
              "    }\n",
              "</style>\n",
              "<table border=\"1\" class=\"dataframe\">\n",
              "  <thead>\n",
              "    <tr style=\"text-align: right;\">\n",
              "      <th></th>\n",
              "      <th>output_dim</th>\n",
              "      <th>embedding</th>\n",
              "      <th>nodes</th>\n",
              "      <th>activation</th>\n",
              "      <th>regularizer</th>\n",
              "      <th>stacking</th>\n",
              "      <th>dropout</th>\n",
              "      <th>optimizer</th>\n",
              "      <th>bidirectional</th>\n",
              "      <th>epochs</th>\n",
              "      <th>batch_size</th>\n",
              "      <th>method</th>\n",
              "      <th>accuracy</th>\n",
              "      <th>loss</th>\n",
              "      <th>val_accuracy</th>\n",
              "      <th>val_loss</th>\n",
              "    </tr>\n",
              "  </thead>\n",
              "  <tbody>\n",
              "    <tr>\n",
              "      <th>0</th>\n",
              "      <td>2</td>\n",
              "      <td>45589</td>\n",
              "      <td>64</td>\n",
              "      <td>tanh</td>\n",
              "      <td>None</td>\n",
              "      <td>False</td>\n",
              "      <td>False</td>\n",
              "      <td>adam</td>\n",
              "      <td>False</td>\n",
              "      <td>9</td>\n",
              "      <td>32</td>\n",
              "      <td>GRU</td>\n",
              "      <td>0.625000</td>\n",
              "      <td>0.753217</td>\n",
              "      <td>0.000000</td>\n",
              "      <td>1.485980</td>\n",
              "    </tr>\n",
              "    <tr>\n",
              "      <th>1</th>\n",
              "      <td>2</td>\n",
              "      <td>45589</td>\n",
              "      <td>64</td>\n",
              "      <td>tanh</td>\n",
              "      <td>L1</td>\n",
              "      <td>False</td>\n",
              "      <td>False</td>\n",
              "      <td>adam</td>\n",
              "      <td>False</td>\n",
              "      <td>10</td>\n",
              "      <td>32</td>\n",
              "      <td>GRU</td>\n",
              "      <td>1.000000</td>\n",
              "      <td>0.025232</td>\n",
              "      <td>0.666667</td>\n",
              "      <td>1.206231</td>\n",
              "    </tr>\n",
              "    <tr>\n",
              "      <th>2</th>\n",
              "      <td>2</td>\n",
              "      <td>45589</td>\n",
              "      <td>64</td>\n",
              "      <td>relu</td>\n",
              "      <td>None</td>\n",
              "      <td>False</td>\n",
              "      <td>False</td>\n",
              "      <td>adam</td>\n",
              "      <td>False</td>\n",
              "      <td>12</td>\n",
              "      <td>32</td>\n",
              "      <td>GRU</td>\n",
              "      <td>1.000000</td>\n",
              "      <td>0.055502</td>\n",
              "      <td>0.569444</td>\n",
              "      <td>0.840654</td>\n",
              "    </tr>\n",
              "    <tr>\n",
              "      <th>3</th>\n",
              "      <td>2</td>\n",
              "      <td>45589</td>\n",
              "      <td>64</td>\n",
              "      <td>relu</td>\n",
              "      <td>L1</td>\n",
              "      <td>False</td>\n",
              "      <td>False</td>\n",
              "      <td>adam</td>\n",
              "      <td>False</td>\n",
              "      <td>6</td>\n",
              "      <td>32</td>\n",
              "      <td>GRU</td>\n",
              "      <td>0.621528</td>\n",
              "      <td>1.106259</td>\n",
              "      <td>0.000000</td>\n",
              "      <td>2.593630</td>\n",
              "    </tr>\n",
              "  </tbody>\n",
              "</table>\n",
              "</div>"
            ],
            "text/plain": [
              "   output_dim  embedding  nodes  ...      loss val_accuracy  val_loss\n",
              "0           2      45589     64  ...  0.753217     0.000000  1.485980\n",
              "1           2      45589     64  ...  0.025232     0.666667  1.206231\n",
              "2           2      45589     64  ...  0.055502     0.569444  0.840654\n",
              "3           2      45589     64  ...  1.106259     0.000000  2.593630\n",
              "\n",
              "[4 rows x 16 columns]"
            ]
          },
          "metadata": {
            "tags": []
          },
          "execution_count": 63
        }
      ]
    },
    {
      "cell_type": "markdown",
      "metadata": {
        "id": "45e40R5ewtXB"
      },
      "source": [
        "# Image dataset directory graveyard\r\n",
        "copy and paste these into a code cell when working with the dataset"
      ]
    },
    {
      "cell_type": "markdown",
      "metadata": {
        "id": "1XEKeVbQwy4A"
      },
      "source": [
        "Dogs and Cats\r\n",
        "train_dir = r'dataset/training_set'\r\n",
        "\r\n",
        "test_dir = r'dataset/test_set'\r\n",
        "\r\n",
        "train_dogs = r'dataset/training_set/dogs'\r\n",
        "\r\n",
        "train_cats = r'dataset/training_set/cats'\r\n",
        "\r\n",
        "test_dogs = r'dataset/test_set/dogs'\r\n",
        "\r\n",
        "test_cats = r'dataset/test_set/cats'\r\n",
        "\r\n",
        "directories = [train_dir, test_dir, train_dogs, train_cats, test_dogs, test_cats]\r\n",
        "\r\n",
        "classes = ['cats', 'dogs']"
      ]
    }
  ]
}