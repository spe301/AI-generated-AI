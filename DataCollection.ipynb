{
  "nbformat": 4,
  "nbformat_minor": 0,
  "metadata": {
    "colab": {
      "name": "DataCollection.ipynb",
      "provenance": [],
      "collapsed_sections": [],
      "machine_shape": "hm",
      "mount_file_id": "1I2V0lNirHukMPPxYKVosyz7N0pKHkylJ",
      "authorship_tag": "ABX9TyPlsVX09TfLztagL5AtujCR",
      "include_colab_link": true
    },
    "kernelspec": {
      "name": "python3",
      "display_name": "Python 3"
    },
    "accelerator": "GPU"
  },
  "cells": [
    {
      "cell_type": "markdown",
      "metadata": {
        "id": "view-in-github",
        "colab_type": "text"
      },
      "source": [
        "<a href=\"https://colab.research.google.com/github/spe301/AI-generated-AI/blob/main/DataCollection.ipynb\" target=\"_parent\"><img src=\"https://colab.research.google.com/assets/colab-badge.svg\" alt=\"Open In Colab\"/></a>"
      ]
    },
    {
      "cell_type": "code",
      "metadata": {
        "colab": {
          "base_uri": "https://localhost:8080/"
        },
        "id": "IizlXC7jhuk2",
        "outputId": "e83c66f8-22d8-4351-f528-ef155e34d9f2"
      },
      "source": [
        "!pip install Potosnail==0.0.7"
      ],
      "execution_count": 1,
      "outputs": [
        {
          "output_type": "stream",
          "text": [
            "Requirement already satisfied: Potosnail==0.0.7 in /usr/local/lib/python3.6/dist-packages (0.0.7)\n",
            "Requirement already satisfied: imblearn<=0.0 in /usr/local/lib/python3.6/dist-packages (from Potosnail==0.0.7) (0.0)\n",
            "Requirement already satisfied: scikit-learn<=0.23.2 in /usr/local/lib/python3.6/dist-packages (from Potosnail==0.0.7) (0.22.2.post1)\n",
            "Requirement already satisfied: matplotlib<=3.3.2 in /usr/local/lib/python3.6/dist-packages (from Potosnail==0.0.7) (3.2.2)\n",
            "Requirement already satisfied: statsmodels<=0.12.0 in /usr/local/lib/python3.6/dist-packages (from Potosnail==0.0.7) (0.10.2)\n",
            "Requirement already satisfied: tensorflow<=2.4.0 in /usr/local/lib/python3.6/dist-packages (from Potosnail==0.0.7) (2.4.0)\n",
            "Requirement already satisfied: seaborn<=0.11.0 in /usr/local/lib/python3.6/dist-packages (from Potosnail==0.0.7) (0.11.0)\n",
            "Requirement already satisfied: beautifulsoup4==4.9.3 in /usr/local/lib/python3.6/dist-packages (from Potosnail==0.0.7) (4.9.3)\n",
            "Requirement already satisfied: numpy<=1.19.2 in /usr/local/lib/python3.6/dist-packages (from Potosnail==0.0.7) (1.19.2)\n",
            "Requirement already satisfied: lxml==4.6.1 in /usr/local/lib/python3.6/dist-packages (from Potosnail==0.0.7) (4.6.1)\n",
            "Requirement already satisfied: regex==2020.10.15 in /usr/local/lib/python3.6/dist-packages (from Potosnail==0.0.7) (2020.10.15)\n",
            "Requirement already satisfied: xgboost<=1.3.1 in /usr/local/lib/python3.6/dist-packages (from Potosnail==0.0.7) (0.90)\n",
            "Requirement already satisfied: urllib3==1.25.11 in /usr/local/lib/python3.6/dist-packages (from Potosnail==0.0.7) (1.25.11)\n",
            "Requirement already satisfied: pandas<=1.1.3 in /usr/local/lib/python3.6/dist-packages (from Potosnail==0.0.7) (1.1.3)\n",
            "Requirement already satisfied: imbalanced-learn in /usr/local/lib/python3.6/dist-packages (from imblearn<=0.0->Potosnail==0.0.7) (0.4.3)\n",
            "Requirement already satisfied: joblib>=0.11 in /usr/local/lib/python3.6/dist-packages (from scikit-learn<=0.23.2->Potosnail==0.0.7) (1.0.0)\n",
            "Requirement already satisfied: scipy>=0.17.0 in /usr/local/lib/python3.6/dist-packages (from scikit-learn<=0.23.2->Potosnail==0.0.7) (1.4.1)\n",
            "Requirement already satisfied: python-dateutil>=2.1 in /usr/local/lib/python3.6/dist-packages (from matplotlib<=3.3.2->Potosnail==0.0.7) (2.8.1)\n",
            "Requirement already satisfied: cycler>=0.10 in /usr/local/lib/python3.6/dist-packages (from matplotlib<=3.3.2->Potosnail==0.0.7) (0.10.0)\n",
            "Requirement already satisfied: pyparsing!=2.0.4,!=2.1.2,!=2.1.6,>=2.0.1 in /usr/local/lib/python3.6/dist-packages (from matplotlib<=3.3.2->Potosnail==0.0.7) (2.4.7)\n",
            "Requirement already satisfied: kiwisolver>=1.0.1 in /usr/local/lib/python3.6/dist-packages (from matplotlib<=3.3.2->Potosnail==0.0.7) (1.3.1)\n",
            "Requirement already satisfied: patsy>=0.4.0 in /usr/local/lib/python3.6/dist-packages (from statsmodels<=0.12.0->Potosnail==0.0.7) (0.5.1)\n",
            "Requirement already satisfied: typing-extensions~=3.7.4 in /usr/local/lib/python3.6/dist-packages (from tensorflow<=2.4.0->Potosnail==0.0.7) (3.7.4.3)\n",
            "Requirement already satisfied: wrapt~=1.12.1 in /usr/local/lib/python3.6/dist-packages (from tensorflow<=2.4.0->Potosnail==0.0.7) (1.12.1)\n",
            "Requirement already satisfied: tensorflow-estimator<2.5.0,>=2.4.0rc0 in /usr/local/lib/python3.6/dist-packages (from tensorflow<=2.4.0->Potosnail==0.0.7) (2.4.0)\n",
            "Requirement already satisfied: google-pasta~=0.2 in /usr/local/lib/python3.6/dist-packages (from tensorflow<=2.4.0->Potosnail==0.0.7) (0.2.0)\n",
            "Requirement already satisfied: gast==0.3.3 in /usr/local/lib/python3.6/dist-packages (from tensorflow<=2.4.0->Potosnail==0.0.7) (0.3.3)\n",
            "Requirement already satisfied: termcolor~=1.1.0 in /usr/local/lib/python3.6/dist-packages (from tensorflow<=2.4.0->Potosnail==0.0.7) (1.1.0)\n",
            "Requirement already satisfied: wheel~=0.35 in /usr/local/lib/python3.6/dist-packages (from tensorflow<=2.4.0->Potosnail==0.0.7) (0.36.2)\n",
            "Requirement already satisfied: h5py~=2.10.0 in /usr/local/lib/python3.6/dist-packages (from tensorflow<=2.4.0->Potosnail==0.0.7) (2.10.0)\n",
            "Requirement already satisfied: flatbuffers~=1.12.0 in /usr/local/lib/python3.6/dist-packages (from tensorflow<=2.4.0->Potosnail==0.0.7) (1.12)\n",
            "Requirement already satisfied: keras-preprocessing~=1.1.2 in /usr/local/lib/python3.6/dist-packages (from tensorflow<=2.4.0->Potosnail==0.0.7) (1.1.2)\n",
            "Requirement already satisfied: opt-einsum~=3.3.0 in /usr/local/lib/python3.6/dist-packages (from tensorflow<=2.4.0->Potosnail==0.0.7) (3.3.0)\n",
            "Requirement already satisfied: six~=1.15.0 in /usr/local/lib/python3.6/dist-packages (from tensorflow<=2.4.0->Potosnail==0.0.7) (1.15.0)\n",
            "Requirement already satisfied: tensorboard~=2.4 in /usr/local/lib/python3.6/dist-packages (from tensorflow<=2.4.0->Potosnail==0.0.7) (2.4.1)\n",
            "Requirement already satisfied: protobuf>=3.9.2 in /usr/local/lib/python3.6/dist-packages (from tensorflow<=2.4.0->Potosnail==0.0.7) (3.12.4)\n",
            "Requirement already satisfied: absl-py~=0.10 in /usr/local/lib/python3.6/dist-packages (from tensorflow<=2.4.0->Potosnail==0.0.7) (0.10.0)\n",
            "Requirement already satisfied: astunparse~=1.6.3 in /usr/local/lib/python3.6/dist-packages (from tensorflow<=2.4.0->Potosnail==0.0.7) (1.6.3)\n",
            "Requirement already satisfied: grpcio~=1.32.0 in /usr/local/lib/python3.6/dist-packages (from tensorflow<=2.4.0->Potosnail==0.0.7) (1.32.0)\n",
            "Requirement already satisfied: soupsieve>1.2; python_version >= \"3.0\" in /usr/local/lib/python3.6/dist-packages (from beautifulsoup4==4.9.3->Potosnail==0.0.7) (2.2)\n",
            "Requirement already satisfied: pytz>=2017.2 in /usr/local/lib/python3.6/dist-packages (from pandas<=1.1.3->Potosnail==0.0.7) (2018.9)\n",
            "Requirement already satisfied: setuptools>=41.0.0 in /usr/local/lib/python3.6/dist-packages (from tensorboard~=2.4->tensorflow<=2.4.0->Potosnail==0.0.7) (53.0.0)\n",
            "Requirement already satisfied: tensorboard-plugin-wit>=1.6.0 in /usr/local/lib/python3.6/dist-packages (from tensorboard~=2.4->tensorflow<=2.4.0->Potosnail==0.0.7) (1.8.0)\n",
            "Requirement already satisfied: werkzeug>=0.11.15 in /usr/local/lib/python3.6/dist-packages (from tensorboard~=2.4->tensorflow<=2.4.0->Potosnail==0.0.7) (1.0.1)\n",
            "Requirement already satisfied: requests<3,>=2.21.0 in /usr/local/lib/python3.6/dist-packages (from tensorboard~=2.4->tensorflow<=2.4.0->Potosnail==0.0.7) (2.23.0)\n",
            "Requirement already satisfied: google-auth<2,>=1.6.3 in /usr/local/lib/python3.6/dist-packages (from tensorboard~=2.4->tensorflow<=2.4.0->Potosnail==0.0.7) (1.25.0)\n",
            "Requirement already satisfied: markdown>=2.6.8 in /usr/local/lib/python3.6/dist-packages (from tensorboard~=2.4->tensorflow<=2.4.0->Potosnail==0.0.7) (3.3.3)\n",
            "Requirement already satisfied: google-auth-oauthlib<0.5,>=0.4.1 in /usr/local/lib/python3.6/dist-packages (from tensorboard~=2.4->tensorflow<=2.4.0->Potosnail==0.0.7) (0.4.2)\n",
            "Requirement already satisfied: chardet<4,>=3.0.2 in /usr/local/lib/python3.6/dist-packages (from requests<3,>=2.21.0->tensorboard~=2.4->tensorflow<=2.4.0->Potosnail==0.0.7) (3.0.4)\n",
            "Requirement already satisfied: certifi>=2017.4.17 in /usr/local/lib/python3.6/dist-packages (from requests<3,>=2.21.0->tensorboard~=2.4->tensorflow<=2.4.0->Potosnail==0.0.7) (2020.12.5)\n",
            "Requirement already satisfied: idna<3,>=2.5 in /usr/local/lib/python3.6/dist-packages (from requests<3,>=2.21.0->tensorboard~=2.4->tensorflow<=2.4.0->Potosnail==0.0.7) (2.10)\n",
            "Requirement already satisfied: cachetools<5.0,>=2.0.0 in /usr/local/lib/python3.6/dist-packages (from google-auth<2,>=1.6.3->tensorboard~=2.4->tensorflow<=2.4.0->Potosnail==0.0.7) (4.2.1)\n",
            "Requirement already satisfied: pyasn1-modules>=0.2.1 in /usr/local/lib/python3.6/dist-packages (from google-auth<2,>=1.6.3->tensorboard~=2.4->tensorflow<=2.4.0->Potosnail==0.0.7) (0.2.8)\n",
            "Requirement already satisfied: rsa<5,>=3.1.4; python_version >= \"3.6\" in /usr/local/lib/python3.6/dist-packages (from google-auth<2,>=1.6.3->tensorboard~=2.4->tensorflow<=2.4.0->Potosnail==0.0.7) (4.7)\n",
            "Requirement already satisfied: importlib-metadata; python_version < \"3.8\" in /usr/local/lib/python3.6/dist-packages (from markdown>=2.6.8->tensorboard~=2.4->tensorflow<=2.4.0->Potosnail==0.0.7) (3.4.0)\n",
            "Requirement already satisfied: requests-oauthlib>=0.7.0 in /usr/local/lib/python3.6/dist-packages (from google-auth-oauthlib<0.5,>=0.4.1->tensorboard~=2.4->tensorflow<=2.4.0->Potosnail==0.0.7) (1.3.0)\n",
            "Requirement already satisfied: pyasn1<0.5.0,>=0.4.6 in /usr/local/lib/python3.6/dist-packages (from pyasn1-modules>=0.2.1->google-auth<2,>=1.6.3->tensorboard~=2.4->tensorflow<=2.4.0->Potosnail==0.0.7) (0.4.8)\n",
            "Requirement already satisfied: zipp>=0.5 in /usr/local/lib/python3.6/dist-packages (from importlib-metadata; python_version < \"3.8\"->markdown>=2.6.8->tensorboard~=2.4->tensorflow<=2.4.0->Potosnail==0.0.7) (3.4.0)\n",
            "Requirement already satisfied: oauthlib>=3.0.0 in /usr/local/lib/python3.6/dist-packages (from requests-oauthlib>=0.7.0->google-auth-oauthlib<0.5,>=0.4.1->tensorboard~=2.4->tensorflow<=2.4.0->Potosnail==0.0.7) (3.1.0)\n"
          ],
          "name": "stdout"
        }
      ]
    },
    {
      "cell_type": "code",
      "metadata": {
        "id": "tkOUAf-biaqy"
      },
      "source": [
        "import pandas as pd\r\n",
        "import numpy as np\r\n",
        "from google.colab import files\r\n",
        "import zipfile\r\n",
        "import io\r\n",
        "from potosnail import MachineLearning, DeepLearning, DataHelper, Evaluater, Algorithms, Wrappers\r\n",
        "from sklearn.datasets import load_breast_cancer, load_boston\r\n",
        "\r\n",
        "#class instantiations\r\n",
        "ml = MachineLearning()\r\n",
        "dl = DeepLearning()\r\n",
        "dh = DataHelper()\r\n",
        "ev = Evaluater()\r\n",
        "al = Algorithms()\r\n",
        "wr = Wrappers()\r\n",
        "\r\n",
        "def BigDawg(X, y, params, task, ts=150, epochs=50, batch_size=32, patience=5, regression=False):\r\n",
        "  '''facilitates the Data Collection Process'''\r\n",
        "  dl = DeepLearning()\r\n",
        "  wr = Wrappers()\r\n",
        "  if task == 'NLP':\r\n",
        "    X2, y2, _ = wr.TCP(X, y)\r\n",
        "    func = dl.RNN #insert CV after this\r\n",
        "  if task == 'CV':\r\n",
        "    X2, _, y2, _ = dl.ModelReadyPixles(X, y, target_size=(ts, ts))\r\n",
        "    func = dl.CNN\r\n",
        "  if task == 'TC':\r\n",
        "    X2 = np.array(X)\r\n",
        "    y2 = dl.MulticlassOutput(np.array(y))\r\n",
        "    func = dl.DeepTabularClassification\r\n",
        "  if task == 'TR':\r\n",
        "    X2 = np.array(X)\r\n",
        "    y2 = np.array(y)\r\n",
        "    func = dl.DeepTabularRegression\r\n",
        "  try:\r\n",
        "    df = dl.CollectPerformance(params, func, X2, y2, epochs=epochs, batch_size=batch_size, patience=patience, regression=regression)\r\n",
        "  except:\r\n",
        "    df = dl.CollectPerformance(params, func, X2, y2.reshape(-1), epochs=epochs, batch_size=batch_size, patience=patience, regression=regression)\r\n",
        "  size = []\r\n",
        "  n_features = []\r\n",
        "  batch = []\r\n",
        "  depth = []\r\n",
        "  dominances = []\r\n",
        "  for i in range(len(df)):\r\n",
        "    size.append(X2.shape[0])\r\n",
        "    n_features.append(X2.shape[1])\r\n",
        "    dominances.append(max(pd.DataFrame(y2).value_counts())/len(y2))\r\n",
        "    if task == 'CV':\r\n",
        "      depth.append(X2.shape[3])\r\n",
        "  df['len_dataset'] = size\r\n",
        "  df['n_features'] = n_features\r\n",
        "  if regression == False:\r\n",
        "    df['dominant_class'] = dominances\r\n",
        "  if task == 'CV':\r\n",
        "    df['thickness'] = depth\r\n",
        "  return df"
      ],
      "execution_count": 3,
      "outputs": []
    },
    {
      "cell_type": "code",
      "metadata": {
        "id": "mFpGgfO1in7_"
      },
      "source": [
        "#Dataframes\r\n",
        "Wikipedia = pd.read_csv('https://raw.githubusercontent.com/spe301/AI-generated-AI/main/Data/Wikipedia.csv') #text\r\n",
        "Twitter = pd.read_csv('https://raw.githubusercontent.com/spe301/AI-generated-AI/main/Data/Twitter.csv') #text\r\n",
        "\r\n",
        "#Series\r\n",
        "articles = Wikipedia['Text']\r\n",
        "labels = Wikipedia['AI']\r\n",
        "tweets = Twitter['tweet']\r\n",
        "sentiments = Twitter['is_there_an_emotion_directed_at_a_brand_or_product']\r\n",
        "\r\n",
        "#arrays\r\n",
        "cancer_data = load_breast_cancer()['data']\r\n",
        "diagnosis = load_breast_cancer()['target']\r\n",
        "housing_data = load_boston()['data']\r\n",
        "prices = load_boston()['target']\r\n",
        "\r\n",
        "#images\r\n",
        "#uploaded = files.upload()\r\n",
        "#data = zipfile.ZipFile(io.BytesIO(uploaded['IMGDS1.zip']), 'r')\r\n",
        "#data.extractall()"
      ],
      "execution_count": 4,
      "outputs": []
    },
    {
      "cell_type": "code",
      "metadata": {
        "colab": {
          "base_uri": "https://localhost:8080/",
          "height": 404
        },
        "id": "vAg_W7M9E14F",
        "outputId": "675a647e-5a98-4ba3-fa79-be1f3d7a7e1e"
      },
      "source": [
        "X = articles\r\n",
        "y = labels\r\n",
        "\r\n",
        "df = Wikipedia\r\n",
        "data_str = 'Text'\r\n",
        "output = len(np.unique(y))\r\n",
        "embedding = dh.GetVocab(df, data_str)\r\n",
        "rnn_grid = {'output_dim': [output], 'embedding': [embedding], 'nodes': [32, 48, 64], 'activation': ['tanh', 'relu'], 'regularizer': ['L1', None], \r\n",
        "            'stacking': [False, True], 'dropout': [False, True], 'optimizer': ['adam', 'rmsprop'], 'method': ['GRU'], 'bidirectional': [False]}\r\n",
        "\r\n",
        "#output = len(y)\r\n",
        "#cnn_grid = {'output_dim': [output], 'base_filters':[32], 'kernel_size': [2], 'activation': ['relu'], 'nblocks': [3], \r\n",
        "            #'pool':[2], 'dropout': [False], 'closer': [False], 'optimizer': ['adam'], 'metrics': ['accuracy']}\r\n",
        "\r\n",
        "#output = len(np.unique(y))\r\n",
        "#tc_grid = {'output_dim': [output], 'nodes': [64, 128], 'activation': ['relu'], 'regularizer': [None], 'stacking': [False], \r\n",
        "           #'dropout': [False], 'nlayers': [4], 'closer': [False], 'loss_func': ['binary_crossentropy'], 'optimizer': ['adam']}\r\n",
        "\r\n",
        "#tr_grid = {'nodes': [32, 64, 128], 'activation': ['relu'], 'regularizer': [None], 'stacking': [False], 'dropout': [False], \r\n",
        "           #'nlayers': [4], 'closer': [False], 'loss_func': ['MSE', 'MAE'], 'optimizer': ['rmsprop'], 'y_col': ['string']}\r\n",
        "\r\n",
        "df = BigDawg(X, y, rnn_grid, 'NLP')\r\n",
        "df.shape"
      ],
      "execution_count": 12,
      "outputs": [
        {
          "output_type": "error",
          "ename": "KeyboardInterrupt",
          "evalue": "ignored",
          "traceback": [
            "\u001b[0;31m---------------------------------------------------------------------------\u001b[0m",
            "\u001b[0;31mKeyboardInterrupt\u001b[0m                         Traceback (most recent call last)",
            "\u001b[0;32m<ipython-input-12-c60af77c95e8>\u001b[0m in \u001b[0;36m<module>\u001b[0;34m()\u001b[0m\n\u001b[1;32m      5\u001b[0m \u001b[0mdata_str\u001b[0m \u001b[0;34m=\u001b[0m \u001b[0;34m'Text'\u001b[0m\u001b[0;34m\u001b[0m\u001b[0;34m\u001b[0m\u001b[0m\n\u001b[1;32m      6\u001b[0m \u001b[0moutput\u001b[0m \u001b[0;34m=\u001b[0m \u001b[0mlen\u001b[0m\u001b[0;34m(\u001b[0m\u001b[0mnp\u001b[0m\u001b[0;34m.\u001b[0m\u001b[0munique\u001b[0m\u001b[0;34m(\u001b[0m\u001b[0my\u001b[0m\u001b[0;34m)\u001b[0m\u001b[0;34m)\u001b[0m\u001b[0;34m\u001b[0m\u001b[0;34m\u001b[0m\u001b[0m\n\u001b[0;32m----> 7\u001b[0;31m \u001b[0membedding\u001b[0m \u001b[0;34m=\u001b[0m \u001b[0mdh\u001b[0m\u001b[0;34m.\u001b[0m\u001b[0mGetVocab\u001b[0m\u001b[0;34m(\u001b[0m\u001b[0mdf\u001b[0m\u001b[0;34m,\u001b[0m \u001b[0mdata_str\u001b[0m\u001b[0;34m)\u001b[0m\u001b[0;34m\u001b[0m\u001b[0;34m\u001b[0m\u001b[0m\n\u001b[0m\u001b[1;32m      8\u001b[0m rnn_grid = {'output_dim': [output], 'embedding': [embedding], 'nodes': [32, 48, 64], 'activation': ['tanh', 'relu'], 'regularizer': ['L1', None], \n\u001b[1;32m      9\u001b[0m             'stacking': [False, True], 'dropout': [False, True], 'optimizer': ['adam', 'rmsprop'], 'method': ['GRU'], 'bidirectional': [False]}\n",
            "\u001b[0;32m/usr/local/lib/python3.6/dist-packages/potosnail.py\u001b[0m in \u001b[0;36mGetVocab\u001b[0;34m(self, df, data_str)\u001b[0m\n\u001b[1;32m    592\u001b[0m             \u001b[0;32mfor\u001b[0m \u001b[0mword\u001b[0m \u001b[0;32min\u001b[0m \u001b[0mword_lst\u001b[0m\u001b[0;34m:\u001b[0m\u001b[0;34m\u001b[0m\u001b[0;34m\u001b[0m\u001b[0m\n\u001b[1;32m    593\u001b[0m                 \u001b[0mwords\u001b[0m\u001b[0;34m.\u001b[0m\u001b[0mappend\u001b[0m\u001b[0;34m(\u001b[0m\u001b[0mword\u001b[0m\u001b[0;34m.\u001b[0m\u001b[0mreplace\u001b[0m\u001b[0;34m(\u001b[0m\u001b[0;34m'.'\u001b[0m\u001b[0;34m,\u001b[0m \u001b[0;34m''\u001b[0m\u001b[0;34m)\u001b[0m\u001b[0;34m.\u001b[0m\u001b[0mreplace\u001b[0m\u001b[0;34m(\u001b[0m\u001b[0;34m','\u001b[0m\u001b[0;34m,\u001b[0m \u001b[0;34m''\u001b[0m\u001b[0;34m)\u001b[0m\u001b[0;34m.\u001b[0m\u001b[0mreplace\u001b[0m\u001b[0;34m(\u001b[0m\u001b[0;34m' '\u001b[0m\u001b[0;34m,\u001b[0m \u001b[0;34m''\u001b[0m\u001b[0;34m)\u001b[0m\u001b[0;34m.\u001b[0m\u001b[0mreplace\u001b[0m\u001b[0;34m(\u001b[0m\u001b[0;34m'\"'\u001b[0m\u001b[0;34m,\u001b[0m \u001b[0;34m''\u001b[0m\u001b[0;34m)\u001b[0m\u001b[0;34m.\u001b[0m\u001b[0mreplace\u001b[0m\u001b[0;34m(\u001b[0m\u001b[0;34m':'\u001b[0m\u001b[0;34m,\u001b[0m \u001b[0;34m''\u001b[0m\u001b[0;34m)\u001b[0m\u001b[0;34m.\u001b[0m\u001b[0mreplace\u001b[0m\u001b[0;34m(\u001b[0m\u001b[0;34m';'\u001b[0m\u001b[0;34m,\u001b[0m \u001b[0;34m''\u001b[0m\u001b[0;34m)\u001b[0m\u001b[0;34m.\u001b[0m\u001b[0mreplace\u001b[0m\u001b[0;34m(\u001b[0m\u001b[0;34m'!'\u001b[0m\u001b[0;34m,\u001b[0m \u001b[0;34m''\u001b[0m\u001b[0;34m)\u001b[0m\u001b[0;34m)\u001b[0m\u001b[0;34m\u001b[0m\u001b[0;34m\u001b[0m\u001b[0m\n\u001b[0;32m--> 594\u001b[0;31m         \u001b[0;32mreturn\u001b[0m \u001b[0mlen\u001b[0m\u001b[0;34m(\u001b[0m\u001b[0mnp\u001b[0m\u001b[0;34m.\u001b[0m\u001b[0munique\u001b[0m\u001b[0;34m(\u001b[0m\u001b[0mwords\u001b[0m\u001b[0;34m)\u001b[0m\u001b[0;34m)\u001b[0m\u001b[0;34m\u001b[0m\u001b[0;34m\u001b[0m\u001b[0m\n\u001b[0m\u001b[1;32m    595\u001b[0m \u001b[0;34m\u001b[0m\u001b[0m\n\u001b[1;32m    596\u001b[0m \u001b[0;34m\u001b[0m\u001b[0m\n",
            "\u001b[0;32m<__array_function__ internals>\u001b[0m in \u001b[0;36munique\u001b[0;34m(*args, **kwargs)\u001b[0m\n",
            "\u001b[0;32m/usr/local/lib/python3.6/dist-packages/numpy/lib/arraysetops.py\u001b[0m in \u001b[0;36munique\u001b[0;34m(ar, return_index, return_inverse, return_counts, axis)\u001b[0m\n\u001b[1;32m    259\u001b[0m     \u001b[0mar\u001b[0m \u001b[0;34m=\u001b[0m \u001b[0mnp\u001b[0m\u001b[0;34m.\u001b[0m\u001b[0masanyarray\u001b[0m\u001b[0;34m(\u001b[0m\u001b[0mar\u001b[0m\u001b[0;34m)\u001b[0m\u001b[0;34m\u001b[0m\u001b[0;34m\u001b[0m\u001b[0m\n\u001b[1;32m    260\u001b[0m     \u001b[0;32mif\u001b[0m \u001b[0maxis\u001b[0m \u001b[0;32mis\u001b[0m \u001b[0;32mNone\u001b[0m\u001b[0;34m:\u001b[0m\u001b[0;34m\u001b[0m\u001b[0;34m\u001b[0m\u001b[0m\n\u001b[0;32m--> 261\u001b[0;31m         \u001b[0mret\u001b[0m \u001b[0;34m=\u001b[0m \u001b[0m_unique1d\u001b[0m\u001b[0;34m(\u001b[0m\u001b[0mar\u001b[0m\u001b[0;34m,\u001b[0m \u001b[0mreturn_index\u001b[0m\u001b[0;34m,\u001b[0m \u001b[0mreturn_inverse\u001b[0m\u001b[0;34m,\u001b[0m \u001b[0mreturn_counts\u001b[0m\u001b[0;34m)\u001b[0m\u001b[0;34m\u001b[0m\u001b[0;34m\u001b[0m\u001b[0m\n\u001b[0m\u001b[1;32m    262\u001b[0m         \u001b[0;32mreturn\u001b[0m \u001b[0m_unpack_tuple\u001b[0m\u001b[0;34m(\u001b[0m\u001b[0mret\u001b[0m\u001b[0;34m)\u001b[0m\u001b[0;34m\u001b[0m\u001b[0;34m\u001b[0m\u001b[0m\n\u001b[1;32m    263\u001b[0m \u001b[0;34m\u001b[0m\u001b[0m\n",
            "\u001b[0;32m/usr/local/lib/python3.6/dist-packages/numpy/lib/arraysetops.py\u001b[0m in \u001b[0;36m_unique1d\u001b[0;34m(ar, return_index, return_inverse, return_counts)\u001b[0m\n\u001b[1;32m    312\u001b[0m     \u001b[0mFind\u001b[0m \u001b[0mthe\u001b[0m \u001b[0munique\u001b[0m \u001b[0melements\u001b[0m \u001b[0mof\u001b[0m \u001b[0man\u001b[0m \u001b[0marray\u001b[0m\u001b[0;34m,\u001b[0m \u001b[0mignoring\u001b[0m \u001b[0mshape\u001b[0m\u001b[0;34m.\u001b[0m\u001b[0;34m\u001b[0m\u001b[0;34m\u001b[0m\u001b[0m\n\u001b[1;32m    313\u001b[0m     \"\"\"\n\u001b[0;32m--> 314\u001b[0;31m     \u001b[0mar\u001b[0m \u001b[0;34m=\u001b[0m \u001b[0mnp\u001b[0m\u001b[0;34m.\u001b[0m\u001b[0masanyarray\u001b[0m\u001b[0;34m(\u001b[0m\u001b[0mar\u001b[0m\u001b[0;34m)\u001b[0m\u001b[0;34m.\u001b[0m\u001b[0mflatten\u001b[0m\u001b[0;34m(\u001b[0m\u001b[0;34m)\u001b[0m\u001b[0;34m\u001b[0m\u001b[0;34m\u001b[0m\u001b[0m\n\u001b[0m\u001b[1;32m    315\u001b[0m \u001b[0;34m\u001b[0m\u001b[0m\n\u001b[1;32m    316\u001b[0m     \u001b[0moptional_indices\u001b[0m \u001b[0;34m=\u001b[0m \u001b[0mreturn_index\u001b[0m \u001b[0;32mor\u001b[0m \u001b[0mreturn_inverse\u001b[0m\u001b[0;34m\u001b[0m\u001b[0;34m\u001b[0m\u001b[0m\n",
            "\u001b[0;31mKeyboardInterrupt\u001b[0m: "
          ]
        }
      ]
    },
    {
      "cell_type": "code",
      "metadata": {
        "id": "_sCm_LJdnS8T"
      },
      "source": [
        "df0 = pd.read_csv('https://raw.githubusercontent.com/spe301/AI-generated-AI/main/Data/Text_Classification_Results.csv')\r\n",
        "\r\n",
        "df2 = pd.concat(df0, df)"
      ],
      "execution_count": null,
      "outputs": []
    },
    {
      "cell_type": "code",
      "metadata": {
        "id": "nUsw2xN6quhq"
      },
      "source": [
        "df.to_csv('drive/MyDrive/NLP2.csv')"
      ],
      "execution_count": null,
      "outputs": []
    },
    {
      "cell_type": "markdown",
      "metadata": {
        "id": "45e40R5ewtXB"
      },
      "source": [
        "# Image dataset directory graveyard\r\n",
        "copy and paste these into a code cell when working with the dataset"
      ]
    },
    {
      "cell_type": "markdown",
      "metadata": {
        "id": "1XEKeVbQwy4A"
      },
      "source": [
        "Dogs and Cats\r\n",
        "train_dir = r'dataset/training_set'\r\n",
        "\r\n",
        "test_dir = r'dataset/test_set'\r\n",
        "\r\n",
        "train_dogs = r'dataset/training_set/dogs'\r\n",
        "\r\n",
        "train_cats = r'dataset/training_set/cats'\r\n",
        "\r\n",
        "test_dogs = r'dataset/test_set/dogs'\r\n",
        "\r\n",
        "test_cats = r'dataset/test_set/cats'\r\n",
        "\r\n",
        "directories = [train_dir, test_dir, train_dogs, train_cats, test_dogs, test_cats]\r\n",
        "\r\n",
        "classes = ['cats', 'dogs']"
      ]
    }
  ]
}