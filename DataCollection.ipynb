{
  "nbformat": 4,
  "nbformat_minor": 0,
  "metadata": {
    "colab": {
      "name": "DataCollection.ipynb",
      "provenance": [],
      "collapsed_sections": [],
      "machine_shape": "hm",
      "mount_file_id": "1I2V0lNirHukMPPxYKVosyz7N0pKHkylJ",
      "authorship_tag": "ABX9TyMYTNktwzTni72MeQiRPtxx",
      "include_colab_link": true
    },
    "kernelspec": {
      "name": "python3",
      "display_name": "Python 3"
    },
    "accelerator": "GPU"
  },
  "cells": [
    {
      "cell_type": "markdown",
      "metadata": {
        "id": "view-in-github",
        "colab_type": "text"
      },
      "source": [
        "<a href=\"https://colab.research.google.com/github/spe301/AI-generated-AI/blob/main/DataCollection.ipynb\" target=\"_parent\"><img src=\"https://colab.research.google.com/assets/colab-badge.svg\" alt=\"Open In Colab\"/></a>"
      ]
    },
    {
      "cell_type": "code",
      "metadata": {
        "colab": {
          "base_uri": "https://localhost:8080/"
        },
        "id": "IizlXC7jhuk2",
        "outputId": "0c493b9d-5a86-47e9-b295-35f2447abf07"
      },
      "source": [
        "!pip install Potosnail==0.0.7"
      ],
      "execution_count": 1,
      "outputs": [
        {
          "output_type": "stream",
          "text": [
            "Requirement already satisfied: Potosnail==0.0.7 in /usr/local/lib/python3.6/dist-packages (0.0.7)\n",
            "Requirement already satisfied: seaborn<=0.11.0 in /usr/local/lib/python3.6/dist-packages (from Potosnail==0.0.7) (0.11.0)\n",
            "Requirement already satisfied: tensorflow<=2.4.0 in /usr/local/lib/python3.6/dist-packages (from Potosnail==0.0.7) (2.4.0)\n",
            "Requirement already satisfied: beautifulsoup4==4.9.3 in /usr/local/lib/python3.6/dist-packages (from Potosnail==0.0.7) (4.9.3)\n",
            "Requirement already satisfied: scikit-learn<=0.23.2 in /usr/local/lib/python3.6/dist-packages (from Potosnail==0.0.7) (0.22.2.post1)\n",
            "Requirement already satisfied: imblearn<=0.0 in /usr/local/lib/python3.6/dist-packages (from Potosnail==0.0.7) (0.0)\n",
            "Requirement already satisfied: statsmodels<=0.12.0 in /usr/local/lib/python3.6/dist-packages (from Potosnail==0.0.7) (0.10.2)\n",
            "Requirement already satisfied: xgboost<=1.3.1 in /usr/local/lib/python3.6/dist-packages (from Potosnail==0.0.7) (0.90)\n",
            "Requirement already satisfied: urllib3==1.25.11 in /usr/local/lib/python3.6/dist-packages (from Potosnail==0.0.7) (1.25.11)\n",
            "Requirement already satisfied: lxml==4.6.1 in /usr/local/lib/python3.6/dist-packages (from Potosnail==0.0.7) (4.6.1)\n",
            "Requirement already satisfied: regex==2020.10.15 in /usr/local/lib/python3.6/dist-packages (from Potosnail==0.0.7) (2020.10.15)\n",
            "Requirement already satisfied: matplotlib<=3.3.2 in /usr/local/lib/python3.6/dist-packages (from Potosnail==0.0.7) (3.2.2)\n",
            "Requirement already satisfied: numpy<=1.19.2 in /usr/local/lib/python3.6/dist-packages (from Potosnail==0.0.7) (1.19.2)\n",
            "Requirement already satisfied: pandas<=1.1.3 in /usr/local/lib/python3.6/dist-packages (from Potosnail==0.0.7) (1.1.3)\n",
            "Requirement already satisfied: scipy>=1.0 in /usr/local/lib/python3.6/dist-packages (from seaborn<=0.11.0->Potosnail==0.0.7) (1.4.1)\n",
            "Requirement already satisfied: opt-einsum~=3.3.0 in /usr/local/lib/python3.6/dist-packages (from tensorflow<=2.4.0->Potosnail==0.0.7) (3.3.0)\n",
            "Requirement already satisfied: protobuf>=3.9.2 in /usr/local/lib/python3.6/dist-packages (from tensorflow<=2.4.0->Potosnail==0.0.7) (3.12.4)\n",
            "Requirement already satisfied: six~=1.15.0 in /usr/local/lib/python3.6/dist-packages (from tensorflow<=2.4.0->Potosnail==0.0.7) (1.15.0)\n",
            "Requirement already satisfied: tensorboard~=2.4 in /usr/local/lib/python3.6/dist-packages (from tensorflow<=2.4.0->Potosnail==0.0.7) (2.4.1)\n",
            "Requirement already satisfied: absl-py~=0.10 in /usr/local/lib/python3.6/dist-packages (from tensorflow<=2.4.0->Potosnail==0.0.7) (0.10.0)\n",
            "Requirement already satisfied: typing-extensions~=3.7.4 in /usr/local/lib/python3.6/dist-packages (from tensorflow<=2.4.0->Potosnail==0.0.7) (3.7.4.3)\n",
            "Requirement already satisfied: gast==0.3.3 in /usr/local/lib/python3.6/dist-packages (from tensorflow<=2.4.0->Potosnail==0.0.7) (0.3.3)\n",
            "Requirement already satisfied: tensorflow-estimator<2.5.0,>=2.4.0rc0 in /usr/local/lib/python3.6/dist-packages (from tensorflow<=2.4.0->Potosnail==0.0.7) (2.4.0)\n",
            "Requirement already satisfied: astunparse~=1.6.3 in /usr/local/lib/python3.6/dist-packages (from tensorflow<=2.4.0->Potosnail==0.0.7) (1.6.3)\n",
            "Requirement already satisfied: keras-preprocessing~=1.1.2 in /usr/local/lib/python3.6/dist-packages (from tensorflow<=2.4.0->Potosnail==0.0.7) (1.1.2)\n",
            "Requirement already satisfied: termcolor~=1.1.0 in /usr/local/lib/python3.6/dist-packages (from tensorflow<=2.4.0->Potosnail==0.0.7) (1.1.0)\n",
            "Requirement already satisfied: grpcio~=1.32.0 in /usr/local/lib/python3.6/dist-packages (from tensorflow<=2.4.0->Potosnail==0.0.7) (1.32.0)\n",
            "Requirement already satisfied: h5py~=2.10.0 in /usr/local/lib/python3.6/dist-packages (from tensorflow<=2.4.0->Potosnail==0.0.7) (2.10.0)\n",
            "Requirement already satisfied: wrapt~=1.12.1 in /usr/local/lib/python3.6/dist-packages (from tensorflow<=2.4.0->Potosnail==0.0.7) (1.12.1)\n",
            "Requirement already satisfied: flatbuffers~=1.12.0 in /usr/local/lib/python3.6/dist-packages (from tensorflow<=2.4.0->Potosnail==0.0.7) (1.12)\n",
            "Requirement already satisfied: google-pasta~=0.2 in /usr/local/lib/python3.6/dist-packages (from tensorflow<=2.4.0->Potosnail==0.0.7) (0.2.0)\n",
            "Requirement already satisfied: wheel~=0.35 in /usr/local/lib/python3.6/dist-packages (from tensorflow<=2.4.0->Potosnail==0.0.7) (0.36.2)\n",
            "Requirement already satisfied: soupsieve>1.2; python_version >= \"3.0\" in /usr/local/lib/python3.6/dist-packages (from beautifulsoup4==4.9.3->Potosnail==0.0.7) (2.1)\n",
            "Requirement already satisfied: joblib>=0.11 in /usr/local/lib/python3.6/dist-packages (from scikit-learn<=0.23.2->Potosnail==0.0.7) (1.0.0)\n",
            "Requirement already satisfied: imbalanced-learn in /usr/local/lib/python3.6/dist-packages (from imblearn<=0.0->Potosnail==0.0.7) (0.4.3)\n",
            "Requirement already satisfied: patsy>=0.4.0 in /usr/local/lib/python3.6/dist-packages (from statsmodels<=0.12.0->Potosnail==0.0.7) (0.5.1)\n",
            "Requirement already satisfied: python-dateutil>=2.1 in /usr/local/lib/python3.6/dist-packages (from matplotlib<=3.3.2->Potosnail==0.0.7) (2.8.1)\n",
            "Requirement already satisfied: cycler>=0.10 in /usr/local/lib/python3.6/dist-packages (from matplotlib<=3.3.2->Potosnail==0.0.7) (0.10.0)\n",
            "Requirement already satisfied: pyparsing!=2.0.4,!=2.1.2,!=2.1.6,>=2.0.1 in /usr/local/lib/python3.6/dist-packages (from matplotlib<=3.3.2->Potosnail==0.0.7) (2.4.7)\n",
            "Requirement already satisfied: kiwisolver>=1.0.1 in /usr/local/lib/python3.6/dist-packages (from matplotlib<=3.3.2->Potosnail==0.0.7) (1.3.1)\n",
            "Requirement already satisfied: pytz>=2017.2 in /usr/local/lib/python3.6/dist-packages (from pandas<=1.1.3->Potosnail==0.0.7) (2018.9)\n",
            "Requirement already satisfied: setuptools in /usr/local/lib/python3.6/dist-packages (from protobuf>=3.9.2->tensorflow<=2.4.0->Potosnail==0.0.7) (53.0.0)\n",
            "Requirement already satisfied: tensorboard-plugin-wit>=1.6.0 in /usr/local/lib/python3.6/dist-packages (from tensorboard~=2.4->tensorflow<=2.4.0->Potosnail==0.0.7) (1.8.0)\n",
            "Requirement already satisfied: werkzeug>=0.11.15 in /usr/local/lib/python3.6/dist-packages (from tensorboard~=2.4->tensorflow<=2.4.0->Potosnail==0.0.7) (1.0.1)\n",
            "Requirement already satisfied: google-auth<2,>=1.6.3 in /usr/local/lib/python3.6/dist-packages (from tensorboard~=2.4->tensorflow<=2.4.0->Potosnail==0.0.7) (1.24.0)\n",
            "Requirement already satisfied: google-auth-oauthlib<0.5,>=0.4.1 in /usr/local/lib/python3.6/dist-packages (from tensorboard~=2.4->tensorflow<=2.4.0->Potosnail==0.0.7) (0.4.2)\n",
            "Requirement already satisfied: requests<3,>=2.21.0 in /usr/local/lib/python3.6/dist-packages (from tensorboard~=2.4->tensorflow<=2.4.0->Potosnail==0.0.7) (2.23.0)\n",
            "Requirement already satisfied: markdown>=2.6.8 in /usr/local/lib/python3.6/dist-packages (from tensorboard~=2.4->tensorflow<=2.4.0->Potosnail==0.0.7) (3.3.3)\n",
            "Requirement already satisfied: pyasn1-modules>=0.2.1 in /usr/local/lib/python3.6/dist-packages (from google-auth<2,>=1.6.3->tensorboard~=2.4->tensorflow<=2.4.0->Potosnail==0.0.7) (0.2.8)\n",
            "Requirement already satisfied: rsa<5,>=3.1.4; python_version >= \"3.6\" in /usr/local/lib/python3.6/dist-packages (from google-auth<2,>=1.6.3->tensorboard~=2.4->tensorflow<=2.4.0->Potosnail==0.0.7) (4.7)\n",
            "Requirement already satisfied: cachetools<5.0,>=2.0.0 in /usr/local/lib/python3.6/dist-packages (from google-auth<2,>=1.6.3->tensorboard~=2.4->tensorflow<=2.4.0->Potosnail==0.0.7) (4.2.1)\n",
            "Requirement already satisfied: requests-oauthlib>=0.7.0 in /usr/local/lib/python3.6/dist-packages (from google-auth-oauthlib<0.5,>=0.4.1->tensorboard~=2.4->tensorflow<=2.4.0->Potosnail==0.0.7) (1.3.0)\n",
            "Requirement already satisfied: chardet<4,>=3.0.2 in /usr/local/lib/python3.6/dist-packages (from requests<3,>=2.21.0->tensorboard~=2.4->tensorflow<=2.4.0->Potosnail==0.0.7) (3.0.4)\n",
            "Requirement already satisfied: idna<3,>=2.5 in /usr/local/lib/python3.6/dist-packages (from requests<3,>=2.21.0->tensorboard~=2.4->tensorflow<=2.4.0->Potosnail==0.0.7) (2.10)\n",
            "Requirement already satisfied: certifi>=2017.4.17 in /usr/local/lib/python3.6/dist-packages (from requests<3,>=2.21.0->tensorboard~=2.4->tensorflow<=2.4.0->Potosnail==0.0.7) (2020.12.5)\n",
            "Requirement already satisfied: importlib-metadata; python_version < \"3.8\" in /usr/local/lib/python3.6/dist-packages (from markdown>=2.6.8->tensorboard~=2.4->tensorflow<=2.4.0->Potosnail==0.0.7) (3.4.0)\n",
            "Requirement already satisfied: pyasn1<0.5.0,>=0.4.6 in /usr/local/lib/python3.6/dist-packages (from pyasn1-modules>=0.2.1->google-auth<2,>=1.6.3->tensorboard~=2.4->tensorflow<=2.4.0->Potosnail==0.0.7) (0.4.8)\n",
            "Requirement already satisfied: oauthlib>=3.0.0 in /usr/local/lib/python3.6/dist-packages (from requests-oauthlib>=0.7.0->google-auth-oauthlib<0.5,>=0.4.1->tensorboard~=2.4->tensorflow<=2.4.0->Potosnail==0.0.7) (3.1.0)\n",
            "Requirement already satisfied: zipp>=0.5 in /usr/local/lib/python3.6/dist-packages (from importlib-metadata; python_version < \"3.8\"->markdown>=2.6.8->tensorboard~=2.4->tensorflow<=2.4.0->Potosnail==0.0.7) (3.4.0)\n"
          ],
          "name": "stdout"
        }
      ]
    },
    {
      "cell_type": "code",
      "metadata": {
        "id": "tkOUAf-biaqy"
      },
      "source": [
        "import pandas as pd\r\n",
        "import numpy as np\r\n",
        "from google.colab import files\r\n",
        "import zipfile\r\n",
        "import io\r\n",
        "from potosnail import MachineLearning, DeepLearning, DataHelper, Evaluater, Algorithms, Wrappers\r\n",
        "from sklearn.datasets import load_breast_cancer, load_boston\r\n",
        "\r\n",
        "#class instantiations\r\n",
        "ml = MachineLearning()\r\n",
        "dl = DeepLearning()\r\n",
        "dh = DataHelper()\r\n",
        "ev = Evaluater()\r\n",
        "al = Algorithms()\r\n",
        "wr = Wrappers()\r\n",
        "\r\n",
        "def BigDawg(X, y, params, task, ts=150, epochs=50, batch_size=32, patience=5, regression=False):\r\n",
        "  '''facilitates the Data Collection Process'''\r\n",
        "  dl = DeepLearning()\r\n",
        "  wr = Wrappers()\r\n",
        "  if task == 'NLP':\r\n",
        "    X2, y2, _ = wr.TCP(X, y)\r\n",
        "    func = dl.RNN #insert CV after this\r\n",
        "  if task == 'CV':\r\n",
        "    X2, _, y2, _ = dl.ModelReadyPixles(X, y, target_size=(ts, ts))\r\n",
        "    func = dl.CNN\r\n",
        "  if task == 'TC':\r\n",
        "    X2 = np.array(X)\r\n",
        "    y2 = dl.MulticlassOutput(np.array(y))\r\n",
        "    func = dl.DeepTabularClassification\r\n",
        "  if task == 'TR':\r\n",
        "    X2 = np.array(X)\r\n",
        "    y2 = np.array(y)\r\n",
        "    func = dl.DeepTabularRegression\r\n",
        "  try:\r\n",
        "    df = dl.CollectPerformance(params, func, X2, y2, epochs=epochs, batch_size=batch_size, patience=patience, regression=regression)\r\n",
        "  except:\r\n",
        "    df = dl.CollectPerformance(params, func, X2, y2.reshape(-1), epochs=epochs, batch_size=batch_size, patience=patience, regression=regression)\r\n",
        "  size = []\r\n",
        "  n_features = []\r\n",
        "  batch = []\r\n",
        "  depth = []\r\n",
        "  for i in range(len(df)):\r\n",
        "    size.append(X2.shape[0])\r\n",
        "    n_features.append(X2.shape[1])\r\n",
        "    if task == 'CV':\r\n",
        "      depth.append(X2.shape[3])\r\n",
        "  df['len_dataset'] = size\r\n",
        "  df['n_features'] = n_features\r\n",
        "  if task == 'CV':\r\n",
        "    df['thickness'] = depth\r\n",
        "  return df"
      ],
      "execution_count": 20,
      "outputs": []
    },
    {
      "cell_type": "code",
      "metadata": {
        "id": "mFpGgfO1in7_",
        "colab": {
          "resources": {
            "http://localhost:8080/nbextensions/google.colab/files.js": {
              "data": "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",
              "ok": true,
              "headers": [
                [
                  "content-type",
                  "application/javascript"
                ]
              ],
              "status": 200,
              "status_text": ""
            }
          },
          "base_uri": "https://localhost:8080/",
          "height": 73
        },
        "outputId": "e849ef3b-c137-41aa-edb8-91fa95a2c0b6"
      },
      "source": [
        "#Dataframes\r\n",
        "Wikipedia = pd.read_csv('https://raw.githubusercontent.com/spe301/AI-generated-AI/main/Data/Wikipedia.csv') #text\r\n",
        "Twitter = pd.read_csv('https://raw.githubusercontent.com/spe301/AI-generated-AI/main/Data/Twitter.csv') #text\r\n",
        "\r\n",
        "#Series\r\n",
        "articles = Wikipedia['Text']\r\n",
        "labels = Wikipedia['AI']\r\n",
        "tweets = Twitter['tweet']\r\n",
        "sentiments = Twitter['is_there_an_emotion_directed_at_a_brand_or_product']\r\n",
        "\r\n",
        "#arrays\r\n",
        "cancer_data = load_breast_cancer()['data']\r\n",
        "diagnosis = load_breast_cancer()['target']\r\n",
        "housing_data = load_boston()['data']\r\n",
        "prices = load_boston()['target']\r\n",
        "\r\n",
        "#images\r\n",
        "uploaded = files.upload()\r\n",
        "data = zipfile.ZipFile(io.BytesIO(uploaded['IMGDS1.zip']), 'r')\r\n",
        "data.extractall()"
      ],
      "execution_count": 23,
      "outputs": [
        {
          "output_type": "display_data",
          "data": {
            "text/html": [
              "\n",
              "     <input type=\"file\" id=\"files-25473fa6-63a0-4c6b-98e7-98d4b3f5827f\" name=\"files[]\" multiple disabled\n",
              "        style=\"border:none\" />\n",
              "     <output id=\"result-25473fa6-63a0-4c6b-98e7-98d4b3f5827f\">\n",
              "      Upload widget is only available when the cell has been executed in the\n",
              "      current browser session. Please rerun this cell to enable.\n",
              "      </output>\n",
              "      <script src=\"/nbextensions/google.colab/files.js\"></script> "
            ],
            "text/plain": [
              "<IPython.core.display.HTML object>"
            ]
          },
          "metadata": {
            "tags": []
          }
        },
        {
          "output_type": "stream",
          "text": [
            "Saving IMGDS1.zip to IMGDS1.zip\n"
          ],
          "name": "stdout"
        }
      ]
    },
    {
      "cell_type": "code",
      "metadata": {
        "id": "YmgBsgUzSNDV"
      },
      "source": [
        "#image folder directories, if using image data\r\n",
        "train_dir = r'dataset/training_set'\r\n",
        "\r\n",
        "test_dir = r'dataset/test_set'\r\n",
        "\r\n",
        "train_dogs = r'dataset/training_set/dogs'\r\n",
        "\r\n",
        "train_cats = r'dataset/training_set/cats'\r\n",
        "\r\n",
        "test_dogs = r'dataset/test_set/dogs'\r\n",
        "\r\n",
        "test_cats = r'dataset/test_set/cats'\r\n",
        "\r\n",
        "directories = [train_dir, test_dir, train_dogs, train_cats, test_dogs, test_cats]\r\n",
        "\r\n",
        "classes = ['cats', 'dogs']"
      ],
      "execution_count": 24,
      "outputs": []
    },
    {
      "cell_type": "code",
      "metadata": {
        "colab": {
          "base_uri": "https://localhost:8080/",
          "height": 402
        },
        "id": "H5l7frfK7r8E",
        "outputId": "e0a836c1-345c-4b02-c735-c8169851b939"
      },
      "source": [
        "Wikipedia"
      ],
      "execution_count": 38,
      "outputs": [
        {
          "output_type": "execute_result",
          "data": {
            "text/html": [
              "<div>\n",
              "<style scoped>\n",
              "    .dataframe tbody tr th:only-of-type {\n",
              "        vertical-align: middle;\n",
              "    }\n",
              "\n",
              "    .dataframe tbody tr th {\n",
              "        vertical-align: top;\n",
              "    }\n",
              "\n",
              "    .dataframe thead th {\n",
              "        text-align: right;\n",
              "    }\n",
              "</style>\n",
              "<table border=\"1\" class=\"dataframe\">\n",
              "  <thead>\n",
              "    <tr style=\"text-align: right;\">\n",
              "      <th></th>\n",
              "      <th>Text</th>\n",
              "      <th>Human</th>\n",
              "      <th>AI</th>\n",
              "    </tr>\n",
              "  </thead>\n",
              "  <tbody>\n",
              "    <tr>\n",
              "      <th>0</th>\n",
              "      <td>aerospace is the human effort in science, engi...</td>\n",
              "      <td>1</td>\n",
              "      <td>0</td>\n",
              "    </tr>\n",
              "    <tr>\n",
              "      <th>1</th>\n",
              "      <td>a farmers market they are distinguished from p...</td>\n",
              "      <td>1</td>\n",
              "      <td>0</td>\n",
              "    </tr>\n",
              "    <tr>\n",
              "      <th>2</th>\n",
              "      <td>traditions by regiontraditions by schooltradit...</td>\n",
              "      <td>1</td>\n",
              "      <td>0</td>\n",
              "    </tr>\n",
              "    <tr>\n",
              "      <th>3</th>\n",
              "      <td>card or the card may refer to:</td>\n",
              "      <td>1</td>\n",
              "      <td>0</td>\n",
              "    </tr>\n",
              "    <tr>\n",
              "      <th>4</th>\n",
              "      <td>water skiing  and a personal flotation device....</td>\n",
              "      <td>1</td>\n",
              "      <td>0</td>\n",
              "    </tr>\n",
              "    <tr>\n",
              "      <th>...</th>\n",
              "      <td>...</td>\n",
              "      <td>...</td>\n",
              "      <td>...</td>\n",
              "    </tr>\n",
              "    <tr>\n",
              "      <th>355</th>\n",
              "      <td>by jonathan rosen\\n\\njonathan rosen is a senio...</td>\n",
              "      <td>0</td>\n",
              "      <td>1</td>\n",
              "    </tr>\n",
              "    <tr>\n",
              "      <th>356</th>\n",
              "      <td>he was able to maintain good relations with t...</td>\n",
              "      <td>0</td>\n",
              "      <td>1</td>\n",
              "    </tr>\n",
              "    <tr>\n",
              "      <th>357</th>\n",
              "      <td>mealworms are shed during the larval phase of ...</td>\n",
              "      <td>0</td>\n",
              "      <td>1</td>\n",
              "    </tr>\n",
              "    <tr>\n",
              "      <th>358</th>\n",
              "      <td>by\\n\\nby 2015, syrian president muammar gaddaf...</td>\n",
              "      <td>0</td>\n",
              "      <td>1</td>\n",
              "    </tr>\n",
              "    <tr>\n",
              "      <th>359</th>\n",
              "      <td>1928: the first automobile and motorcycle taxi...</td>\n",
              "      <td>0</td>\n",
              "      <td>1</td>\n",
              "    </tr>\n",
              "  </tbody>\n",
              "</table>\n",
              "<p>360 rows × 3 columns</p>\n",
              "</div>"
            ],
            "text/plain": [
              "                                                  Text  Human  AI\n",
              "0    aerospace is the human effort in science, engi...      1   0\n",
              "1    a farmers market they are distinguished from p...      1   0\n",
              "2    traditions by regiontraditions by schooltradit...      1   0\n",
              "3                       card or the card may refer to:      1   0\n",
              "4    water skiing  and a personal flotation device....      1   0\n",
              "..                                                 ...    ...  ..\n",
              "355  by jonathan rosen\\n\\njonathan rosen is a senio...      0   1\n",
              "356   he was able to maintain good relations with t...      0   1\n",
              "357  mealworms are shed during the larval phase of ...      0   1\n",
              "358  by\\n\\nby 2015, syrian president muammar gaddaf...      0   1\n",
              "359  1928: the first automobile and motorcycle taxi...      0   1\n",
              "\n",
              "[360 rows x 3 columns]"
            ]
          },
          "metadata": {
            "tags": []
          },
          "execution_count": 38
        }
      ]
    },
    {
      "cell_type": "code",
      "metadata": {
        "colab": {
          "base_uri": "https://localhost:8080/"
        },
        "id": "vAg_W7M9E14F",
        "outputId": "2988f748-5ddc-4c57-ec97-e454d77ec8aa"
      },
      "source": [
        "X = tweets\r\n",
        "y = sentiments\r\n",
        "df = Twitter\r\n",
        "data_str = 'tweet'\r\n",
        "output = len(np.unique(y))\r\n",
        "embedding = dh.GetVocab(df, data_str)\r\n",
        "rnn_grid = {'output_dim': [output], 'embedding': [embedding], 'nodes': [64], 'activation': ['tanh'], 'regularizer': [None, 'L1'], \r\n",
        "            'stacking': [False, True], 'dropout': [False], 'optimizer': ['adam'], 'method': ['GRU'], 'bidirectional': [False]}\r\n",
        "\r\n",
        "X2 = articles\r\n",
        "y2 = labels\r\n",
        "df2 = Wikipedia\r\n",
        "data_str2 = 'Text'\r\n",
        "output2 = len(np.unique(y2))\r\n",
        "embedding2 = dh.GetVocab(df2, data_str2)\r\n",
        "rnn_grid2 = {'output_dim': [output2], 'embedding': [embedding2], 'nodes': [64], 'activation': ['tanh'], 'regularizer': [None], \r\n",
        "            'stacking': [False, True], 'dropout': [False, True], 'optimizer': ['adam'], 'method': ['GRU'], 'bidirectional': [False]}\r\n",
        "\r\n",
        "#output = len(y)\r\n",
        "#cnn_grid = {'output_dim': [output], 'base_filters':[32], 'kernel_size': [2], 'activation': ['relu'], 'nblocks': [3], \r\n",
        "            #'pool':[2], 'dropout': [False, True], 'closer': [False], 'optimizer': ['adam', 'rmsprop'], 'metrics': ['accuracy']}\r\n",
        "\r\n",
        "#output = len(np.unique(y))\r\n",
        "#tc_grid = {'output_dim': [output], 'nodes': [64], 'activation': ['relu'], 'regularizer': [None], 'stacking': [False], \r\n",
        "           #'dropout': [False], 'nlayers': [4, 5], 'closer': [False, True], 'loss_func': ['binary_crossentropy'], 'optimizer': ['adam']}\r\n",
        "\r\n",
        "#tr_grid = {'nodes': [32, 64, 128], 'activation': ['relu'], 'regularizer': [None], 'stacking': [False], 'dropout': [False], \r\n",
        "           #'nlayers': [4], 'closer': [False], 'loss_func': ['MSE', 'MAE'], 'optimizer': ['rmsprop'], 'y_col': ['string']}\r\n",
        "\r\n",
        "df = BigDawg(X, y, rnn_grid, 'NLP')\r\n",
        "df1 = BigDawg(X2, y2, rnn_grid2, 'NLP')\r\n",
        "df2 = pd.concat([df, df1])\r\n",
        "df2.shape"
      ],
      "execution_count": 41,
      "outputs": [
        {
          "output_type": "stream",
          "text": [
            "preforming 4 total fits ...\n",
            "Epoch 1/50\n",
            "preforming 4 total fits ...\n",
            "Epoch 1/50\n",
            "224/224 [==============================] - 5s 16ms/step - loss: 0.7472 - accuracy: 0.6564 - val_loss: 0.6394 - val_accuracy: 0.6667\n",
            "Epoch 2/50\n",
            "224/224 [==============================] - 3s 13ms/step - loss: 0.6384 - accuracy: 0.6686 - val_loss: 0.6599 - val_accuracy: 0.6572\n",
            "Epoch 3/50\n",
            "224/224 [==============================] - 3s 13ms/step - loss: 0.6035 - accuracy: 0.6941 - val_loss: 0.6614 - val_accuracy: 0.6449\n",
            "Epoch 4/50\n",
            "224/224 [==============================] - 3s 13ms/step - loss: 0.4814 - accuracy: 0.7767 - val_loss: 0.7492 - val_accuracy: 0.5984\n",
            "Epoch 5/50\n",
            "224/224 [==============================] - 3s 13ms/step - loss: 0.3777 - accuracy: 0.8228 - val_loss: 0.8344 - val_accuracy: 0.6051\n",
            "Epoch 6/50\n",
            "224/224 [==============================] - 3s 13ms/step - loss: 0.3220 - accuracy: 0.8417 - val_loss: 0.9766 - val_accuracy: 0.6012\n",
            "1 of 4 fits complete!\n",
            "Epoch 1/50\n",
            "224/224 [==============================] - 5s 14ms/step - loss: 0.7202 - accuracy: 0.6544 - val_loss: 0.6392 - val_accuracy: 0.6667\n",
            "Epoch 2/50\n",
            "224/224 [==============================] - 3s 13ms/step - loss: 0.6393 - accuracy: 0.6643 - val_loss: 0.6367 - val_accuracy: 0.6667\n",
            "Epoch 3/50\n",
            "224/224 [==============================] - 3s 13ms/step - loss: 0.6182 - accuracy: 0.6769 - val_loss: 0.6564 - val_accuracy: 0.6544\n",
            "Epoch 4/50\n",
            "224/224 [==============================] - 3s 13ms/step - loss: 0.5075 - accuracy: 0.7689 - val_loss: 0.7303 - val_accuracy: 0.5906\n",
            "Epoch 5/50\n",
            "224/224 [==============================] - 3s 13ms/step - loss: 0.4153 - accuracy: 0.8195 - val_loss: 0.7867 - val_accuracy: 0.6018\n",
            "Epoch 6/50\n",
            "224/224 [==============================] - 3s 12ms/step - loss: 0.3657 - accuracy: 0.8326 - val_loss: 0.8391 - val_accuracy: 0.6074\n",
            "Epoch 7/50\n",
            "224/224 [==============================] - 3s 12ms/step - loss: 0.3286 - accuracy: 0.8507 - val_loss: 1.0002 - val_accuracy: 0.5638\n",
            "2 of 4 fits complete!\n",
            "Epoch 1/50\n",
            "224/224 [==============================] - 5s 14ms/step - loss: 0.7547 - accuracy: 0.6629 - val_loss: 0.6443 - val_accuracy: 0.6667\n",
            "Epoch 2/50\n",
            "224/224 [==============================] - 3s 12ms/step - loss: 0.6342 - accuracy: 0.6566 - val_loss: 0.6497 - val_accuracy: 0.6510\n",
            "Epoch 3/50\n",
            "224/224 [==============================] - 3s 12ms/step - loss: 0.5251 - accuracy: 0.7459 - val_loss: 0.7073 - val_accuracy: 0.6079\n",
            "Epoch 4/50\n",
            "224/224 [==============================] - 3s 12ms/step - loss: 0.4183 - accuracy: 0.8087 - val_loss: 0.8096 - val_accuracy: 0.5570\n",
            "Epoch 5/50\n",
            "224/224 [==============================] - 3s 13ms/step - loss: 0.3567 - accuracy: 0.8381 - val_loss: 0.9492 - val_accuracy: 0.5537\n",
            "Epoch 6/50\n",
            "224/224 [==============================] - 3s 12ms/step - loss: 0.3049 - accuracy: 0.8543 - val_loss: 0.9995 - val_accuracy: 0.5850\n",
            "3 of 4 fits complete!\n",
            "Epoch 1/50\n",
            "224/224 [==============================] - 5s 14ms/step - loss: 0.7637 - accuracy: 0.6594 - val_loss: 0.6390 - val_accuracy: 0.6667\n",
            "Epoch 2/50\n",
            "224/224 [==============================] - 3s 13ms/step - loss: 0.6365 - accuracy: 0.6709 - val_loss: 0.6376 - val_accuracy: 0.6667\n",
            "Epoch 3/50\n",
            "224/224 [==============================] - 3s 12ms/step - loss: 0.6302 - accuracy: 0.6691 - val_loss: 0.6872 - val_accuracy: 0.5945\n",
            "Epoch 4/50\n",
            "224/224 [==============================] - 3s 13ms/step - loss: 0.5106 - accuracy: 0.7591 - val_loss: 0.7557 - val_accuracy: 0.6225\n",
            "Epoch 5/50\n",
            "224/224 [==============================] - 3s 13ms/step - loss: 0.4074 - accuracy: 0.8083 - val_loss: 0.8179 - val_accuracy: 0.6163\n",
            "Epoch 6/50\n",
            "224/224 [==============================] - 3s 13ms/step - loss: 0.3421 - accuracy: 0.8375 - val_loss: 0.8935 - val_accuracy: 0.5845\n",
            "Epoch 7/50\n",
            "224/224 [==============================] - 3s 12ms/step - loss: 0.2999 - accuracy: 0.8419 - val_loss: 1.2311 - val_accuracy: 0.5800\n",
            "4 of 4 fits complete!\n",
            "preforming 4 total fits ...\n",
            "Epoch 1/50\n",
            "9/9 [==============================] - 9s 833ms/step - loss: 0.6869 - accuracy: 0.6210 - val_loss: 0.7983 - val_accuracy: 0.0000e+00\n",
            "Epoch 2/50\n",
            "9/9 [==============================] - 7s 795ms/step - loss: 0.6511 - accuracy: 0.6394 - val_loss: 0.9567 - val_accuracy: 0.0000e+00\n",
            "Epoch 3/50\n",
            "9/9 [==============================] - 7s 793ms/step - loss: 0.6122 - accuracy: 0.6058 - val_loss: 1.0368 - val_accuracy: 0.0139\n",
            "Epoch 4/50\n",
            "9/9 [==============================] - 7s 810ms/step - loss: 0.4502 - accuracy: 0.7495 - val_loss: 0.6739 - val_accuracy: 0.5694\n",
            "Epoch 5/50\n",
            "9/9 [==============================] - 7s 755ms/step - loss: 0.2330 - accuracy: 0.9724 - val_loss: 1.0692 - val_accuracy: 0.5139\n",
            "Epoch 6/50\n",
            "9/9 [==============================] - 7s 757ms/step - loss: 0.0553 - accuracy: 1.0000 - val_loss: 1.2326 - val_accuracy: 0.4306\n",
            "Epoch 7/50\n",
            "9/9 [==============================] - 7s 770ms/step - loss: 0.0393 - accuracy: 1.0000 - val_loss: 1.1902 - val_accuracy: 0.5278\n",
            "Epoch 8/50\n",
            "9/9 [==============================] - 7s 767ms/step - loss: 0.0263 - accuracy: 1.0000 - val_loss: 1.1940 - val_accuracy: 0.5694\n",
            "Epoch 9/50\n",
            "9/9 [==============================] - 7s 765ms/step - loss: 0.0193 - accuracy: 1.0000 - val_loss: 1.2413 - val_accuracy: 0.5694\n",
            "1 of 4 fits complete!\n",
            "Epoch 1/50\n",
            "9/9 [==============================] - 9s 855ms/step - loss: 0.6875 - accuracy: 0.5793 - val_loss: 0.7914 - val_accuracy: 0.0000e+00\n",
            "Epoch 2/50\n",
            "9/9 [==============================] - 7s 802ms/step - loss: 0.6411 - accuracy: 0.6656 - val_loss: 0.9678 - val_accuracy: 0.0000e+00\n",
            "Epoch 3/50\n",
            "9/9 [==============================] - 7s 787ms/step - loss: 0.5909 - accuracy: 0.6206 - val_loss: 1.0252 - val_accuracy: 0.0278\n",
            "Epoch 4/50\n",
            "9/9 [==============================] - 7s 781ms/step - loss: 0.4388 - accuracy: 0.8257 - val_loss: 0.6687 - val_accuracy: 0.6111\n",
            "Epoch 5/50\n",
            "9/9 [==============================] - 7s 791ms/step - loss: 0.3668 - accuracy: 0.9193 - val_loss: 3.4943 - val_accuracy: 0.0000e+00\n",
            "Epoch 6/50\n",
            "9/9 [==============================] - 7s 801ms/step - loss: 1.3362 - accuracy: 0.6162 - val_loss: 3.1720 - val_accuracy: 0.0000e+00\n",
            "Epoch 7/50\n",
            "9/9 [==============================] - 7s 808ms/step - loss: 1.2004 - accuracy: 0.6206 - val_loss: 2.7999 - val_accuracy: 0.0000e+00\n",
            "Epoch 8/50\n",
            "9/9 [==============================] - 7s 786ms/step - loss: 1.1213 - accuracy: 0.6033 - val_loss: 2.4010 - val_accuracy: 0.0000e+00\n",
            "Epoch 9/50\n",
            "9/9 [==============================] - 7s 780ms/step - loss: 0.8845 - accuracy: 0.6462 - val_loss: 2.0046 - val_accuracy: 0.0000e+00\n",
            "2 of 4 fits complete!\n",
            "Epoch 1/50\n",
            "9/9 [==============================] - 9s 875ms/step - loss: 0.6886 - accuracy: 0.5474 - val_loss: 0.7919 - val_accuracy: 0.0000e+00\n",
            "Epoch 2/50\n",
            "9/9 [==============================] - 7s 808ms/step - loss: 0.6513 - accuracy: 0.6717 - val_loss: 0.9873 - val_accuracy: 0.0000e+00\n",
            "Epoch 3/50\n",
            "9/9 [==============================] - 7s 803ms/step - loss: 0.6138 - accuracy: 0.6353 - val_loss: 1.0563 - val_accuracy: 0.0000e+00\n",
            "Epoch 4/50\n",
            "9/9 [==============================] - 7s 787ms/step - loss: 0.5217 - accuracy: 0.6597 - val_loss: 0.8402 - val_accuracy: 0.3611\n",
            "Epoch 5/50\n",
            "9/9 [==============================] - 7s 794ms/step - loss: 0.3725 - accuracy: 0.9440 - val_loss: 3.4784 - val_accuracy: 0.0000e+00\n",
            "Epoch 6/50\n",
            "9/9 [==============================] - 7s 796ms/step - loss: 1.3826 - accuracy: 0.5978 - val_loss: 2.9639 - val_accuracy: 0.0000e+00\n",
            "3 of 4 fits complete!\n",
            "Epoch 1/50\n",
            "9/9 [==============================] - 9s 871ms/step - loss: 0.6874 - accuracy: 0.6084 - val_loss: 0.8062 - val_accuracy: 0.0000e+00\n",
            "Epoch 2/50\n",
            "9/9 [==============================] - 7s 779ms/step - loss: 0.6516 - accuracy: 0.6609 - val_loss: 0.9373 - val_accuracy: 0.0000e+00\n",
            "Epoch 3/50\n",
            "9/9 [==============================] - 7s 775ms/step - loss: 0.6183 - accuracy: 0.6227 - val_loss: 1.0308 - val_accuracy: 0.0000e+00\n",
            "Epoch 4/50\n",
            "9/9 [==============================] - 7s 772ms/step - loss: 0.5057 - accuracy: 0.6789 - val_loss: 0.8415 - val_accuracy: 0.3750\n",
            "Epoch 5/50\n",
            "9/9 [==============================] - 7s 767ms/step - loss: 0.4875 - accuracy: 0.9060 - val_loss: 3.1723 - val_accuracy: 0.0000e+00\n",
            "Epoch 6/50\n",
            "9/9 [==============================] - 7s 751ms/step - loss: 1.1220 - accuracy: 0.6441 - val_loss: 2.7055 - val_accuracy: 0.0000e+00\n",
            "4 of 4 fits complete!\n"
          ],
          "name": "stdout"
        },
        {
          "output_type": "execute_result",
          "data": {
            "text/plain": [
              "(8, 18)"
            ]
          },
          "metadata": {
            "tags": []
          },
          "execution_count": 41
        }
      ]
    },
    {
      "cell_type": "code",
      "metadata": {
        "id": "nUsw2xN6quhq"
      },
      "source": [
        "df2.to_csv('drive/MyDrive/Text_Classification_Results.csv')"
      ],
      "execution_count": 42,
      "outputs": []
    },
    {
      "cell_type": "markdown",
      "metadata": {
        "id": "45e40R5ewtXB"
      },
      "source": [
        "# Image dataset directory graveyard\r\n",
        "copy and paste these into a code cell when working with the dataset"
      ]
    },
    {
      "cell_type": "markdown",
      "metadata": {
        "id": "1XEKeVbQwy4A"
      },
      "source": [
        "Dogs and Cats\r\n",
        "train_dir = r'dataset/training_set'\r\n",
        "\r\n",
        "test_dir = r'dataset/test_set'\r\n",
        "\r\n",
        "train_dogs = r'dataset/training_set/dogs'\r\n",
        "\r\n",
        "train_cats = r'dataset/training_set/cats'\r\n",
        "\r\n",
        "test_dogs = r'dataset/test_set/dogs'\r\n",
        "\r\n",
        "test_cats = r'dataset/test_set/cats'\r\n",
        "\r\n",
        "directories = [train_dir, test_dir, train_dogs, train_cats, test_dogs, test_cats]\r\n",
        "\r\n",
        "classes = ['cats', 'dogs']"
      ]
    }
  ]
}