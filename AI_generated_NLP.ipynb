{
  "nbformat": 4,
  "nbformat_minor": 0,
  "metadata": {
    "colab": {
      "name": "AI_generated_NLP.ipynb",
      "provenance": [],
      "collapsed_sections": [],
      "mount_file_id": "1dWgxcQQ2BpqXYrFd5bNE_uW684UVyVyn",
      "authorship_tag": "ABX9TyM5k8cFf4kNzYmmg64pD9oM",
      "include_colab_link": true
    },
    "kernelspec": {
      "display_name": "Python 3",
      "name": "python3"
    }
  },
  "cells": [
    {
      "cell_type": "markdown",
      "metadata": {
        "id": "view-in-github",
        "colab_type": "text"
      },
      "source": [
        "<a href=\"https://colab.research.google.com/github/spe301/AI-generated-AI/blob/main/AI_generated_NLP.ipynb\" target=\"_parent\"><img src=\"https://colab.research.google.com/assets/colab-badge.svg\" alt=\"Open In Colab\"/></a>"
      ]
    },
    {
      "cell_type": "markdown",
      "metadata": {
        "id": "CsDTNneAX2_A"
      },
      "source": [
        "# About\r\n",
        "\r\n",
        "Deep Learning is on the rise and it's starting to be established as the best Machine Learning strategy, especially for very large datasets and unstructured data (ie. Text and Images). The problem is that these models are often very computationally intensive and many people don't have the rescources to do an extensive gridsearch to find the best model. However, What if we could train a Machine Learning model to predict the best hyperparameter combination, rather than actually having to train several models we could just predict the loss of several hyperparameter combinations, extract the best combination, use those features to build and train just one model! This would save all kinds of time, effort, and compute time."
      ]
    },
    {
      "cell_type": "code",
      "metadata": {
        "colab": {
          "base_uri": "https://localhost:8080/"
        },
        "id": "WQomrykwMFzc",
        "outputId": "efe1f7ba-d08b-48d7-93e3-7a88490666b7"
      },
      "source": [
        "!pip install Potosnail==0.2.4"
      ],
      "execution_count": null,
      "outputs": [
        {
          "output_type": "stream",
          "text": [
            "Requirement already satisfied: Potosnail==0.2.4 in /usr/local/lib/python3.7/dist-packages (0.2.4)\n",
            "Requirement already satisfied: beautifulsoup4==4.9.3 in /usr/local/lib/python3.7/dist-packages (from Potosnail==0.2.4) (4.9.3)\n",
            "Requirement already satisfied: numpy>=1.18.0 in /usr/local/lib/python3.7/dist-packages (from Potosnail==0.2.4) (1.19.5)\n",
            "Requirement already satisfied: seaborn>=0.11.0 in /usr/local/lib/python3.7/dist-packages (from Potosnail==0.2.4) (0.11.1)\n",
            "Requirement already satisfied: matplotlib>=3.3.2 in /usr/local/lib/python3.7/dist-packages (from Potosnail==0.2.4) (3.3.4)\n",
            "Requirement already satisfied: scikit-learn==0.22.2.post1 in /usr/local/lib/python3.7/dist-packages (from Potosnail==0.2.4) (0.22.2.post1)\n",
            "Requirement already satisfied: tensorflow>=2.4.0 in /usr/local/lib/python3.7/dist-packages (from Potosnail==0.2.4) (2.4.1)\n",
            "Requirement already satisfied: xgboost<=1.3.1 in /usr/local/lib/python3.7/dist-packages (from Potosnail==0.2.4) (0.90)\n",
            "Requirement already satisfied: urllib3==1.25.11 in /usr/local/lib/python3.7/dist-packages (from Potosnail==0.2.4) (1.25.11)\n",
            "Requirement already satisfied: pandas>=1.1.3 in /usr/local/lib/python3.7/dist-packages (from Potosnail==0.2.4) (1.1.5)\n",
            "Requirement already satisfied: lxml==4.6.1 in /usr/local/lib/python3.7/dist-packages (from Potosnail==0.2.4) (4.6.1)\n",
            "Requirement already satisfied: statsmodels>=0.12.0 in /usr/local/lib/python3.7/dist-packages (from Potosnail==0.2.4) (0.12.2)\n",
            "Requirement already satisfied: regex==2020.10.15 in /usr/local/lib/python3.7/dist-packages (from Potosnail==0.2.4) (2020.10.15)\n",
            "Requirement already satisfied: soupsieve>1.2; python_version >= \"3.0\" in /usr/local/lib/python3.7/dist-packages (from beautifulsoup4==4.9.3->Potosnail==0.2.4) (2.2)\n",
            "Requirement already satisfied: scipy>=1.0 in /usr/local/lib/python3.7/dist-packages (from seaborn>=0.11.0->Potosnail==0.2.4) (1.4.1)\n",
            "Requirement already satisfied: pillow>=6.2.0 in /usr/local/lib/python3.7/dist-packages (from matplotlib>=3.3.2->Potosnail==0.2.4) (7.0.0)\n",
            "Requirement already satisfied: kiwisolver>=1.0.1 in /usr/local/lib/python3.7/dist-packages (from matplotlib>=3.3.2->Potosnail==0.2.4) (1.3.1)\n",
            "Requirement already satisfied: pyparsing!=2.0.4,!=2.1.2,!=2.1.6,>=2.0.3 in /usr/local/lib/python3.7/dist-packages (from matplotlib>=3.3.2->Potosnail==0.2.4) (2.4.7)\n",
            "Requirement already satisfied: cycler>=0.10 in /usr/local/lib/python3.7/dist-packages (from matplotlib>=3.3.2->Potosnail==0.2.4) (0.10.0)\n",
            "Requirement already satisfied: python-dateutil>=2.1 in /usr/local/lib/python3.7/dist-packages (from matplotlib>=3.3.2->Potosnail==0.2.4) (2.8.1)\n",
            "Requirement already satisfied: joblib>=0.11 in /usr/local/lib/python3.7/dist-packages (from scikit-learn==0.22.2.post1->Potosnail==0.2.4) (1.0.1)\n",
            "Requirement already satisfied: gast==0.3.3 in /usr/local/lib/python3.7/dist-packages (from tensorflow>=2.4.0->Potosnail==0.2.4) (0.3.3)\n",
            "Requirement already satisfied: wrapt~=1.12.1 in /usr/local/lib/python3.7/dist-packages (from tensorflow>=2.4.0->Potosnail==0.2.4) (1.12.1)\n",
            "Requirement already satisfied: google-pasta~=0.2 in /usr/local/lib/python3.7/dist-packages (from tensorflow>=2.4.0->Potosnail==0.2.4) (0.2.0)\n",
            "Requirement already satisfied: tensorboard~=2.4 in /usr/local/lib/python3.7/dist-packages (from tensorflow>=2.4.0->Potosnail==0.2.4) (2.4.1)\n",
            "Requirement already satisfied: tensorflow-estimator<2.5.0,>=2.4.0 in /usr/local/lib/python3.7/dist-packages (from tensorflow>=2.4.0->Potosnail==0.2.4) (2.4.0)\n",
            "Requirement already satisfied: wheel~=0.35 in /usr/local/lib/python3.7/dist-packages (from tensorflow>=2.4.0->Potosnail==0.2.4) (0.36.2)\n",
            "Requirement already satisfied: grpcio~=1.32.0 in /usr/local/lib/python3.7/dist-packages (from tensorflow>=2.4.0->Potosnail==0.2.4) (1.32.0)\n",
            "Requirement already satisfied: opt-einsum~=3.3.0 in /usr/local/lib/python3.7/dist-packages (from tensorflow>=2.4.0->Potosnail==0.2.4) (3.3.0)\n",
            "Requirement already satisfied: six~=1.15.0 in /usr/local/lib/python3.7/dist-packages (from tensorflow>=2.4.0->Potosnail==0.2.4) (1.15.0)\n",
            "Requirement already satisfied: typing-extensions~=3.7.4 in /usr/local/lib/python3.7/dist-packages (from tensorflow>=2.4.0->Potosnail==0.2.4) (3.7.4.3)\n",
            "Requirement already satisfied: astunparse~=1.6.3 in /usr/local/lib/python3.7/dist-packages (from tensorflow>=2.4.0->Potosnail==0.2.4) (1.6.3)\n",
            "Requirement already satisfied: absl-py~=0.10 in /usr/local/lib/python3.7/dist-packages (from tensorflow>=2.4.0->Potosnail==0.2.4) (0.10.0)\n",
            "Requirement already satisfied: protobuf>=3.9.2 in /usr/local/lib/python3.7/dist-packages (from tensorflow>=2.4.0->Potosnail==0.2.4) (3.12.4)\n",
            "Requirement already satisfied: flatbuffers~=1.12.0 in /usr/local/lib/python3.7/dist-packages (from tensorflow>=2.4.0->Potosnail==0.2.4) (1.12)\n",
            "Requirement already satisfied: termcolor~=1.1.0 in /usr/local/lib/python3.7/dist-packages (from tensorflow>=2.4.0->Potosnail==0.2.4) (1.1.0)\n",
            "Requirement already satisfied: keras-preprocessing~=1.1.2 in /usr/local/lib/python3.7/dist-packages (from tensorflow>=2.4.0->Potosnail==0.2.4) (1.1.2)\n",
            "Requirement already satisfied: h5py~=2.10.0 in /usr/local/lib/python3.7/dist-packages (from tensorflow>=2.4.0->Potosnail==0.2.4) (2.10.0)\n",
            "Requirement already satisfied: pytz>=2017.2 in /usr/local/lib/python3.7/dist-packages (from pandas>=1.1.3->Potosnail==0.2.4) (2018.9)\n",
            "Requirement already satisfied: patsy>=0.5 in /usr/local/lib/python3.7/dist-packages (from statsmodels>=0.12.0->Potosnail==0.2.4) (0.5.1)\n",
            "Requirement already satisfied: google-auth<2,>=1.6.3 in /usr/local/lib/python3.7/dist-packages (from tensorboard~=2.4->tensorflow>=2.4.0->Potosnail==0.2.4) (1.27.1)\n",
            "Requirement already satisfied: google-auth-oauthlib<0.5,>=0.4.1 in /usr/local/lib/python3.7/dist-packages (from tensorboard~=2.4->tensorflow>=2.4.0->Potosnail==0.2.4) (0.4.3)\n",
            "Requirement already satisfied: werkzeug>=0.11.15 in /usr/local/lib/python3.7/dist-packages (from tensorboard~=2.4->tensorflow>=2.4.0->Potosnail==0.2.4) (1.0.1)\n",
            "Requirement already satisfied: tensorboard-plugin-wit>=1.6.0 in /usr/local/lib/python3.7/dist-packages (from tensorboard~=2.4->tensorflow>=2.4.0->Potosnail==0.2.4) (1.8.0)\n",
            "Requirement already satisfied: requests<3,>=2.21.0 in /usr/local/lib/python3.7/dist-packages (from tensorboard~=2.4->tensorflow>=2.4.0->Potosnail==0.2.4) (2.23.0)\n",
            "Requirement already satisfied: setuptools>=41.0.0 in /usr/local/lib/python3.7/dist-packages (from tensorboard~=2.4->tensorflow>=2.4.0->Potosnail==0.2.4) (54.0.0)\n",
            "Requirement already satisfied: markdown>=2.6.8 in /usr/local/lib/python3.7/dist-packages (from tensorboard~=2.4->tensorflow>=2.4.0->Potosnail==0.2.4) (3.3.4)\n",
            "Requirement already satisfied: cachetools<5.0,>=2.0.0 in /usr/local/lib/python3.7/dist-packages (from google-auth<2,>=1.6.3->tensorboard~=2.4->tensorflow>=2.4.0->Potosnail==0.2.4) (4.2.1)\n",
            "Requirement already satisfied: rsa<5,>=3.1.4; python_version >= \"3.6\" in /usr/local/lib/python3.7/dist-packages (from google-auth<2,>=1.6.3->tensorboard~=2.4->tensorflow>=2.4.0->Potosnail==0.2.4) (4.7.2)\n",
            "Requirement already satisfied: pyasn1-modules>=0.2.1 in /usr/local/lib/python3.7/dist-packages (from google-auth<2,>=1.6.3->tensorboard~=2.4->tensorflow>=2.4.0->Potosnail==0.2.4) (0.2.8)\n",
            "Requirement already satisfied: requests-oauthlib>=0.7.0 in /usr/local/lib/python3.7/dist-packages (from google-auth-oauthlib<0.5,>=0.4.1->tensorboard~=2.4->tensorflow>=2.4.0->Potosnail==0.2.4) (1.3.0)\n",
            "Requirement already satisfied: certifi>=2017.4.17 in /usr/local/lib/python3.7/dist-packages (from requests<3,>=2.21.0->tensorboard~=2.4->tensorflow>=2.4.0->Potosnail==0.2.4) (2020.12.5)\n",
            "Requirement already satisfied: chardet<4,>=3.0.2 in /usr/local/lib/python3.7/dist-packages (from requests<3,>=2.21.0->tensorboard~=2.4->tensorflow>=2.4.0->Potosnail==0.2.4) (3.0.4)\n",
            "Requirement already satisfied: idna<3,>=2.5 in /usr/local/lib/python3.7/dist-packages (from requests<3,>=2.21.0->tensorboard~=2.4->tensorflow>=2.4.0->Potosnail==0.2.4) (2.10)\n",
            "Requirement already satisfied: importlib-metadata; python_version < \"3.8\" in /usr/local/lib/python3.7/dist-packages (from markdown>=2.6.8->tensorboard~=2.4->tensorflow>=2.4.0->Potosnail==0.2.4) (3.7.0)\n",
            "Requirement already satisfied: pyasn1>=0.1.3 in /usr/local/lib/python3.7/dist-packages (from rsa<5,>=3.1.4; python_version >= \"3.6\"->google-auth<2,>=1.6.3->tensorboard~=2.4->tensorflow>=2.4.0->Potosnail==0.2.4) (0.4.8)\n",
            "Requirement already satisfied: oauthlib>=3.0.0 in /usr/local/lib/python3.7/dist-packages (from requests-oauthlib>=0.7.0->google-auth-oauthlib<0.5,>=0.4.1->tensorboard~=2.4->tensorflow>=2.4.0->Potosnail==0.2.4) (3.1.0)\n",
            "Requirement already satisfied: zipp>=0.5 in /usr/local/lib/python3.7/dist-packages (from importlib-metadata; python_version < \"3.8\"->markdown>=2.6.8->tensorboard~=2.4->tensorflow>=2.4.0->Potosnail==0.2.4) (3.4.1)\n"
          ],
          "name": "stdout"
        }
      ]
    },
    {
      "cell_type": "code",
      "metadata": {
        "id": "fQEh4g4NMYI8"
      },
      "source": [
        "from potosnail import *"
      ],
      "execution_count": null,
      "outputs": []
    },
    {
      "cell_type": "markdown",
      "metadata": {
        "id": "_iDE4Qb9aXBL"
      },
      "source": [
        "# Modeling\r\n",
        "\r\n",
        "1. train a model on the results of training 2,000 RNN's of varying sizes, model parameters, training parameters, and datasets. We would ideally have far more than this but 2k is enough for an mvp. I also plan on expanding into computer vision problems in the future.\r\n",
        "\r\n",
        "2. generate thousands of, 57,000 to be exact, possible combinations, and predict the quality score. quality score is the following formula...\r\n",
        "\r\n",
        "Q = 1 - ($\\frac{loss[i]}{max(loss)}$) + accuracy[i] / 2\r\n",
        "\r\n",
        "3. Build a keras model in accordinance with the comboniation with the highest predicted Q value"
      ]
    },
    {
      "cell_type": "code",
      "metadata": {
        "colab": {
          "base_uri": "https://localhost:8080/"
        },
        "id": "-AqrHIUJMhwG",
        "outputId": "83c6782e-d69a-45cc-b49c-b1b7d85ed698"
      },
      "source": [
        "reg = Models().BuildML('RNN')\r\n",
        "reg"
      ],
      "execution_count": null,
      "outputs": [
        {
          "output_type": "stream",
          "text": [
            "Fitting 3 folds for each of 24 candidates, totalling 72 fits\n"
          ],
          "name": "stdout"
        },
        {
          "output_type": "stream",
          "text": [
            "[Parallel(n_jobs=-1)]: Using backend LokyBackend with 2 concurrent workers.\n"
          ],
          "name": "stderr"
        },
        {
          "output_type": "stream",
          "text": [
            "Fitting 3 folds for each of 24 candidates, totalling 72 fits\n"
          ],
          "name": "stdout"
        },
        {
          "output_type": "stream",
          "text": [
            "[Parallel(n_jobs=-1)]: Using backend LokyBackend with 2 concurrent workers.\n",
            "[Parallel(n_jobs=-1)]: Done  72 out of  72 | elapsed:    2.1s finished\n"
          ],
          "name": "stderr"
        },
        {
          "output_type": "execute_result",
          "data": {
            "text/plain": [
              "DecisionTreeRegressor(ccp_alpha=0.0, criterion='mse', max_depth=8,\n",
              "                      max_features=None, max_leaf_nodes=None,\n",
              "                      min_impurity_decrease=0.0, min_impurity_split=None,\n",
              "                      min_samples_leaf=1, min_samples_split=2,\n",
              "                      min_weight_fraction_leaf=0.0, presort='deprecated',\n",
              "                      random_state=None, splitter='best')"
            ]
          },
          "metadata": {
            "tags": []
          },
          "execution_count": 3
        }
      ]
    },
    {
      "cell_type": "markdown",
      "metadata": {
        "id": "j5yql9Lwf8iu"
      },
      "source": [
        "Here I use the BuildML function and pass 'RNN' because we are training the model on the dataset of RNN training results"
      ]
    },
    {
      "cell_type": "markdown",
      "metadata": {
        "id": "WyDRgIkXgb_m"
      },
      "source": [
        "Obviousley not the best model here but this is a proof of concept. Let's try the twitter dataset..."
      ]
    },
    {
      "cell_type": "code",
      "metadata": {
        "colab": {
          "base_uri": "https://localhost:8080/",
          "height": 1000
        },
        "id": "mMvGr3XqNPB7",
        "outputId": "58713d08-5c0e-4697-a55c-9a6d59de1e10"
      },
      "source": [
        "wiki = Datasets().load_twitter()\r\n",
        "X = wiki['data']\r\n",
        "y = wiki['target']\r\n",
        "v = wiki['vocab']\r\n",
        "\r\n",
        "dm = Models().BuildRNN(reg, v, X, y.reshape(-1, 1), quiet=False)\r\n",
        "dm.summary()"
      ],
      "execution_count": null,
      "outputs": [
        {
          "output_type": "stream",
          "text": [
            "Epoch 1/30\n",
            "447/447 [==============================] - 20s 31ms/step - loss: 0.2284 - accuracy: 0.6718 - val_loss: 0.2227 - val_accuracy: 0.6667\n",
            "Epoch 2/30\n",
            "447/447 [==============================] - 12s 26ms/step - loss: 0.2122 - accuracy: 0.6789 - val_loss: 0.2287 - val_accuracy: 0.6486\n",
            "Epoch 3/30\n",
            "447/447 [==============================] - 12s 27ms/step - loss: 0.1693 - accuracy: 0.7540 - val_loss: 0.2705 - val_accuracy: 0.5936\n",
            "Epoch 4/30\n",
            "447/447 [==============================] - 12s 27ms/step - loss: 0.1328 - accuracy: 0.8093 - val_loss: 0.2907 - val_accuracy: 0.5897\n",
            "Epoch 5/30\n",
            "447/447 [==============================] - 12s 27ms/step - loss: 0.1144 - accuracy: 0.8407 - val_loss: 0.2693 - val_accuracy: 0.6115\n",
            "Epoch 6/30\n",
            "447/447 [==============================] - 12s 27ms/step - loss: 0.1064 - accuracy: 0.8521 - val_loss: 0.2927 - val_accuracy: 0.5889\n",
            "Epoch 7/30\n",
            "447/447 [==============================] - 12s 26ms/step - loss: 0.0978 - accuracy: 0.8593 - val_loss: 0.3370 - val_accuracy: 0.5828\n",
            "Epoch 8/30\n",
            "447/447 [==============================] - 12s 27ms/step - loss: 0.0906 - accuracy: 0.8663 - val_loss: 0.3372 - val_accuracy: 0.5809\n",
            "Epoch 9/30\n",
            "447/447 [==============================] - 12s 27ms/step - loss: 0.0842 - accuracy: 0.8685 - val_loss: 0.2933 - val_accuracy: 0.6002\n",
            "Epoch 10/30\n",
            "447/447 [==============================] - 12s 28ms/step - loss: 0.0800 - accuracy: 0.8739 - val_loss: 0.3552 - val_accuracy: 0.5637\n",
            "Epoch 11/30\n",
            "447/447 [==============================] - 12s 28ms/step - loss: 0.0754 - accuracy: 0.8817 - val_loss: 0.3927 - val_accuracy: 0.5166\n",
            "Epoch 12/30\n",
            "447/447 [==============================] - 12s 28ms/step - loss: 0.0720 - accuracy: 0.8805 - val_loss: 0.3534 - val_accuracy: 0.5779\n",
            "Epoch 13/30\n",
            "447/447 [==============================] - 12s 28ms/step - loss: 0.0690 - accuracy: 0.8922 - val_loss: 0.3630 - val_accuracy: 0.5612\n",
            "Epoch 14/30\n",
            "447/447 [==============================] - 13s 28ms/step - loss: 0.0691 - accuracy: 0.8888 - val_loss: 0.3733 - val_accuracy: 0.5856\n",
            "Epoch 15/30\n",
            "447/447 [==============================] - 12s 28ms/step - loss: 0.0672 - accuracy: 0.8881 - val_loss: 0.3678 - val_accuracy: 0.5601\n",
            "Epoch 16/30\n",
            "447/447 [==============================] - 12s 27ms/step - loss: 0.0683 - accuracy: 0.8895 - val_loss: 0.3682 - val_accuracy: 0.5505\n",
            "Epoch 17/30\n",
            "447/447 [==============================] - 12s 28ms/step - loss: 0.0698 - accuracy: 0.8823 - val_loss: 0.4145 - val_accuracy: 0.5518\n",
            "Epoch 18/30\n",
            "447/447 [==============================] - 12s 28ms/step - loss: 0.0671 - accuracy: 0.8953 - val_loss: 0.4005 - val_accuracy: 0.5630\n",
            "Epoch 19/30\n",
            "447/447 [==============================] - 12s 28ms/step - loss: 0.0650 - accuracy: 0.8929 - val_loss: 0.3897 - val_accuracy: 0.5588\n",
            "Epoch 20/30\n",
            "447/447 [==============================] - 12s 28ms/step - loss: 0.0638 - accuracy: 0.8960 - val_loss: 0.3843 - val_accuracy: 0.5552\n",
            "Epoch 21/30\n",
            "447/447 [==============================] - 12s 27ms/step - loss: 0.0603 - accuracy: 0.9034 - val_loss: 0.4033 - val_accuracy: 0.5629\n",
            "Epoch 22/30\n",
            "447/447 [==============================] - 12s 27ms/step - loss: 0.0593 - accuracy: 0.8980 - val_loss: 0.4015 - val_accuracy: 0.5618\n",
            "Epoch 23/30\n",
            "447/447 [==============================] - 12s 28ms/step - loss: 0.0573 - accuracy: 0.9043 - val_loss: 0.3882 - val_accuracy: 0.5649\n",
            "Epoch 24/30\n",
            "447/447 [==============================] - 12s 28ms/step - loss: 0.0561 - accuracy: 0.9085 - val_loss: 0.3787 - val_accuracy: 0.5609\n",
            "Epoch 25/30\n",
            "447/447 [==============================] - 12s 27ms/step - loss: 0.0614 - accuracy: 0.8992 - val_loss: 0.3894 - val_accuracy: 0.5448\n",
            "Epoch 26/30\n",
            "447/447 [==============================] - 12s 28ms/step - loss: 0.0570 - accuracy: 0.9068 - val_loss: 0.3915 - val_accuracy: 0.5726\n",
            "Epoch 27/30\n",
            "447/447 [==============================] - 12s 28ms/step - loss: 0.0576 - accuracy: 0.9027 - val_loss: 0.3950 - val_accuracy: 0.5591\n",
            "Epoch 28/30\n",
            "447/447 [==============================] - 12s 28ms/step - loss: 0.0567 - accuracy: 0.9074 - val_loss: 0.3822 - val_accuracy: 0.5647\n",
            "Epoch 29/30\n",
            "447/447 [==============================] - 12s 28ms/step - loss: 0.0584 - accuracy: 0.9014 - val_loss: 0.3755 - val_accuracy: 0.5525\n",
            "Epoch 30/30\n",
            "447/447 [==============================] - 12s 28ms/step - loss: 0.0565 - accuracy: 0.9060 - val_loss: 0.4086 - val_accuracy: 0.5385\n",
            "{'output_dim': 1.0, 'embedding': 15996.0, 'nodes': 32.0, 'stacking': 1.0, 'dropout': 1.0, 'bidirectional': 1.0, 'epochs': 30.0, 'batch_size': 16.0, 'len_dataset': 8936.0, 'n_features': 17.0, 'dominant_class': 1.0, 'relu': 0.0, 'tanh': 1.0, 'L1': 0.0, 'L2': 1.0, 'None': 0.0, 'adam': 1.0, 'rmsprop': 0.0, 'sgd': 0.0, 'GRU': 0.0, 'LSTM': 1.0, 'quality': 1.4917530274841222}\n",
            "None\n",
            "None\n",
            "Model: \"sequential_3\"\n",
            "_________________________________________________________________\n",
            "Layer (type)                 Output Shape              Param #   \n",
            "=================================================================\n",
            "embedding_3 (Embedding)      (None, None, 32)          511872    \n",
            "_________________________________________________________________\n",
            "bidirectional_6 (Bidirection (None, None, 64)          16640     \n",
            "_________________________________________________________________\n",
            "dropout_3 (Dropout)          (None, None, 64)          0         \n",
            "_________________________________________________________________\n",
            "bidirectional_7 (Bidirection (None, None, 32)          10368     \n",
            "_________________________________________________________________\n",
            "dense_6 (Dense)              (None, None, 16)          528       \n",
            "_________________________________________________________________\n",
            "dense_7 (Dense)              (None, None, 1)           17        \n",
            "=================================================================\n",
            "Total params: 539,425\n",
            "Trainable params: 539,425\n",
            "Non-trainable params: 0\n",
            "_________________________________________________________________\n"
          ],
          "name": "stdout"
        },
        {
          "output_type": "display_data",
          "data": {
            "image/png": "[encoded data removed]",
            "text/plain": [
              "<Figure size 432x288 with 1 Axes>"
            ]
          },
          "metadata": {
            "tags": [],
            "needs_background": "light"
          }
        }
      ]
    },
    {
      "cell_type": "markdown",
      "metadata": {
        "id": "kliqfEFXib5L"
      },
      "source": [
        "## other details\r\n",
        "* batch size of 16\r\n",
        "* L2 regularization\r\n",
        "* adam optimizer\r\n",
        "\r\n",
        "all of this was predicted by out Decision Tree Regressor!"
      ]
    },
    {
      "cell_type": "code",
      "metadata": {
        "id": "HTvqtBcdjFLa"
      },
      "source": [
        ""
      ],
      "execution_count": null,
      "outputs": []
    }
  ]
}