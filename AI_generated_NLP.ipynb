{
  "nbformat": 4,
  "nbformat_minor": 0,
  "metadata": {
    "colab": {
      "name": "AI_generated_NLP.ipynb",
      "provenance": [],
      "collapsed_sections": [],
      "mount_file_id": "1dWgxcQQ2BpqXYrFd5bNE_uW684UVyVyn",
      "authorship_tag": "ABX9TyN1oquKtlu8pjH1QmB2ZWEq",
      "include_colab_link": true
    },
    "kernelspec": {
      "name": "python3",
      "display_name": "Python 3"
    }
  },
  "cells": [
    {
      "cell_type": "markdown",
      "metadata": {
        "id": "view-in-github",
        "colab_type": "text"
      },
      "source": [
        "<a href=\"https://colab.research.google.com/github/spe301/AI-generated-AI/blob/main/AI_generated_NLP.ipynb\" target=\"_parent\"><img src=\"https://colab.research.google.com/assets/colab-badge.svg\" alt=\"Open In Colab\"/></a>"
      ]
    },
    {
      "cell_type": "code",
      "metadata": {
        "colab": {
          "base_uri": "https://localhost:8080/"
        },
        "id": "CkPOituvoRXT",
        "outputId": "415e107d-171f-4df1-83a5-b44044cd1479"
      },
      "source": [
        "!pip install Potosnail==0.2.1"
      ],
      "execution_count": 1,
      "outputs": [
        {
          "output_type": "stream",
          "text": [
            "Requirement already satisfied: Potosnail==0.2.1 in /usr/local/lib/python3.7/dist-packages (0.2.1)\n",
            "Requirement already satisfied: regex==2020.10.15 in /usr/local/lib/python3.7/dist-packages (from Potosnail==0.2.1) (2020.10.15)\n",
            "Requirement already satisfied: matplotlib>=3.3.2 in /usr/local/lib/python3.7/dist-packages (from Potosnail==0.2.1) (3.3.4)\n",
            "Requirement already satisfied: urllib3==1.25.11 in /usr/local/lib/python3.7/dist-packages (from Potosnail==0.2.1) (1.25.11)\n",
            "Requirement already satisfied: scikit-learn==0.22.2.post1 in /usr/local/lib/python3.7/dist-packages (from Potosnail==0.2.1) (0.22.2.post1)\n",
            "Requirement already satisfied: xgboost<=1.3.1 in /usr/local/lib/python3.7/dist-packages (from Potosnail==0.2.1) (0.90)\n",
            "Requirement already satisfied: statsmodels>=0.12.0 in /usr/local/lib/python3.7/dist-packages (from Potosnail==0.2.1) (0.12.2)\n",
            "Requirement already satisfied: pandas>=1.1.3 in /usr/local/lib/python3.7/dist-packages (from Potosnail==0.2.1) (1.1.5)\n",
            "Requirement already satisfied: beautifulsoup4==4.9.3 in /usr/local/lib/python3.7/dist-packages (from Potosnail==0.2.1) (4.9.3)\n",
            "Requirement already satisfied: tensorflow>=2.4.0 in /usr/local/lib/python3.7/dist-packages (from Potosnail==0.2.1) (2.4.1)\n",
            "Requirement already satisfied: seaborn>=0.11.0 in /usr/local/lib/python3.7/dist-packages (from Potosnail==0.2.1) (0.11.1)\n",
            "Requirement already satisfied: numpy>=1.18.0 in /usr/local/lib/python3.7/dist-packages (from Potosnail==0.2.1) (1.19.5)\n",
            "Requirement already satisfied: lxml==4.6.1 in /usr/local/lib/python3.7/dist-packages (from Potosnail==0.2.1) (4.6.1)\n",
            "Requirement already satisfied: pyparsing!=2.0.4,!=2.1.2,!=2.1.6,>=2.0.3 in /usr/local/lib/python3.7/dist-packages (from matplotlib>=3.3.2->Potosnail==0.2.1) (2.4.7)\n",
            "Requirement already satisfied: kiwisolver>=1.0.1 in /usr/local/lib/python3.7/dist-packages (from matplotlib>=3.3.2->Potosnail==0.2.1) (1.3.1)\n",
            "Requirement already satisfied: python-dateutil>=2.1 in /usr/local/lib/python3.7/dist-packages (from matplotlib>=3.3.2->Potosnail==0.2.1) (2.8.1)\n",
            "Requirement already satisfied: pillow>=6.2.0 in /usr/local/lib/python3.7/dist-packages (from matplotlib>=3.3.2->Potosnail==0.2.1) (7.0.0)\n",
            "Requirement already satisfied: cycler>=0.10 in /usr/local/lib/python3.7/dist-packages (from matplotlib>=3.3.2->Potosnail==0.2.1) (0.10.0)\n",
            "Requirement already satisfied: scipy>=0.17.0 in /usr/local/lib/python3.7/dist-packages (from scikit-learn==0.22.2.post1->Potosnail==0.2.1) (1.4.1)\n",
            "Requirement already satisfied: joblib>=0.11 in /usr/local/lib/python3.7/dist-packages (from scikit-learn==0.22.2.post1->Potosnail==0.2.1) (1.0.1)\n",
            "Requirement already satisfied: patsy>=0.5 in /usr/local/lib/python3.7/dist-packages (from statsmodels>=0.12.0->Potosnail==0.2.1) (0.5.1)\n",
            "Requirement already satisfied: pytz>=2017.2 in /usr/local/lib/python3.7/dist-packages (from pandas>=1.1.3->Potosnail==0.2.1) (2018.9)\n",
            "Requirement already satisfied: soupsieve>1.2; python_version >= \"3.0\" in /usr/local/lib/python3.7/dist-packages (from beautifulsoup4==4.9.3->Potosnail==0.2.1) (2.2)\n",
            "Requirement already satisfied: typing-extensions~=3.7.4 in /usr/local/lib/python3.7/dist-packages (from tensorflow>=2.4.0->Potosnail==0.2.1) (3.7.4.3)\n",
            "Requirement already satisfied: keras-preprocessing~=1.1.2 in /usr/local/lib/python3.7/dist-packages (from tensorflow>=2.4.0->Potosnail==0.2.1) (1.1.2)\n",
            "Requirement already satisfied: flatbuffers~=1.12.0 in /usr/local/lib/python3.7/dist-packages (from tensorflow>=2.4.0->Potosnail==0.2.1) (1.12)\n",
            "Requirement already satisfied: gast==0.3.3 in /usr/local/lib/python3.7/dist-packages (from tensorflow>=2.4.0->Potosnail==0.2.1) (0.3.3)\n",
            "Requirement already satisfied: google-pasta~=0.2 in /usr/local/lib/python3.7/dist-packages (from tensorflow>=2.4.0->Potosnail==0.2.1) (0.2.0)\n",
            "Requirement already satisfied: wheel~=0.35 in /usr/local/lib/python3.7/dist-packages (from tensorflow>=2.4.0->Potosnail==0.2.1) (0.36.2)\n",
            "Requirement already satisfied: opt-einsum~=3.3.0 in /usr/local/lib/python3.7/dist-packages (from tensorflow>=2.4.0->Potosnail==0.2.1) (3.3.0)\n",
            "Requirement already satisfied: wrapt~=1.12.1 in /usr/local/lib/python3.7/dist-packages (from tensorflow>=2.4.0->Potosnail==0.2.1) (1.12.1)\n",
            "Requirement already satisfied: astunparse~=1.6.3 in /usr/local/lib/python3.7/dist-packages (from tensorflow>=2.4.0->Potosnail==0.2.1) (1.6.3)\n",
            "Requirement already satisfied: tensorboard~=2.4 in /usr/local/lib/python3.7/dist-packages (from tensorflow>=2.4.0->Potosnail==0.2.1) (2.4.1)\n",
            "Requirement already satisfied: h5py~=2.10.0 in /usr/local/lib/python3.7/dist-packages (from tensorflow>=2.4.0->Potosnail==0.2.1) (2.10.0)\n",
            "Requirement already satisfied: grpcio~=1.32.0 in /usr/local/lib/python3.7/dist-packages (from tensorflow>=2.4.0->Potosnail==0.2.1) (1.32.0)\n",
            "Requirement already satisfied: absl-py~=0.10 in /usr/local/lib/python3.7/dist-packages (from tensorflow>=2.4.0->Potosnail==0.2.1) (0.10.0)\n",
            "Requirement already satisfied: six~=1.15.0 in /usr/local/lib/python3.7/dist-packages (from tensorflow>=2.4.0->Potosnail==0.2.1) (1.15.0)\n",
            "Requirement already satisfied: tensorflow-estimator<2.5.0,>=2.4.0 in /usr/local/lib/python3.7/dist-packages (from tensorflow>=2.4.0->Potosnail==0.2.1) (2.4.0)\n",
            "Requirement already satisfied: protobuf>=3.9.2 in /usr/local/lib/python3.7/dist-packages (from tensorflow>=2.4.0->Potosnail==0.2.1) (3.12.4)\n",
            "Requirement already satisfied: termcolor~=1.1.0 in /usr/local/lib/python3.7/dist-packages (from tensorflow>=2.4.0->Potosnail==0.2.1) (1.1.0)\n",
            "Requirement already satisfied: google-auth-oauthlib<0.5,>=0.4.1 in /usr/local/lib/python3.7/dist-packages (from tensorboard~=2.4->tensorflow>=2.4.0->Potosnail==0.2.1) (0.4.3)\n",
            "Requirement already satisfied: requests<3,>=2.21.0 in /usr/local/lib/python3.7/dist-packages (from tensorboard~=2.4->tensorflow>=2.4.0->Potosnail==0.2.1) (2.23.0)\n",
            "Requirement already satisfied: werkzeug>=0.11.15 in /usr/local/lib/python3.7/dist-packages (from tensorboard~=2.4->tensorflow>=2.4.0->Potosnail==0.2.1) (1.0.1)\n",
            "Requirement already satisfied: google-auth<2,>=1.6.3 in /usr/local/lib/python3.7/dist-packages (from tensorboard~=2.4->tensorflow>=2.4.0->Potosnail==0.2.1) (1.27.1)\n",
            "Requirement already satisfied: tensorboard-plugin-wit>=1.6.0 in /usr/local/lib/python3.7/dist-packages (from tensorboard~=2.4->tensorflow>=2.4.0->Potosnail==0.2.1) (1.8.0)\n",
            "Requirement already satisfied: setuptools>=41.0.0 in /usr/local/lib/python3.7/dist-packages (from tensorboard~=2.4->tensorflow>=2.4.0->Potosnail==0.2.1) (54.0.0)\n",
            "Requirement already satisfied: markdown>=2.6.8 in /usr/local/lib/python3.7/dist-packages (from tensorboard~=2.4->tensorflow>=2.4.0->Potosnail==0.2.1) (3.3.4)\n",
            "Requirement already satisfied: requests-oauthlib>=0.7.0 in /usr/local/lib/python3.7/dist-packages (from google-auth-oauthlib<0.5,>=0.4.1->tensorboard~=2.4->tensorflow>=2.4.0->Potosnail==0.2.1) (1.3.0)\n",
            "Requirement already satisfied: certifi>=2017.4.17 in /usr/local/lib/python3.7/dist-packages (from requests<3,>=2.21.0->tensorboard~=2.4->tensorflow>=2.4.0->Potosnail==0.2.1) (2020.12.5)\n",
            "Requirement already satisfied: idna<3,>=2.5 in /usr/local/lib/python3.7/dist-packages (from requests<3,>=2.21.0->tensorboard~=2.4->tensorflow>=2.4.0->Potosnail==0.2.1) (2.10)\n",
            "Requirement already satisfied: chardet<4,>=3.0.2 in /usr/local/lib/python3.7/dist-packages (from requests<3,>=2.21.0->tensorboard~=2.4->tensorflow>=2.4.0->Potosnail==0.2.1) (3.0.4)\n",
            "Requirement already satisfied: rsa<5,>=3.1.4; python_version >= \"3.6\" in /usr/local/lib/python3.7/dist-packages (from google-auth<2,>=1.6.3->tensorboard~=2.4->tensorflow>=2.4.0->Potosnail==0.2.1) (4.7.2)\n",
            "Requirement already satisfied: cachetools<5.0,>=2.0.0 in /usr/local/lib/python3.7/dist-packages (from google-auth<2,>=1.6.3->tensorboard~=2.4->tensorflow>=2.4.0->Potosnail==0.2.1) (4.2.1)\n",
            "Requirement already satisfied: pyasn1-modules>=0.2.1 in /usr/local/lib/python3.7/dist-packages (from google-auth<2,>=1.6.3->tensorboard~=2.4->tensorflow>=2.4.0->Potosnail==0.2.1) (0.2.8)\n",
            "Requirement already satisfied: importlib-metadata; python_version < \"3.8\" in /usr/local/lib/python3.7/dist-packages (from markdown>=2.6.8->tensorboard~=2.4->tensorflow>=2.4.0->Potosnail==0.2.1) (3.7.0)\n",
            "Requirement already satisfied: oauthlib>=3.0.0 in /usr/local/lib/python3.7/dist-packages (from requests-oauthlib>=0.7.0->google-auth-oauthlib<0.5,>=0.4.1->tensorboard~=2.4->tensorflow>=2.4.0->Potosnail==0.2.1) (3.1.0)\n",
            "Requirement already satisfied: pyasn1>=0.1.3 in /usr/local/lib/python3.7/dist-packages (from rsa<5,>=3.1.4; python_version >= \"3.6\"->google-auth<2,>=1.6.3->tensorboard~=2.4->tensorflow>=2.4.0->Potosnail==0.2.1) (0.4.8)\n",
            "Requirement already satisfied: zipp>=0.5 in /usr/local/lib/python3.7/dist-packages (from importlib-metadata; python_version < \"3.8\"->markdown>=2.6.8->tensorboard~=2.4->tensorflow>=2.4.0->Potosnail==0.2.1) (3.4.1)\n"
          ],
          "name": "stdout"
        }
      ]
    },
    {
      "cell_type": "code",
      "metadata": {
        "id": "apVtNy1KLP64"
      },
      "source": [
        "import pandas as pd\r\n",
        "import numpy as np\r\n",
        "from potosnail import *\r\n",
        "\r\n",
        "ml = MachineLearning()\r\n",
        "dl = DeepLearning()\r\n",
        "dh = DataHelper()\r\n",
        "ev = Evaluater()\r\n",
        "al = Algorithms()\r\n",
        "wr = Wrappers()\r\n",
        "st = Stats()\r\n",
        "\r\n",
        "def SuperBear(df):\r\n",
        "  dh = DataHelper()\r\n",
        "  '''gets the nlp results dataset ready for modeling'''\r\n",
        "  df['regularizer'] = df['regularizer'].fillna('None')\r\n",
        "  df['stacking'] = df['stacking'].astype(int)\r\n",
        "  df['dropout'] = df['dropout'].astype(int)\r\n",
        "  df['bidirectional'] = df['bidirectional'].astype(int)\r\n",
        "  act = dh.OHE(df['activation'])\r\n",
        "  reg = dh.OHE(df['regularizer'])\r\n",
        "  opt = dh.OHE(df['optimizer'])\r\n",
        "  method = dh.OHE(df['method'])\r\n",
        "  df = df.drop(['activation', 'regularizer', 'optimizer', 'method'], axis='columns')\r\n",
        "  df = pd.concat([df, act, reg, opt, method], axis='columns')\r\n",
        "  df['val_loss'] = df['val_loss'].fillna(max(df['val_loss']))\r\n",
        "  df['loss'] = df['loss'].fillna(max(df['loss']))\r\n",
        "  return df"
      ],
      "execution_count": 2,
      "outputs": []
    },
    {
      "cell_type": "code",
      "metadata": {
        "id": "298ew3nYB7sw"
      },
      "source": [
        "df1 = pd.read_csv('https://raw.githubusercontent.com/spe301/AI-generated-AI/main/Data/NLP8.csv').drop(['Unnamed: 0'], axis='columns')\r\n",
        "nlp = SuperBear(df1)"
      ],
      "execution_count": 3,
      "outputs": []
    },
    {
      "cell_type": "markdown",
      "metadata": {
        "id": "TZDLpl8gOgPw"
      },
      "source": [
        "# EDA Questions\r\n",
        "\r\n",
        "1. is the difference in validation loss between 9,000 point datasets and 360 point datasets statistically signifigant?\r\n",
        "2. is the difference in 'difference of validation loss and loss' between dropout and no dropout statistically signifigant?\r\n",
        "3. Which model had the highest epochs and how many standard deviations away were it's accuracies from average (z score)\r\n",
        "4. How is n_nodes correlated for smaller datasets compared to larger datasets?"
      ]
    },
    {
      "cell_type": "code",
      "metadata": {
        "colab": {
          "base_uri": "https://localhost:8080/"
        },
        "id": "oUHZv0CGOckf",
        "outputId": "6716e201-24bc-467f-d4f3-49036361313c"
      },
      "source": [
        "from scipy.stats import ttest_ind\r\n",
        "\r\n",
        "s1 = nlp.loc[nlp['len_dataset'] == 360]['val_loss'].sample(100)\r\n",
        "s2 = nlp.loc[nlp['len_dataset'] != 360]['val_loss'].sample(100)\r\n",
        "ttest_ind(s1, s2)"
      ],
      "execution_count": 4,
      "outputs": [
        {
          "output_type": "execute_result",
          "data": {
            "text/plain": [
              "Ttest_indResult(statistic=8.7231388195817, pvalue=1.106088544388026e-15)"
            ]
          },
          "metadata": {
            "tags": []
          },
          "execution_count": 4
        }
      ]
    },
    {
      "cell_type": "markdown",
      "metadata": {
        "id": "m_iO6nEuXK1G"
      },
      "source": [
        "validation loss is signifigantly lower with larger dataset\r\n",
        "\r\n",
        "conclusion: Deep NLP works better for larger datasets with thousands of datapoints."
      ]
    },
    {
      "cell_type": "code",
      "metadata": {
        "colab": {
          "base_uri": "https://localhost:8080/"
        },
        "id": "FlQcrC7vTvSG",
        "outputId": "5b8a45e0-263f-4696-a256-72e6406c7ea6"
      },
      "source": [
        "ldd = nlp.loc[nlp['dropout'] == 1]['val_loss'] - nlp.loc[nlp['dropout'] == 1]['loss']\r\n",
        "s1 = ldd.sample(100)\r\n",
        "ldno = nlp.loc[nlp['dropout'] == 0]['val_loss'] - nlp.loc[nlp['dropout'] == 0]['loss']\r\n",
        "s2 = ldno.sample(100)\r\n",
        "ttest_ind(s1, s2)"
      ],
      "execution_count": 5,
      "outputs": [
        {
          "output_type": "execute_result",
          "data": {
            "text/plain": [
              "Ttest_indResult(statistic=-0.09511000937926599, pvalue=0.9243236333863147)"
            ]
          },
          "metadata": {
            "tags": []
          },
          "execution_count": 5
        }
      ]
    },
    {
      "cell_type": "markdown",
      "metadata": {
        "id": "6ZRbMuVhbER2"
      },
      "source": [
        "We can accept the null hypothesis that dropout does not cause a signifigant change in loss\r\n",
        "\r\n",
        "conclusion: adding a dropout layer is unlikley to decrease overfitting."
      ]
    },
    {
      "cell_type": "code",
      "metadata": {
        "colab": {
          "base_uri": "https://localhost:8080/"
        },
        "id": "s6GXfgrOdu8o",
        "outputId": "3d360010-fdd3-40ef-c58a-9017371c62f9"
      },
      "source": [
        "acc50 = np.mean(list(nlp.loc[nlp['epochs'] == max(nlp['epochs'])]['accuracy']))\r\n",
        "val50 = np.mean(list(nlp.loc[nlp['epochs'] == max(nlp['epochs'])]['val_accuracy']))\r\n",
        "\r\n",
        "st.Z(nlp['accuracy'], acc50), st.Z(nlp['val_accuracy'], val50)"
      ],
      "execution_count": 6,
      "outputs": [
        {
          "output_type": "execute_result",
          "data": {
            "text/plain": [
              "(-1.8442059083699316, -0.43293229648074893)"
            ]
          },
          "metadata": {
            "tags": []
          },
          "execution_count": 6
        }
      ]
    },
    {
      "cell_type": "code",
      "metadata": {
        "colab": {
          "base_uri": "https://localhost:8080/"
        },
        "id": "hywG2OgCeDLH",
        "outputId": "1c3fced9-3698-4867-a308-17b4b3bcd5a3"
      },
      "source": [
        "val50"
      ],
      "execution_count": 7,
      "outputs": [
        {
          "output_type": "execute_result",
          "data": {
            "text/plain": [
              "0.4987113395917047"
            ]
          },
          "metadata": {
            "tags": []
          },
          "execution_count": 7
        }
      ]
    },
    {
      "cell_type": "markdown",
      "metadata": {
        "id": "9fHjK9_Md9ZZ"
      },
      "source": [
        "Models that were trained for 50 epochs had lower accuracies than average but were also less overfit.\r\n",
        "\r\n",
        "Conclusion: overfitting seems to be a major problem, setting epochs higher while figuring out how to increase accuracy may be well worth it."
      ]
    },
    {
      "cell_type": "code",
      "metadata": {
        "colab": {
          "base_uri": "https://localhost:8080/"
        },
        "id": "N0b51TUxe_Ai",
        "outputId": "2539c24a-a6c2-4741-a6c4-baccaca08952"
      },
      "source": [
        "np.mean(nlp['epochs'])"
      ],
      "execution_count": 8,
      "outputs": [
        {
          "output_type": "execute_result",
          "data": {
            "text/plain": [
              "12.6425"
            ]
          },
          "metadata": {
            "tags": []
          },
          "execution_count": 8
        }
      ]
    },
    {
      "cell_type": "code",
      "metadata": {
        "colab": {
          "base_uri": "https://localhost:8080/",
          "height": 422
        },
        "id": "QxqJbdJTfF4G",
        "outputId": "a895eff3-d512-4f94-8c21-622755936545"
      },
      "source": [
        "kpi_list = ['accuracy', 'loss', 'val_accuracy', 'val_loss']\r\n",
        "kpi = nlp[kpi_list]\r\n",
        "\r\n",
        "scores = []\r\n",
        "for i in range(len(nlp)):\r\n",
        "  ts = (1 - (kpi['loss'][i] / max(kpi['loss'])) + kpi['accuracy'][i])/2\r\n",
        "  vs = (1 - (kpi['val_loss'][i] / max(kpi['val_loss'])) + kpi['val_accuracy'][i])/2\r\n",
        "  score = (ts+vs) - abs(ts-vs)\r\n",
        "  scores.append(score)\r\n",
        "\r\n",
        "nlp2 = nlp.drop(kpi_list, axis='columns')\r\n",
        "nlp2['quality'] = scores\r\n",
        "nlp2"
      ],
      "execution_count": 9,
      "outputs": [
        {
          "output_type": "execute_result",
          "data": {
            "text/html": [
              "<div>\n",
              "<style scoped>\n",
              "    .dataframe tbody tr th:only-of-type {\n",
              "        vertical-align: middle;\n",
              "    }\n",
              "\n",
              "    .dataframe tbody tr th {\n",
              "        vertical-align: top;\n",
              "    }\n",
              "\n",
              "    .dataframe thead th {\n",
              "        text-align: right;\n",
              "    }\n",
              "</style>\n",
              "<table border=\"1\" class=\"dataframe\">\n",
              "  <thead>\n",
              "    <tr style=\"text-align: right;\">\n",
              "      <th></th>\n",
              "      <th>output_dim</th>\n",
              "      <th>embedding</th>\n",
              "      <th>nodes</th>\n",
              "      <th>stacking</th>\n",
              "      <th>dropout</th>\n",
              "      <th>bidirectional</th>\n",
              "      <th>epochs</th>\n",
              "      <th>batch_size</th>\n",
              "      <th>len_dataset</th>\n",
              "      <th>n_features</th>\n",
              "      <th>dominant_class</th>\n",
              "      <th>relu</th>\n",
              "      <th>tanh</th>\n",
              "      <th>L1</th>\n",
              "      <th>L2</th>\n",
              "      <th>None</th>\n",
              "      <th>adam</th>\n",
              "      <th>rmsprop</th>\n",
              "      <th>sgd</th>\n",
              "      <th>GRU</th>\n",
              "      <th>LSTM</th>\n",
              "      <th>quality</th>\n",
              "    </tr>\n",
              "  </thead>\n",
              "  <tbody>\n",
              "    <tr>\n",
              "      <th>0</th>\n",
              "      <td>3</td>\n",
              "      <td>12300</td>\n",
              "      <td>64</td>\n",
              "      <td>0</td>\n",
              "      <td>0</td>\n",
              "      <td>0</td>\n",
              "      <td>7</td>\n",
              "      <td>32</td>\n",
              "      <td>8936</td>\n",
              "      <td>17</td>\n",
              "      <td>0.602954</td>\n",
              "      <td>0.0</td>\n",
              "      <td>1.0</td>\n",
              "      <td>0.0</td>\n",
              "      <td>0.0</td>\n",
              "      <td>1.0</td>\n",
              "      <td>1.0</td>\n",
              "      <td>0.0</td>\n",
              "      <td>0.0</td>\n",
              "      <td>1.0</td>\n",
              "      <td>0.0</td>\n",
              "      <td>1.338706</td>\n",
              "    </tr>\n",
              "    <tr>\n",
              "      <th>1</th>\n",
              "      <td>3</td>\n",
              "      <td>12300</td>\n",
              "      <td>64</td>\n",
              "      <td>1</td>\n",
              "      <td>0</td>\n",
              "      <td>0</td>\n",
              "      <td>7</td>\n",
              "      <td>32</td>\n",
              "      <td>8936</td>\n",
              "      <td>17</td>\n",
              "      <td>0.602954</td>\n",
              "      <td>0.0</td>\n",
              "      <td>1.0</td>\n",
              "      <td>0.0</td>\n",
              "      <td>0.0</td>\n",
              "      <td>1.0</td>\n",
              "      <td>1.0</td>\n",
              "      <td>0.0</td>\n",
              "      <td>0.0</td>\n",
              "      <td>1.0</td>\n",
              "      <td>0.0</td>\n",
              "      <td>1.361174</td>\n",
              "    </tr>\n",
              "    <tr>\n",
              "      <th>2</th>\n",
              "      <td>3</td>\n",
              "      <td>12300</td>\n",
              "      <td>64</td>\n",
              "      <td>0</td>\n",
              "      <td>0</td>\n",
              "      <td>0</td>\n",
              "      <td>7</td>\n",
              "      <td>32</td>\n",
              "      <td>8936</td>\n",
              "      <td>17</td>\n",
              "      <td>0.602954</td>\n",
              "      <td>0.0</td>\n",
              "      <td>1.0</td>\n",
              "      <td>1.0</td>\n",
              "      <td>0.0</td>\n",
              "      <td>0.0</td>\n",
              "      <td>1.0</td>\n",
              "      <td>0.0</td>\n",
              "      <td>0.0</td>\n",
              "      <td>1.0</td>\n",
              "      <td>0.0</td>\n",
              "      <td>1.361862</td>\n",
              "    </tr>\n",
              "    <tr>\n",
              "      <th>3</th>\n",
              "      <td>3</td>\n",
              "      <td>12300</td>\n",
              "      <td>64</td>\n",
              "      <td>1</td>\n",
              "      <td>0</td>\n",
              "      <td>0</td>\n",
              "      <td>6</td>\n",
              "      <td>32</td>\n",
              "      <td>8936</td>\n",
              "      <td>17</td>\n",
              "      <td>0.602954</td>\n",
              "      <td>0.0</td>\n",
              "      <td>1.0</td>\n",
              "      <td>1.0</td>\n",
              "      <td>0.0</td>\n",
              "      <td>0.0</td>\n",
              "      <td>1.0</td>\n",
              "      <td>0.0</td>\n",
              "      <td>0.0</td>\n",
              "      <td>1.0</td>\n",
              "      <td>0.0</td>\n",
              "      <td>1.387474</td>\n",
              "    </tr>\n",
              "    <tr>\n",
              "      <th>4</th>\n",
              "      <td>2</td>\n",
              "      <td>45589</td>\n",
              "      <td>64</td>\n",
              "      <td>0</td>\n",
              "      <td>0</td>\n",
              "      <td>0</td>\n",
              "      <td>6</td>\n",
              "      <td>32</td>\n",
              "      <td>360</td>\n",
              "      <td>1724</td>\n",
              "      <td>0.500000</td>\n",
              "      <td>0.0</td>\n",
              "      <td>1.0</td>\n",
              "      <td>0.0</td>\n",
              "      <td>0.0</td>\n",
              "      <td>1.0</td>\n",
              "      <td>1.0</td>\n",
              "      <td>0.0</td>\n",
              "      <td>0.0</td>\n",
              "      <td>1.0</td>\n",
              "      <td>0.0</td>\n",
              "      <td>0.490305</td>\n",
              "    </tr>\n",
              "    <tr>\n",
              "      <th>...</th>\n",
              "      <td>...</td>\n",
              "      <td>...</td>\n",
              "      <td>...</td>\n",
              "      <td>...</td>\n",
              "      <td>...</td>\n",
              "      <td>...</td>\n",
              "      <td>...</td>\n",
              "      <td>...</td>\n",
              "      <td>...</td>\n",
              "      <td>...</td>\n",
              "      <td>...</td>\n",
              "      <td>...</td>\n",
              "      <td>...</td>\n",
              "      <td>...</td>\n",
              "      <td>...</td>\n",
              "      <td>...</td>\n",
              "      <td>...</td>\n",
              "      <td>...</td>\n",
              "      <td>...</td>\n",
              "      <td>...</td>\n",
              "      <td>...</td>\n",
              "      <td>...</td>\n",
              "    </tr>\n",
              "    <tr>\n",
              "      <th>1995</th>\n",
              "      <td>3</td>\n",
              "      <td>12300</td>\n",
              "      <td>256</td>\n",
              "      <td>0</td>\n",
              "      <td>1</td>\n",
              "      <td>1</td>\n",
              "      <td>6</td>\n",
              "      <td>32</td>\n",
              "      <td>8936</td>\n",
              "      <td>17</td>\n",
              "      <td>0.602954</td>\n",
              "      <td>0.0</td>\n",
              "      <td>1.0</td>\n",
              "      <td>1.0</td>\n",
              "      <td>0.0</td>\n",
              "      <td>0.0</td>\n",
              "      <td>0.0</td>\n",
              "      <td>1.0</td>\n",
              "      <td>0.0</td>\n",
              "      <td>0.0</td>\n",
              "      <td>1.0</td>\n",
              "      <td>1.405428</td>\n",
              "    </tr>\n",
              "    <tr>\n",
              "      <th>1996</th>\n",
              "      <td>3</td>\n",
              "      <td>12300</td>\n",
              "      <td>256</td>\n",
              "      <td>1</td>\n",
              "      <td>0</td>\n",
              "      <td>1</td>\n",
              "      <td>6</td>\n",
              "      <td>32</td>\n",
              "      <td>8936</td>\n",
              "      <td>17</td>\n",
              "      <td>0.602954</td>\n",
              "      <td>0.0</td>\n",
              "      <td>1.0</td>\n",
              "      <td>1.0</td>\n",
              "      <td>0.0</td>\n",
              "      <td>0.0</td>\n",
              "      <td>1.0</td>\n",
              "      <td>0.0</td>\n",
              "      <td>0.0</td>\n",
              "      <td>0.0</td>\n",
              "      <td>1.0</td>\n",
              "      <td>1.395079</td>\n",
              "    </tr>\n",
              "    <tr>\n",
              "      <th>1997</th>\n",
              "      <td>3</td>\n",
              "      <td>12300</td>\n",
              "      <td>256</td>\n",
              "      <td>1</td>\n",
              "      <td>0</td>\n",
              "      <td>1</td>\n",
              "      <td>7</td>\n",
              "      <td>32</td>\n",
              "      <td>8936</td>\n",
              "      <td>17</td>\n",
              "      <td>0.602954</td>\n",
              "      <td>0.0</td>\n",
              "      <td>1.0</td>\n",
              "      <td>1.0</td>\n",
              "      <td>0.0</td>\n",
              "      <td>0.0</td>\n",
              "      <td>0.0</td>\n",
              "      <td>1.0</td>\n",
              "      <td>0.0</td>\n",
              "      <td>0.0</td>\n",
              "      <td>1.0</td>\n",
              "      <td>1.341054</td>\n",
              "    </tr>\n",
              "    <tr>\n",
              "      <th>1998</th>\n",
              "      <td>3</td>\n",
              "      <td>12300</td>\n",
              "      <td>256</td>\n",
              "      <td>1</td>\n",
              "      <td>1</td>\n",
              "      <td>1</td>\n",
              "      <td>6</td>\n",
              "      <td>32</td>\n",
              "      <td>8936</td>\n",
              "      <td>17</td>\n",
              "      <td>0.602954</td>\n",
              "      <td>0.0</td>\n",
              "      <td>1.0</td>\n",
              "      <td>1.0</td>\n",
              "      <td>0.0</td>\n",
              "      <td>0.0</td>\n",
              "      <td>1.0</td>\n",
              "      <td>0.0</td>\n",
              "      <td>0.0</td>\n",
              "      <td>0.0</td>\n",
              "      <td>1.0</td>\n",
              "      <td>1.342763</td>\n",
              "    </tr>\n",
              "    <tr>\n",
              "      <th>1999</th>\n",
              "      <td>3</td>\n",
              "      <td>12300</td>\n",
              "      <td>256</td>\n",
              "      <td>1</td>\n",
              "      <td>1</td>\n",
              "      <td>1</td>\n",
              "      <td>6</td>\n",
              "      <td>32</td>\n",
              "      <td>8936</td>\n",
              "      <td>17</td>\n",
              "      <td>0.602954</td>\n",
              "      <td>0.0</td>\n",
              "      <td>1.0</td>\n",
              "      <td>1.0</td>\n",
              "      <td>0.0</td>\n",
              "      <td>0.0</td>\n",
              "      <td>0.0</td>\n",
              "      <td>1.0</td>\n",
              "      <td>0.0</td>\n",
              "      <td>0.0</td>\n",
              "      <td>1.0</td>\n",
              "      <td>1.402762</td>\n",
              "    </tr>\n",
              "  </tbody>\n",
              "</table>\n",
              "<p>2000 rows × 22 columns</p>\n",
              "</div>"
            ],
            "text/plain": [
              "      output_dim  embedding  nodes  stacking  ...  sgd  GRU  LSTM   quality\n",
              "0              3      12300     64         0  ...  0.0  1.0   0.0  1.338706\n",
              "1              3      12300     64         1  ...  0.0  1.0   0.0  1.361174\n",
              "2              3      12300     64         0  ...  0.0  1.0   0.0  1.361862\n",
              "3              3      12300     64         1  ...  0.0  1.0   0.0  1.387474\n",
              "4              2      45589     64         0  ...  0.0  1.0   0.0  0.490305\n",
              "...          ...        ...    ...       ...  ...  ...  ...   ...       ...\n",
              "1995           3      12300    256         0  ...  0.0  0.0   1.0  1.405428\n",
              "1996           3      12300    256         1  ...  0.0  0.0   1.0  1.395079\n",
              "1997           3      12300    256         1  ...  0.0  0.0   1.0  1.341054\n",
              "1998           3      12300    256         1  ...  0.0  0.0   1.0  1.342763\n",
              "1999           3      12300    256         1  ...  0.0  0.0   1.0  1.402762\n",
              "\n",
              "[2000 rows x 22 columns]"
            ]
          },
          "metadata": {
            "tags": []
          },
          "execution_count": 9
        }
      ]
    },
    {
      "cell_type": "code",
      "metadata": {
        "id": "WBtcZVDg-DcZ"
      },
      "source": [
        "counts = list(np.unique(nlp2['nodes']))"
      ],
      "execution_count": 48,
      "outputs": []
    },
    {
      "cell_type": "code",
      "metadata": {
        "colab": {
          "base_uri": "https://localhost:8080/",
          "height": 298
        },
        "id": "wS68-1RV9vlJ",
        "outputId": "2d3ca7f7-1694-4429-97b5-f9b33b75a21b"
      },
      "source": [
        "import seaborn as sns\r\n",
        "from matplotlib import pyplot as plt\r\n",
        "\r\n",
        "smaller = nlp2.loc[nlp2['len_dataset']==360]\r\n",
        "bigger = nlp2.loc[nlp2['len_dataset']!=360]\r\n",
        "\r\n",
        "quals1 = []\r\n",
        "quals2 = []\r\n",
        "for count in counts:\r\n",
        "  avg_score1 = np.mean(smaller.loc[smaller['nodes'] == count]['quality'])\r\n",
        "  avg_score2 = np.mean(bigger.loc[bigger['nodes'] == count]['quality'])\r\n",
        "  quals1.append(avg_score1)\r\n",
        "  quals2.append(avg_score2)\r\n",
        "\r\n",
        "sns.barplot(counts, quals1)\r\n",
        "plt.title('small datasets')"
      ],
      "execution_count": 54,
      "outputs": [
        {
          "output_type": "execute_result",
          "data": {
            "text/plain": [
              "Text(0.5, 1.0, 'small datasets')"
            ]
          },
          "metadata": {
            "tags": []
          },
          "execution_count": 54
        },
        {
          "output_type": "display_data",
          "data": {
            "image/png": "[encoded data removed]",
            "text/plain": [
              "<Figure size 432x288 with 1 Axes>"
            ]
          },
          "metadata": {
            "tags": [],
            "needs_background": "light"
          }
        }
      ]
    },
    {
      "cell_type": "code",
      "metadata": {
        "colab": {
          "base_uri": "https://localhost:8080/",
          "height": 298
        },
        "id": "_w4ErkX_BVgk",
        "outputId": "f2d36042-ecf7-4232-f048-dfcedc59922a"
      },
      "source": [
        "sns.barplot(counts, quals2)\r\n",
        "plt.title('large datasets')"
      ],
      "execution_count": 55,
      "outputs": [
        {
          "output_type": "execute_result",
          "data": {
            "text/plain": [
              "Text(0.5, 1.0, 'large datasets')"
            ]
          },
          "metadata": {
            "tags": []
          },
          "execution_count": 55
        },
        {
          "output_type": "display_data",
          "data": {
            "image/png": "[encoded data removed]",
            "text/plain": [
              "<Figure size 432x288 with 1 Axes>"
            ]
          },
          "metadata": {
            "tags": [],
            "needs_background": "light"
          }
        }
      ]
    },
    {
      "cell_type": "code",
      "metadata": {
        "id": "U9wO1pmspmrW"
      },
      "source": [
        "train, val = dh.HoldOut(nlp2)"
      ],
      "execution_count": 10,
      "outputs": []
    },
    {
      "cell_type": "code",
      "metadata": {
        "colab": {
          "base_uri": "https://localhost:8080/"
        },
        "id": "nussxRqSpy8U",
        "outputId": "6e994bb9-1689-44c6-9c92-0db8ace35b12"
      },
      "source": [
        "kit = wr.WrapML(train, 'quality', 'regression', quiet=False)"
      ],
      "execution_count": 14,
      "outputs": [
        {
          "output_type": "stream",
          "text": [
            "75.49% accuracy, untuned model, raw data\n",
            "Fitting 3 folds for each of 24 candidates, totalling 72 fits\n",
            "Fitting 3 folds for each of 24 candidates, totalling 72 fits\n"
          ],
          "name": "stdout"
        },
        {
          "output_type": "stream",
          "text": [
            "[Parallel(n_jobs=-1)]: Using backend LokyBackend with 2 concurrent workers.\n",
            "[Parallel(n_jobs=-1)]: Using backend LokyBackend with 2 concurrent workers.\n",
            "[Parallel(n_jobs=-1)]: Done  72 out of  72 | elapsed:    2.0s finished\n",
            "[Parallel(n_jobs=-1)]: Using backend LokyBackend with 2 concurrent workers.\n"
          ],
          "name": "stderr"
        },
        {
          "output_type": "stream",
          "text": [
            "86.37% accuracy, tuned model, raw data\n",
            "Fitting 3 folds for each of 24 candidates, totalling 72 fits\n",
            "Fitting 3 folds for each of 24 candidates, totalling 72 fits\n"
          ],
          "name": "stdout"
        },
        {
          "output_type": "stream",
          "text": [
            "[Parallel(n_jobs=-1)]: Using backend LokyBackend with 2 concurrent workers.\n",
            "[Parallel(n_jobs=-1)]: Done  72 out of  72 | elapsed:    2.0s finished\n",
            "[Parallel(n_jobs=-1)]: Using backend LokyBackend with 2 concurrent workers.\n"
          ],
          "name": "stderr"
        },
        {
          "output_type": "stream",
          "text": [
            "69.95% accuracy, tuned model, data is scaled with standard scaler\n",
            "Fitting 3 folds for each of 24 candidates, totalling 72 fits\n",
            "Fitting 3 folds for each of 24 candidates, totalling 72 fits\n"
          ],
          "name": "stdout"
        },
        {
          "output_type": "stream",
          "text": [
            "[Parallel(n_jobs=-1)]: Using backend LokyBackend with 2 concurrent workers.\n"
          ],
          "name": "stderr"
        },
        {
          "output_type": "stream",
          "text": [
            "-8.45% accuracy, tuned model, features have been reduced to 5\n"
          ],
          "name": "stdout"
        },
        {
          "output_type": "stream",
          "text": [
            "[Parallel(n_jobs=-1)]: Done  72 out of  72 | elapsed:    1.6s finished\n"
          ],
          "name": "stderr"
        }
      ]
    },
    {
      "cell_type": "code",
      "metadata": {
        "id": "giZ2Wocj1LLs"
      },
      "source": [
        "model = list(kit.values())[0][0]\r\n",
        "X = list(kit.values())[0][1]\r\n",
        "y = list(kit.values())[0][2]\r\n",
        "Xval = list(kit.values())[0][3]\r\n",
        "yval = list(kit.values())[0][4]\r\n",
        "list(kit.values())[0][5]"
      ],
      "execution_count": 25,
      "outputs": []
    },
    {
      "cell_type": "code",
      "metadata": {
        "colab": {
          "base_uri": "https://localhost:8080/"
        },
        "id": "AjlE5wXx1M9P",
        "outputId": "b69665d2-39f1-40b1-ea37-ec502c57a578"
      },
      "source": [
        "model"
      ],
      "execution_count": 26,
      "outputs": [
        {
          "output_type": "execute_result",
          "data": {
            "text/plain": [
              "DecisionTreeRegressor(ccp_alpha=0.0, criterion='mse', max_depth=None,\n",
              "                      max_features=None, max_leaf_nodes=None,\n",
              "                      min_impurity_decrease=0.0, min_impurity_split=None,\n",
              "                      min_samples_leaf=1, min_samples_split=2,\n",
              "                      min_weight_fraction_leaf=0.0, presort='deprecated',\n",
              "                      random_state=None, splitter='best')"
            ]
          },
          "metadata": {
            "tags": []
          },
          "execution_count": 26
        }
      ]
    },
    {
      "cell_type": "code",
      "metadata": {
        "colab": {
          "base_uri": "https://localhost:8080/"
        },
        "id": "q9C3qQqk2CA9",
        "outputId": "db99897a-5392-4ec2-ddac-af7e8a0b1f67"
      },
      "source": [
        "grid = {'max_depth': [11, 12, 13], 'max_leaf_nodes': [9, 12, 15], 'min_samples_leaf': [3, 4]}\r\n",
        "\r\n",
        "clf = ml.Optimize(model, grid, X, y)\r\n",
        "clf"
      ],
      "execution_count": 30,
      "outputs": [
        {
          "output_type": "stream",
          "text": [
            "Fitting 3 folds for each of 18 candidates, totalling 54 fits\n",
            "Fitting 3 folds for each of 18 candidates, totalling 54 fits\n"
          ],
          "name": "stdout"
        },
        {
          "output_type": "stream",
          "text": [
            "[Parallel(n_jobs=-1)]: Using backend LokyBackend with 2 concurrent workers.\n",
            "[Parallel(n_jobs=-1)]: Using backend LokyBackend with 2 concurrent workers.\n",
            "[Parallel(n_jobs=-1)]: Done  54 out of  54 | elapsed:    1.6s finished\n"
          ],
          "name": "stderr"
        },
        {
          "output_type": "execute_result",
          "data": {
            "text/plain": [
              "DecisionTreeRegressor(ccp_alpha=0.0, criterion='mse', max_depth=12,\n",
              "                      max_features=None, max_leaf_nodes=15,\n",
              "                      min_impurity_decrease=0.0, min_impurity_split=None,\n",
              "                      min_samples_leaf=3, min_samples_split=2,\n",
              "                      min_weight_fraction_leaf=0.0, presort='deprecated',\n",
              "                      random_state=None, splitter='best')"
            ]
          },
          "metadata": {
            "tags": []
          },
          "execution_count": 30
        }
      ]
    },
    {
      "cell_type": "code",
      "metadata": {
        "colab": {
          "base_uri": "https://localhost:8080/"
        },
        "id": "itXCCOyP2RIl",
        "outputId": "7520056b-afcc-4150-f7e1-642adc79b890"
      },
      "source": [
        "ev.EvaluateRegressor(clf, X, Xval, y, yval)"
      ],
      "execution_count": 31,
      "outputs": [
        {
          "output_type": "execute_result",
          "data": {
            "text/plain": [
              "(     predicted    actual     error    %error\n",
              " 0     1.184367  1.138172  0.046195  0.960996\n",
              " 1     1.396522  1.411170  0.014648  1.037996\n",
              " 2     1.135288  1.135954  0.000667  0.058691\n",
              " 3     1.396522  1.368966  0.027556  0.980268\n",
              " 4     1.135288  1.160250  0.024963  2.151501\n",
              " ..         ...       ...       ...       ...\n",
              " 175   1.396522  1.357586  0.038936  0.972119\n",
              " 176   1.396522  1.326643  0.069879  0.949962\n",
              " 177   1.135288  1.247804  0.112517  9.017183\n",
              " 178   1.396522  1.413435  0.016914  1.196636\n",
              " 179   1.396522  1.401696  0.005174  0.369141\n",
              " \n",
              " [180 rows x 4 columns], 0.006998524759018363, 85.18)"
            ]
          },
          "metadata": {
            "tags": []
          },
          "execution_count": 31
        }
      ]
    },
    {
      "cell_type": "code",
      "metadata": {
        "id": "F7mbd3qa44gz"
      },
      "source": [
        "X = np.array(X)\r\n",
        "Xval = np.array(Xval)\r\n",
        "y = np.array(y)\r\n",
        "yval = np.array(yval)"
      ],
      "execution_count": 32,
      "outputs": []
    },
    {
      "cell_type": "code",
      "metadata": {
        "colab": {
          "base_uri": "https://localhost:8080/"
        },
        "id": "LzF--3Yx5Knd",
        "outputId": "cff28259-346e-4cc5-c1e8-85e1cd1767bd"
      },
      "source": [
        "dm = dl.FastNN('regression', 'mse', output_dim=1, nodes=32, regularizer='L2')\r\n",
        "history = dm.fit(X, y, epochs=150, batch_size=32, validation_split=0.2)"
      ],
      "execution_count": 43,
      "outputs": [
        {
          "output_type": "stream",
          "text": [
            "Epoch 1/150\n",
            "41/41 [==============================] - 1s 6ms/step - loss: 103674.3009 - val_loss: 2238.6355\n",
            "Epoch 2/150\n",
            "41/41 [==============================] - 0s 3ms/step - loss: 774.6535 - val_loss: 15.8291\n",
            "Epoch 3/150\n",
            "41/41 [==============================] - 0s 2ms/step - loss: 10.7478 - val_loss: 3.7940\n",
            "Epoch 4/150\n",
            "41/41 [==============================] - 0s 3ms/step - loss: 5.0770 - val_loss: 2.9615\n",
            "Epoch 5/150\n",
            "41/41 [==============================] - 0s 3ms/step - loss: 4.2240 - val_loss: 3.8137\n",
            "Epoch 6/150\n",
            "41/41 [==============================] - 0s 3ms/step - loss: 4.2380 - val_loss: 2.6623\n",
            "Epoch 7/150\n",
            "41/41 [==============================] - 0s 2ms/step - loss: 3.3170 - val_loss: 1.9239\n",
            "Epoch 8/150\n",
            "41/41 [==============================] - 0s 3ms/step - loss: 2.6901 - val_loss: 1.7310\n",
            "Epoch 9/150\n",
            "41/41 [==============================] - 0s 3ms/step - loss: 1.9739 - val_loss: 1.3874\n",
            "Epoch 10/150\n",
            "41/41 [==============================] - 0s 3ms/step - loss: 1.8335 - val_loss: 1.4177\n",
            "Epoch 11/150\n",
            "41/41 [==============================] - 0s 2ms/step - loss: 1.4224 - val_loss: 1.1101\n",
            "Epoch 12/150\n",
            "41/41 [==============================] - 0s 3ms/step - loss: 1.0018 - val_loss: 0.9176\n",
            "Epoch 13/150\n",
            "41/41 [==============================] - 0s 3ms/step - loss: 1.2821 - val_loss: 0.9376\n",
            "Epoch 14/150\n",
            "41/41 [==============================] - 0s 2ms/step - loss: 0.8812 - val_loss: 0.8454\n",
            "Epoch 15/150\n",
            "41/41 [==============================] - 0s 3ms/step - loss: 0.8658 - val_loss: 0.7959\n",
            "Epoch 16/150\n",
            "41/41 [==============================] - 0s 3ms/step - loss: 0.7232 - val_loss: 0.9109\n",
            "Epoch 17/150\n",
            "41/41 [==============================] - 0s 3ms/step - loss: 0.8280 - val_loss: 0.7909\n",
            "Epoch 18/150\n",
            "41/41 [==============================] - 0s 2ms/step - loss: 0.8068 - val_loss: 0.8347\n",
            "Epoch 19/150\n",
            "41/41 [==============================] - 0s 3ms/step - loss: 0.6518 - val_loss: 0.7707\n",
            "Epoch 20/150\n",
            "41/41 [==============================] - 0s 3ms/step - loss: 0.7540 - val_loss: 0.9511\n",
            "Epoch 21/150\n",
            "41/41 [==============================] - 0s 2ms/step - loss: 0.7395 - val_loss: 0.9064\n",
            "Epoch 22/150\n",
            "41/41 [==============================] - 0s 3ms/step - loss: 0.7400 - val_loss: 0.8271\n",
            "Epoch 23/150\n",
            "41/41 [==============================] - 0s 2ms/step - loss: 0.6965 - val_loss: 0.7277\n",
            "Epoch 24/150\n",
            "41/41 [==============================] - 0s 3ms/step - loss: 0.6895 - val_loss: 0.6952\n",
            "Epoch 25/150\n",
            "41/41 [==============================] - 0s 3ms/step - loss: 0.7552 - val_loss: 0.7103\n",
            "Epoch 26/150\n",
            "41/41 [==============================] - 0s 2ms/step - loss: 0.6898 - val_loss: 1.1088\n",
            "Epoch 27/150\n",
            "41/41 [==============================] - 0s 3ms/step - loss: 0.7726 - val_loss: 0.6710\n",
            "Epoch 28/150\n",
            "41/41 [==============================] - 0s 3ms/step - loss: 0.6383 - val_loss: 1.0009\n",
            "Epoch 29/150\n",
            "41/41 [==============================] - 0s 3ms/step - loss: 0.7789 - val_loss: 0.8452\n",
            "Epoch 30/150\n",
            "41/41 [==============================] - 0s 3ms/step - loss: 0.7143 - val_loss: 0.6654\n",
            "Epoch 31/150\n",
            "41/41 [==============================] - 0s 3ms/step - loss: 0.6979 - val_loss: 0.6530\n",
            "Epoch 32/150\n",
            "41/41 [==============================] - 0s 3ms/step - loss: 0.6415 - val_loss: 0.7832\n",
            "Epoch 33/150\n",
            "41/41 [==============================] - 0s 3ms/step - loss: 0.6948 - val_loss: 0.6262\n",
            "Epoch 34/150\n",
            "41/41 [==============================] - 0s 2ms/step - loss: 0.5993 - val_loss: 0.6252\n",
            "Epoch 35/150\n",
            "41/41 [==============================] - 0s 3ms/step - loss: 0.6211 - val_loss: 0.6096\n",
            "Epoch 36/150\n",
            "41/41 [==============================] - 0s 3ms/step - loss: 0.6673 - val_loss: 0.8115\n",
            "Epoch 37/150\n",
            "41/41 [==============================] - 0s 2ms/step - loss: 0.6759 - val_loss: 0.6802\n",
            "Epoch 38/150\n",
            "41/41 [==============================] - 0s 3ms/step - loss: 0.5343 - val_loss: 0.5757\n",
            "Epoch 39/150\n",
            "41/41 [==============================] - 0s 2ms/step - loss: 0.5998 - val_loss: 0.5450\n",
            "Epoch 40/150\n",
            "41/41 [==============================] - 0s 3ms/step - loss: 0.5366 - val_loss: 0.5762\n",
            "Epoch 41/150\n",
            "41/41 [==============================] - 0s 3ms/step - loss: 0.5954 - val_loss: 0.7692\n",
            "Epoch 42/150\n",
            "41/41 [==============================] - 0s 3ms/step - loss: 0.6331 - val_loss: 0.5041\n",
            "Epoch 43/150\n",
            "41/41 [==============================] - 0s 3ms/step - loss: 0.5385 - val_loss: 0.5131\n",
            "Epoch 44/150\n",
            "41/41 [==============================] - 0s 3ms/step - loss: 0.5673 - val_loss: 0.6080\n",
            "Epoch 45/150\n",
            "41/41 [==============================] - 0s 3ms/step - loss: 0.5405 - val_loss: 0.5403\n",
            "Epoch 46/150\n",
            "41/41 [==============================] - 0s 3ms/step - loss: 0.5380 - val_loss: 0.6942\n",
            "Epoch 47/150\n",
            "41/41 [==============================] - 0s 3ms/step - loss: 0.5984 - val_loss: 0.6001\n",
            "Epoch 48/150\n",
            "41/41 [==============================] - 0s 3ms/step - loss: 0.4575 - val_loss: 0.4467\n",
            "Epoch 49/150\n",
            "41/41 [==============================] - 0s 3ms/step - loss: 0.4860 - val_loss: 0.5829\n",
            "Epoch 50/150\n",
            "41/41 [==============================] - 0s 3ms/step - loss: 0.4813 - val_loss: 0.7364\n",
            "Epoch 51/150\n",
            "41/41 [==============================] - 0s 3ms/step - loss: 0.5364 - val_loss: 0.4853\n",
            "Epoch 52/150\n",
            "41/41 [==============================] - 0s 3ms/step - loss: 0.4631 - val_loss: 0.7525\n",
            "Epoch 53/150\n",
            "41/41 [==============================] - 0s 3ms/step - loss: 0.6039 - val_loss: 0.5923\n",
            "Epoch 54/150\n",
            "41/41 [==============================] - 0s 2ms/step - loss: 0.5265 - val_loss: 0.5604\n",
            "Epoch 55/150\n",
            "41/41 [==============================] - 0s 3ms/step - loss: 0.4766 - val_loss: 0.4436\n",
            "Epoch 56/150\n",
            "41/41 [==============================] - 0s 3ms/step - loss: 0.4236 - val_loss: 0.4198\n",
            "Epoch 57/150\n",
            "41/41 [==============================] - 0s 2ms/step - loss: 0.3619 - val_loss: 0.3794\n",
            "Epoch 58/150\n",
            "41/41 [==============================] - 0s 3ms/step - loss: 0.3328 - val_loss: 0.3646\n",
            "Epoch 59/150\n",
            "41/41 [==============================] - 0s 3ms/step - loss: 0.3542 - val_loss: 0.3128\n",
            "Epoch 60/150\n",
            "41/41 [==============================] - 0s 3ms/step - loss: 0.3564 - val_loss: 0.3048\n",
            "Epoch 61/150\n",
            "41/41 [==============================] - 0s 3ms/step - loss: 0.3611 - val_loss: 0.3394\n",
            "Epoch 62/150\n",
            "41/41 [==============================] - 0s 3ms/step - loss: 0.3948 - val_loss: 0.2871\n",
            "Epoch 63/150\n",
            "41/41 [==============================] - 0s 3ms/step - loss: 0.3350 - val_loss: 0.2811\n",
            "Epoch 64/150\n",
            "41/41 [==============================] - 0s 3ms/step - loss: 0.2768 - val_loss: 0.3187\n",
            "Epoch 65/150\n",
            "41/41 [==============================] - 0s 3ms/step - loss: 2.8120 - val_loss: 1.3476\n",
            "Epoch 66/150\n",
            "41/41 [==============================] - 0s 2ms/step - loss: 4.6306 - val_loss: 0.3333\n",
            "Epoch 67/150\n",
            "41/41 [==============================] - 0s 3ms/step - loss: 0.3383 - val_loss: 0.2927\n",
            "Epoch 68/150\n",
            "41/41 [==============================] - 0s 2ms/step - loss: 0.3032 - val_loss: 0.2429\n",
            "Epoch 69/150\n",
            "41/41 [==============================] - 0s 3ms/step - loss: 0.2547 - val_loss: 0.2248\n",
            "Epoch 70/150\n",
            "41/41 [==============================] - 0s 3ms/step - loss: 0.2422 - val_loss: 0.2173\n",
            "Epoch 71/150\n",
            "41/41 [==============================] - 0s 3ms/step - loss: 0.2663 - val_loss: 0.2786\n",
            "Epoch 72/150\n",
            "41/41 [==============================] - 0s 2ms/step - loss: 0.2155 - val_loss: 0.2008\n",
            "Epoch 73/150\n",
            "41/41 [==============================] - 0s 2ms/step - loss: 0.2161 - val_loss: 0.4133\n",
            "Epoch 74/150\n",
            "41/41 [==============================] - 0s 3ms/step - loss: 0.2781 - val_loss: 0.2613\n",
            "Epoch 75/150\n",
            "41/41 [==============================] - 0s 3ms/step - loss: 0.2867 - val_loss: 0.2213\n",
            "Epoch 76/150\n",
            "41/41 [==============================] - 0s 3ms/step - loss: 0.2204 - val_loss: 0.2151\n",
            "Epoch 77/150\n",
            "41/41 [==============================] - 0s 2ms/step - loss: 0.2032 - val_loss: 0.1988\n",
            "Epoch 78/150\n",
            "41/41 [==============================] - 0s 2ms/step - loss: 0.1668 - val_loss: 0.2313\n",
            "Epoch 79/150\n",
            "41/41 [==============================] - 0s 3ms/step - loss: 0.1837 - val_loss: 0.2140\n",
            "Epoch 80/150\n",
            "41/41 [==============================] - 0s 3ms/step - loss: 0.2355 - val_loss: 0.2021\n",
            "Epoch 81/150\n",
            "41/41 [==============================] - 0s 2ms/step - loss: 0.2228 - val_loss: 0.2949\n",
            "Epoch 82/150\n",
            "41/41 [==============================] - 0s 3ms/step - loss: 0.2422 - val_loss: 0.2775\n",
            "Epoch 83/150\n",
            "41/41 [==============================] - 0s 3ms/step - loss: 0.2178 - val_loss: 0.1390\n",
            "Epoch 84/150\n",
            "41/41 [==============================] - 0s 3ms/step - loss: 0.1584 - val_loss: 0.1373\n",
            "Epoch 85/150\n",
            "41/41 [==============================] - 0s 3ms/step - loss: 0.1622 - val_loss: 0.1523\n",
            "Epoch 86/150\n",
            "41/41 [==============================] - 0s 3ms/step - loss: 0.1442 - val_loss: 0.1517\n",
            "Epoch 87/150\n",
            "41/41 [==============================] - 0s 3ms/step - loss: 0.2225 - val_loss: 0.1242\n",
            "Epoch 88/150\n",
            "41/41 [==============================] - 0s 3ms/step - loss: 0.1754 - val_loss: 0.1565\n",
            "Epoch 89/150\n",
            "41/41 [==============================] - 0s 3ms/step - loss: 0.1437 - val_loss: 0.1405\n",
            "Epoch 90/150\n",
            "41/41 [==============================] - 0s 2ms/step - loss: 0.1340 - val_loss: 0.1282\n",
            "Epoch 91/150\n",
            "41/41 [==============================] - 0s 3ms/step - loss: 0.1587 - val_loss: 0.1481\n",
            "Epoch 92/150\n",
            "41/41 [==============================] - 0s 3ms/step - loss: 0.1726 - val_loss: 0.2237\n",
            "Epoch 93/150\n",
            "41/41 [==============================] - 0s 3ms/step - loss: 0.1845 - val_loss: 0.1172\n",
            "Epoch 94/150\n",
            "41/41 [==============================] - 0s 2ms/step - loss: 0.1335 - val_loss: 0.1664\n",
            "Epoch 95/150\n",
            "41/41 [==============================] - 0s 3ms/step - loss: 0.1393 - val_loss: 0.1177\n",
            "Epoch 96/150\n",
            "41/41 [==============================] - 0s 2ms/step - loss: 0.1497 - val_loss: 0.3951\n",
            "Epoch 97/150\n",
            "41/41 [==============================] - 0s 2ms/step - loss: 0.2112 - val_loss: 0.2698\n",
            "Epoch 98/150\n",
            "41/41 [==============================] - 0s 3ms/step - loss: 0.1545 - val_loss: 0.1007\n",
            "Epoch 99/150\n",
            "41/41 [==============================] - 0s 3ms/step - loss: 0.1263 - val_loss: 0.4097\n",
            "Epoch 100/150\n",
            "41/41 [==============================] - 0s 2ms/step - loss: 0.2316 - val_loss: 0.3642\n",
            "Epoch 101/150\n",
            "41/41 [==============================] - 0s 3ms/step - loss: 0.1701 - val_loss: 0.1109\n",
            "Epoch 102/150\n",
            "41/41 [==============================] - 0s 3ms/step - loss: 0.1646 - val_loss: 0.1153\n",
            "Epoch 103/150\n",
            "41/41 [==============================] - 0s 3ms/step - loss: 0.1016 - val_loss: 0.1309\n",
            "Epoch 104/150\n",
            "41/41 [==============================] - 0s 3ms/step - loss: 0.1578 - val_loss: 0.0918\n",
            "Epoch 105/150\n",
            "41/41 [==============================] - 0s 3ms/step - loss: 0.1700 - val_loss: 0.3684\n",
            "Epoch 106/150\n",
            "41/41 [==============================] - 0s 3ms/step - loss: 0.2558 - val_loss: 1.0358\n",
            "Epoch 107/150\n",
            "41/41 [==============================] - 0s 3ms/step - loss: 0.2828 - val_loss: 0.0898\n",
            "Epoch 108/150\n",
            "41/41 [==============================] - 0s 3ms/step - loss: 0.1287 - val_loss: 0.0889\n",
            "Epoch 109/150\n",
            "41/41 [==============================] - 0s 3ms/step - loss: 0.1372 - val_loss: 0.1464\n",
            "Epoch 110/150\n",
            "41/41 [==============================] - 0s 2ms/step - loss: 0.6560 - val_loss: 0.5925\n",
            "Epoch 111/150\n",
            "41/41 [==============================] - 0s 3ms/step - loss: 0.3193 - val_loss: 1.2826\n",
            "Epoch 112/150\n",
            "41/41 [==============================] - 0s 3ms/step - loss: 2.8502 - val_loss: 1.6395\n",
            "Epoch 113/150\n",
            "41/41 [==============================] - 0s 2ms/step - loss: 0.9187 - val_loss: 0.3611\n",
            "Epoch 114/150\n",
            "41/41 [==============================] - 0s 3ms/step - loss: 0.6357 - val_loss: 0.7659\n",
            "Epoch 115/150\n",
            "41/41 [==============================] - 0s 3ms/step - loss: 0.3538 - val_loss: 0.2283\n",
            "Epoch 116/150\n",
            "41/41 [==============================] - 0s 2ms/step - loss: 0.1634 - val_loss: 0.0844\n",
            "Epoch 117/150\n",
            "41/41 [==============================] - 0s 3ms/step - loss: 0.1463 - val_loss: 0.0997\n",
            "Epoch 118/150\n",
            "41/41 [==============================] - 0s 3ms/step - loss: 0.4010 - val_loss: 0.1347\n",
            "Epoch 119/150\n",
            "41/41 [==============================] - 0s 3ms/step - loss: 0.2323 - val_loss: 1.1943\n",
            "Epoch 120/150\n",
            "41/41 [==============================] - 0s 3ms/step - loss: 0.8026 - val_loss: 0.6019\n",
            "Epoch 121/150\n",
            "41/41 [==============================] - 0s 3ms/step - loss: 0.9109 - val_loss: 0.8113\n",
            "Epoch 122/150\n",
            "41/41 [==============================] - 0s 3ms/step - loss: 9.0308 - val_loss: 233.4889\n",
            "Epoch 123/150\n",
            "41/41 [==============================] - 0s 3ms/step - loss: 149.6869 - val_loss: 16.3759\n",
            "Epoch 124/150\n",
            "41/41 [==============================] - 0s 2ms/step - loss: 8.3054 - val_loss: 9.4668\n",
            "Epoch 125/150\n",
            "41/41 [==============================] - 0s 3ms/step - loss: 8.3740 - val_loss: 4.8203\n",
            "Epoch 126/150\n",
            "41/41 [==============================] - 0s 3ms/step - loss: 2.2872 - val_loss: 0.1217\n",
            "Epoch 127/150\n",
            "41/41 [==============================] - 0s 3ms/step - loss: 0.3440 - val_loss: 0.1596\n",
            "Epoch 128/150\n",
            "41/41 [==============================] - 0s 2ms/step - loss: 0.2421 - val_loss: 0.3790\n",
            "Epoch 129/150\n",
            "41/41 [==============================] - 0s 3ms/step - loss: 0.5330 - val_loss: 0.0798\n",
            "Epoch 130/150\n",
            "41/41 [==============================] - 0s 3ms/step - loss: 0.1100 - val_loss: 0.3404\n",
            "Epoch 131/150\n",
            "41/41 [==============================] - 0s 3ms/step - loss: 0.4135 - val_loss: 0.0826\n",
            "Epoch 132/150\n",
            "41/41 [==============================] - 0s 3ms/step - loss: 0.2480 - val_loss: 0.1227\n",
            "Epoch 133/150\n",
            "41/41 [==============================] - 0s 2ms/step - loss: 0.1264 - val_loss: 0.1436\n",
            "Epoch 134/150\n",
            "41/41 [==============================] - 0s 3ms/step - loss: 0.1616 - val_loss: 0.3013\n",
            "Epoch 135/150\n",
            "41/41 [==============================] - 0s 3ms/step - loss: 0.1479 - val_loss: 0.0777\n",
            "Epoch 136/150\n",
            "41/41 [==============================] - 0s 3ms/step - loss: 0.1392 - val_loss: 3.1520\n",
            "Epoch 137/150\n",
            "41/41 [==============================] - 0s 3ms/step - loss: 1.6543 - val_loss: 0.1019\n",
            "Epoch 138/150\n",
            "41/41 [==============================] - 0s 3ms/step - loss: 1.0396 - val_loss: 5.4859\n",
            "Epoch 139/150\n",
            "41/41 [==============================] - 0s 3ms/step - loss: 1.3132 - val_loss: 4.9596\n",
            "Epoch 140/150\n",
            "41/41 [==============================] - 0s 3ms/step - loss: 13.6044 - val_loss: 638.4244\n",
            "Epoch 141/150\n",
            "41/41 [==============================] - 0s 3ms/step - loss: 426.5755 - val_loss: 5.5850\n",
            "Epoch 142/150\n",
            "41/41 [==============================] - 0s 3ms/step - loss: 23.1368 - val_loss: 0.6054\n",
            "Epoch 143/150\n",
            "41/41 [==============================] - 0s 3ms/step - loss: 0.6587 - val_loss: 0.1262\n",
            "Epoch 144/150\n",
            "41/41 [==============================] - 0s 3ms/step - loss: 0.1162 - val_loss: 0.0872\n",
            "Epoch 145/150\n",
            "41/41 [==============================] - 0s 3ms/step - loss: 0.0903 - val_loss: 0.0955\n",
            "Epoch 146/150\n",
            "41/41 [==============================] - 0s 3ms/step - loss: 0.0911 - val_loss: 0.0742\n",
            "Epoch 147/150\n",
            "41/41 [==============================] - 0s 3ms/step - loss: 0.0830 - val_loss: 0.1444\n",
            "Epoch 148/150\n",
            "41/41 [==============================] - 0s 3ms/step - loss: 0.1003 - val_loss: 0.0961\n",
            "Epoch 149/150\n",
            "41/41 [==============================] - 0s 3ms/step - loss: 0.0938 - val_loss: 0.1363\n",
            "Epoch 150/150\n",
            "41/41 [==============================] - 0s 2ms/step - loss: 0.1129 - val_loss: 0.0793\n"
          ],
          "name": "stdout"
        }
      ]
    },
    {
      "cell_type": "code",
      "metadata": {
        "colab": {
          "base_uri": "https://localhost:8080/"
        },
        "id": "6pkE1KbW55Nj",
        "outputId": "97a6604e-7053-4aa2-c18a-17f1a8dbfc31"
      },
      "source": [
        "dm.evaluate(Xval, yval)"
      ],
      "execution_count": 44,
      "outputs": [
        {
          "output_type": "stream",
          "text": [
            "6/6 [==============================] - 0s 2ms/step - loss: 0.0813\n"
          ],
          "name": "stdout"
        },
        {
          "output_type": "execute_result",
          "data": {
            "text/plain": [
              "0.08125180751085281"
            ]
          },
          "metadata": {
            "tags": []
          },
          "execution_count": 44
        }
      ]
    },
    {
      "cell_type": "code",
      "metadata": {
        "colab": {
          "base_uri": "https://localhost:8080/",
          "height": 279
        },
        "id": "hmZf6qwR6Fsa",
        "outputId": "d33fdbc3-cab1-4bbf-9404-a71f7a1f47a0"
      },
      "source": [
        "ev.ViewLoss(history)"
      ],
      "execution_count": 56,
      "outputs": [
        {
          "output_type": "display_data",
          "data": {
            "image/png": "[encoded data removed]",
            "text/plain": [
              "<Figure size 432x288 with 1 Axes>"
            ]
          },
          "metadata": {
            "tags": [],
            "needs_background": "light"
          }
        }
      ]
    },
    {
      "cell_type": "code",
      "metadata": {
        "colab": {
          "base_uri": "https://localhost:8080/"
        },
        "id": "dEQDL3giL_7Y",
        "outputId": "9a2e2b39-554e-43d8-903e-612182886cc9"
      },
      "source": [
        "[0.5] * 10"
      ],
      "execution_count": 73,
      "outputs": [
        {
          "output_type": "execute_result",
          "data": {
            "text/plain": [
              "[0.5, 0.5, 0.5, 0.5, 0.5, 0.5, 0.5, 0.5, 0.5, 0.5]"
            ]
          },
          "metadata": {
            "tags": []
          },
          "execution_count": 73
        }
      ]
    },
    {
      "cell_type": "code",
      "metadata": {
        "colab": {
          "base_uri": "https://localhost:8080/",
          "height": 402
        },
        "id": "nx5SkL8PB-WR",
        "outputId": "9e4a9d43-3340-4fe3-ccc8-8d29201ab121"
      },
      "source": [
        "def BunnyPinkears(params, len_dataset, n_features, dominant_class):\r\n",
        "  '''puts all possible gridsearch combinations in a dataframe'''\r\n",
        "  n = list(params.keys())\r\n",
        "  lst1 = []\r\n",
        "  lst2 = []\r\n",
        "  lst3 = []\r\n",
        "  lst4 = []\r\n",
        "  lst5 = []\r\n",
        "  lst6 = []\r\n",
        "  lst7 = []\r\n",
        "  lst8 = []\r\n",
        "  lst9 = []\r\n",
        "  lst10 = []\r\n",
        "  for i in range(len(params[n[0]])):\r\n",
        "    var1 = params[n[0]][i]\r\n",
        "    for i in range(len(params[n[1]])):\r\n",
        "      var2 = params[n[1]][i]\r\n",
        "      for i in range(len(params[n[2]])):\r\n",
        "        var3 = params[n[2]][i]\r\n",
        "        for i in range(len(params[n[3]])):\r\n",
        "          var4 = params[n[3]][i]\r\n",
        "          for i in range(len(params[n[4]])):\r\n",
        "            var5 = params[n[4]][i]\r\n",
        "            for i in range(len(params[n[5]])):\r\n",
        "              var6 = params[n[5]][i]\r\n",
        "              for i in range(len(params[n[6]])):\r\n",
        "                var7 = params[n[6]][i]\r\n",
        "                for i in range(len(params[n[7]])):\r\n",
        "                  var8 = params[n[7]][i]\r\n",
        "                  for i in range(len(params[n[8]])):\r\n",
        "                    var9 = params[n[8]][i]\r\n",
        "                    for i in range(len(params[n[9]])):\r\n",
        "                      var10 = params[n[9]][i]\r\n",
        "                      lst1.append(var1)\r\n",
        "                      lst2.append(var2)\r\n",
        "                      lst3.append(var3)\r\n",
        "                      lst4.append(var4)\r\n",
        "                      lst5.append(var5)\r\n",
        "                      lst6.append(var6)\r\n",
        "                      lst7.append(var7)\r\n",
        "                      lst8.append(var8)\r\n",
        "                      lst9.append(var9)\r\n",
        "                      lst10.append(var10)\r\n",
        "  df = pd.DataFrame(lst1)\r\n",
        "  df.columns = [n[0]]\r\n",
        "  df[n[1]] = lst2\r\n",
        "  df[n[2]] = lst3\r\n",
        "  df[n[3]] = lst4\r\n",
        "  df[n[4]] = lst5\r\n",
        "  df[n[5]] = lst6\r\n",
        "  df[n[6]] = lst7\r\n",
        "  df[n[7]] = lst8\r\n",
        "  df[n[8]] = lst9\r\n",
        "  df[n[9]] = lst10\r\n",
        "  df['features'] = [n_features] * len(df)\r\n",
        "  df['length'] = [len_dataset] * len(df)\r\n",
        "  df['dominance'] = [dominant_class] * len(df)\r\n",
        "  return df\r\n",
        "                    \r\n",
        "                    \r\n",
        "grid = {'output_dim': [2], #because we have 2 classes\r\n",
        "          'embedding': [45589], #vocab is number of unique words in dataset\r\n",
        "          'nodes': list(range(32, 68, 4)), #we will test between 32 and 64 nodes for the first layer\r\n",
        "          'activation': ['tanh', 'relu'], #we will test between relu and tanh for activation function\r\n",
        "          'regularizer': ['L1', None, 'L2'], #we will use L1 reqularization to prevent overfitting\r\n",
        "          'stacking': [False, True], #stacking makes the first 2 layers the same, we will not do this\r\n",
        "          'dropout': [False, True], #we will not use dropout because we are already using L1 regularization\r\n",
        "          'optimizer': ['adam', 'rmsprop', 'sgd'], #we will test between adam and rmsprop for optimization function\r\n",
        "          'method': ['LSTM', 'GRU'], #we will test between using an LSTM cell and a GRU cell\r\n",
        "          'bidirectional': [True, False]}\r\n",
        "\r\n",
        "NlpGrid = BunnyPinkears(grid, 360, 17, 0.5)    \r\n",
        "NlpGrid"
      ],
      "execution_count": 75,
      "outputs": [
        {
          "output_type": "execute_result",
          "data": {
            "text/html": [
              "<div>\n",
              "<style scoped>\n",
              "    .dataframe tbody tr th:only-of-type {\n",
              "        vertical-align: middle;\n",
              "    }\n",
              "\n",
              "    .dataframe tbody tr th {\n",
              "        vertical-align: top;\n",
              "    }\n",
              "\n",
              "    .dataframe thead th {\n",
              "        text-align: right;\n",
              "    }\n",
              "</style>\n",
              "<table border=\"1\" class=\"dataframe\">\n",
              "  <thead>\n",
              "    <tr style=\"text-align: right;\">\n",
              "      <th></th>\n",
              "      <th>output_dim</th>\n",
              "      <th>embedding</th>\n",
              "      <th>nodes</th>\n",
              "      <th>activation</th>\n",
              "      <th>regularizer</th>\n",
              "      <th>stacking</th>\n",
              "      <th>dropout</th>\n",
              "      <th>optimizer</th>\n",
              "      <th>method</th>\n",
              "      <th>bidirectional</th>\n",
              "      <th>features</th>\n",
              "      <th>length</th>\n",
              "      <th>dominance</th>\n",
              "    </tr>\n",
              "  </thead>\n",
              "  <tbody>\n",
              "    <tr>\n",
              "      <th>0</th>\n",
              "      <td>2</td>\n",
              "      <td>45589</td>\n",
              "      <td>32</td>\n",
              "      <td>tanh</td>\n",
              "      <td>L1</td>\n",
              "      <td>False</td>\n",
              "      <td>False</td>\n",
              "      <td>adam</td>\n",
              "      <td>LSTM</td>\n",
              "      <td>True</td>\n",
              "      <td>17</td>\n",
              "      <td>360</td>\n",
              "      <td>0.5</td>\n",
              "    </tr>\n",
              "    <tr>\n",
              "      <th>1</th>\n",
              "      <td>2</td>\n",
              "      <td>45589</td>\n",
              "      <td>32</td>\n",
              "      <td>tanh</td>\n",
              "      <td>L1</td>\n",
              "      <td>False</td>\n",
              "      <td>False</td>\n",
              "      <td>adam</td>\n",
              "      <td>LSTM</td>\n",
              "      <td>False</td>\n",
              "      <td>17</td>\n",
              "      <td>360</td>\n",
              "      <td>0.5</td>\n",
              "    </tr>\n",
              "    <tr>\n",
              "      <th>2</th>\n",
              "      <td>2</td>\n",
              "      <td>45589</td>\n",
              "      <td>32</td>\n",
              "      <td>tanh</td>\n",
              "      <td>L1</td>\n",
              "      <td>False</td>\n",
              "      <td>False</td>\n",
              "      <td>adam</td>\n",
              "      <td>GRU</td>\n",
              "      <td>True</td>\n",
              "      <td>17</td>\n",
              "      <td>360</td>\n",
              "      <td>0.5</td>\n",
              "    </tr>\n",
              "    <tr>\n",
              "      <th>3</th>\n",
              "      <td>2</td>\n",
              "      <td>45589</td>\n",
              "      <td>32</td>\n",
              "      <td>tanh</td>\n",
              "      <td>L1</td>\n",
              "      <td>False</td>\n",
              "      <td>False</td>\n",
              "      <td>adam</td>\n",
              "      <td>GRU</td>\n",
              "      <td>False</td>\n",
              "      <td>17</td>\n",
              "      <td>360</td>\n",
              "      <td>0.5</td>\n",
              "    </tr>\n",
              "    <tr>\n",
              "      <th>4</th>\n",
              "      <td>2</td>\n",
              "      <td>45589</td>\n",
              "      <td>32</td>\n",
              "      <td>tanh</td>\n",
              "      <td>L1</td>\n",
              "      <td>False</td>\n",
              "      <td>False</td>\n",
              "      <td>rmsprop</td>\n",
              "      <td>LSTM</td>\n",
              "      <td>True</td>\n",
              "      <td>17</td>\n",
              "      <td>360</td>\n",
              "      <td>0.5</td>\n",
              "    </tr>\n",
              "    <tr>\n",
              "      <th>...</th>\n",
              "      <td>...</td>\n",
              "      <td>...</td>\n",
              "      <td>...</td>\n",
              "      <td>...</td>\n",
              "      <td>...</td>\n",
              "      <td>...</td>\n",
              "      <td>...</td>\n",
              "      <td>...</td>\n",
              "      <td>...</td>\n",
              "      <td>...</td>\n",
              "      <td>...</td>\n",
              "      <td>...</td>\n",
              "      <td>...</td>\n",
              "    </tr>\n",
              "    <tr>\n",
              "      <th>2587</th>\n",
              "      <td>2</td>\n",
              "      <td>45589</td>\n",
              "      <td>64</td>\n",
              "      <td>relu</td>\n",
              "      <td>L2</td>\n",
              "      <td>True</td>\n",
              "      <td>True</td>\n",
              "      <td>rmsprop</td>\n",
              "      <td>GRU</td>\n",
              "      <td>False</td>\n",
              "      <td>17</td>\n",
              "      <td>360</td>\n",
              "      <td>0.5</td>\n",
              "    </tr>\n",
              "    <tr>\n",
              "      <th>2588</th>\n",
              "      <td>2</td>\n",
              "      <td>45589</td>\n",
              "      <td>64</td>\n",
              "      <td>relu</td>\n",
              "      <td>L2</td>\n",
              "      <td>True</td>\n",
              "      <td>True</td>\n",
              "      <td>sgd</td>\n",
              "      <td>LSTM</td>\n",
              "      <td>True</td>\n",
              "      <td>17</td>\n",
              "      <td>360</td>\n",
              "      <td>0.5</td>\n",
              "    </tr>\n",
              "    <tr>\n",
              "      <th>2589</th>\n",
              "      <td>2</td>\n",
              "      <td>45589</td>\n",
              "      <td>64</td>\n",
              "      <td>relu</td>\n",
              "      <td>L2</td>\n",
              "      <td>True</td>\n",
              "      <td>True</td>\n",
              "      <td>sgd</td>\n",
              "      <td>LSTM</td>\n",
              "      <td>False</td>\n",
              "      <td>17</td>\n",
              "      <td>360</td>\n",
              "      <td>0.5</td>\n",
              "    </tr>\n",
              "    <tr>\n",
              "      <th>2590</th>\n",
              "      <td>2</td>\n",
              "      <td>45589</td>\n",
              "      <td>64</td>\n",
              "      <td>relu</td>\n",
              "      <td>L2</td>\n",
              "      <td>True</td>\n",
              "      <td>True</td>\n",
              "      <td>sgd</td>\n",
              "      <td>GRU</td>\n",
              "      <td>True</td>\n",
              "      <td>17</td>\n",
              "      <td>360</td>\n",
              "      <td>0.5</td>\n",
              "    </tr>\n",
              "    <tr>\n",
              "      <th>2591</th>\n",
              "      <td>2</td>\n",
              "      <td>45589</td>\n",
              "      <td>64</td>\n",
              "      <td>relu</td>\n",
              "      <td>L2</td>\n",
              "      <td>True</td>\n",
              "      <td>True</td>\n",
              "      <td>sgd</td>\n",
              "      <td>GRU</td>\n",
              "      <td>False</td>\n",
              "      <td>17</td>\n",
              "      <td>360</td>\n",
              "      <td>0.5</td>\n",
              "    </tr>\n",
              "  </tbody>\n",
              "</table>\n",
              "<p>2592 rows × 13 columns</p>\n",
              "</div>"
            ],
            "text/plain": [
              "      output_dim  embedding  nodes  ... features length  dominance\n",
              "0              2      45589     32  ...       17    360        0.5\n",
              "1              2      45589     32  ...       17    360        0.5\n",
              "2              2      45589     32  ...       17    360        0.5\n",
              "3              2      45589     32  ...       17    360        0.5\n",
              "4              2      45589     32  ...       17    360        0.5\n",
              "...          ...        ...    ...  ...      ...    ...        ...\n",
              "2587           2      45589     64  ...       17    360        0.5\n",
              "2588           2      45589     64  ...       17    360        0.5\n",
              "2589           2      45589     64  ...       17    360        0.5\n",
              "2590           2      45589     64  ...       17    360        0.5\n",
              "2591           2      45589     64  ...       17    360        0.5\n",
              "\n",
              "[2592 rows x 13 columns]"
            ]
          },
          "metadata": {
            "tags": []
          },
          "execution_count": 75
        }
      ]
    }
  ]
}