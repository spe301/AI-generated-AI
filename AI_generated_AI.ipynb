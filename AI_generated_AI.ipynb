{
  "nbformat": 4,
  "nbformat_minor": 0,
  "metadata": {
    "colab": {
      "name": "AI_generated_AI.ipynb",
      "provenance": [],
      "authorship_tag": "ABX9TyN9Oisz8nI8ecbzr4VjmgMN",
      "include_colab_link": true
    },
    "kernelspec": {
      "name": "python3",
      "display_name": "Python 3"
    }
  },
  "cells": [
    {
      "cell_type": "markdown",
      "metadata": {
        "id": "view-in-github",
        "colab_type": "text"
      },
      "source": [
        "<a href=\"https://colab.research.google.com/github/spe301/AI-generated-AI/blob/main/AI_generated_AI.ipynb\" target=\"_parent\"><img src=\"https://colab.research.google.com/assets/colab-badge.svg\" alt=\"Open In Colab\"/></a>"
      ]
    },
    {
      "cell_type": "code",
      "metadata": {
        "colab": {
          "base_uri": "https://localhost:8080/"
        },
        "id": "CkPOituvoRXT",
        "outputId": "91899d3e-bf70-42e7-b3a4-3c5d781d3ccd"
      },
      "source": [
        "!pip install Potosnail==0.0.6"
      ],
      "execution_count": 1,
      "outputs": [
        {
          "output_type": "stream",
          "text": [
            "Requirement already satisfied: Potosnail==0.0.6 in /usr/local/lib/python3.6/dist-packages (0.0.6)\n",
            "Requirement already satisfied: beautifulsoup4==4.9.3 in /usr/local/lib/python3.6/dist-packages (from Potosnail==0.0.6) (4.9.3)\n",
            "Requirement already satisfied: scikit-learn<=0.23.2 in /usr/local/lib/python3.6/dist-packages (from Potosnail==0.0.6) (0.22.2.post1)\n",
            "Requirement already satisfied: statsmodels<=0.12.0 in /usr/local/lib/python3.6/dist-packages (from Potosnail==0.0.6) (0.10.2)\n",
            "Requirement already satisfied: regex==2020.10.15 in /usr/local/lib/python3.6/dist-packages (from Potosnail==0.0.6) (2020.10.15)\n",
            "Requirement already satisfied: tensorflow<=2.4.0 in /usr/local/lib/python3.6/dist-packages (from Potosnail==0.0.6) (2.4.0)\n",
            "Requirement already satisfied: xgboost<=1.3.1 in /usr/local/lib/python3.6/dist-packages (from Potosnail==0.0.6) (0.90)\n",
            "Requirement already satisfied: numpy<=1.19.2 in /usr/local/lib/python3.6/dist-packages (from Potosnail==0.0.6) (1.19.2)\n",
            "Requirement already satisfied: urllib3==1.25.11 in /usr/local/lib/python3.6/dist-packages (from Potosnail==0.0.6) (1.25.11)\n",
            "Requirement already satisfied: matplotlib<=3.3.2 in /usr/local/lib/python3.6/dist-packages (from Potosnail==0.0.6) (3.2.2)\n",
            "Requirement already satisfied: lxml==4.6.1 in /usr/local/lib/python3.6/dist-packages (from Potosnail==0.0.6) (4.6.1)\n",
            "Requirement already satisfied: seaborn<=0.11.0 in /usr/local/lib/python3.6/dist-packages (from Potosnail==0.0.6) (0.11.0)\n",
            "Requirement already satisfied: imblearn<=0.0 in /usr/local/lib/python3.6/dist-packages (from Potosnail==0.0.6) (0.0)\n",
            "Requirement already satisfied: pandas<=1.1.3 in /usr/local/lib/python3.6/dist-packages (from Potosnail==0.0.6) (1.1.3)\n",
            "Requirement already satisfied: soupsieve>1.2; python_version >= \"3.0\" in /usr/local/lib/python3.6/dist-packages (from beautifulsoup4==4.9.3->Potosnail==0.0.6) (2.1)\n",
            "Requirement already satisfied: scipy>=0.17.0 in /usr/local/lib/python3.6/dist-packages (from scikit-learn<=0.23.2->Potosnail==0.0.6) (1.4.1)\n",
            "Requirement already satisfied: joblib>=0.11 in /usr/local/lib/python3.6/dist-packages (from scikit-learn<=0.23.2->Potosnail==0.0.6) (1.0.0)\n",
            "Requirement already satisfied: patsy>=0.4.0 in /usr/local/lib/python3.6/dist-packages (from statsmodels<=0.12.0->Potosnail==0.0.6) (0.5.1)\n",
            "Requirement already satisfied: google-pasta~=0.2 in /usr/local/lib/python3.6/dist-packages (from tensorflow<=2.4.0->Potosnail==0.0.6) (0.2.0)\n",
            "Requirement already satisfied: typing-extensions~=3.7.4 in /usr/local/lib/python3.6/dist-packages (from tensorflow<=2.4.0->Potosnail==0.0.6) (3.7.4.3)\n",
            "Requirement already satisfied: termcolor~=1.1.0 in /usr/local/lib/python3.6/dist-packages (from tensorflow<=2.4.0->Potosnail==0.0.6) (1.1.0)\n",
            "Requirement already satisfied: keras-preprocessing~=1.1.2 in /usr/local/lib/python3.6/dist-packages (from tensorflow<=2.4.0->Potosnail==0.0.6) (1.1.2)\n",
            "Requirement already satisfied: h5py~=2.10.0 in /usr/local/lib/python3.6/dist-packages (from tensorflow<=2.4.0->Potosnail==0.0.6) (2.10.0)\n",
            "Requirement already satisfied: wheel~=0.35 in /usr/local/lib/python3.6/dist-packages (from tensorflow<=2.4.0->Potosnail==0.0.6) (0.36.2)\n",
            "Requirement already satisfied: tensorboard~=2.4 in /usr/local/lib/python3.6/dist-packages (from tensorflow<=2.4.0->Potosnail==0.0.6) (2.4.1)\n",
            "Requirement already satisfied: absl-py~=0.10 in /usr/local/lib/python3.6/dist-packages (from tensorflow<=2.4.0->Potosnail==0.0.6) (0.10.0)\n",
            "Requirement already satisfied: opt-einsum~=3.3.0 in /usr/local/lib/python3.6/dist-packages (from tensorflow<=2.4.0->Potosnail==0.0.6) (3.3.0)\n",
            "Requirement already satisfied: protobuf>=3.9.2 in /usr/local/lib/python3.6/dist-packages (from tensorflow<=2.4.0->Potosnail==0.0.6) (3.12.4)\n",
            "Requirement already satisfied: flatbuffers~=1.12.0 in /usr/local/lib/python3.6/dist-packages (from tensorflow<=2.4.0->Potosnail==0.0.6) (1.12)\n",
            "Requirement already satisfied: wrapt~=1.12.1 in /usr/local/lib/python3.6/dist-packages (from tensorflow<=2.4.0->Potosnail==0.0.6) (1.12.1)\n",
            "Requirement already satisfied: astunparse~=1.6.3 in /usr/local/lib/python3.6/dist-packages (from tensorflow<=2.4.0->Potosnail==0.0.6) (1.6.3)\n",
            "Requirement already satisfied: six~=1.15.0 in /usr/local/lib/python3.6/dist-packages (from tensorflow<=2.4.0->Potosnail==0.0.6) (1.15.0)\n",
            "Requirement already satisfied: gast==0.3.3 in /usr/local/lib/python3.6/dist-packages (from tensorflow<=2.4.0->Potosnail==0.0.6) (0.3.3)\n",
            "Requirement already satisfied: tensorflow-estimator<2.5.0,>=2.4.0rc0 in /usr/local/lib/python3.6/dist-packages (from tensorflow<=2.4.0->Potosnail==0.0.6) (2.4.0)\n",
            "Requirement already satisfied: grpcio~=1.32.0 in /usr/local/lib/python3.6/dist-packages (from tensorflow<=2.4.0->Potosnail==0.0.6) (1.32.0)\n",
            "Requirement already satisfied: cycler>=0.10 in /usr/local/lib/python3.6/dist-packages (from matplotlib<=3.3.2->Potosnail==0.0.6) (0.10.0)\n",
            "Requirement already satisfied: kiwisolver>=1.0.1 in /usr/local/lib/python3.6/dist-packages (from matplotlib<=3.3.2->Potosnail==0.0.6) (1.3.1)\n",
            "Requirement already satisfied: pyparsing!=2.0.4,!=2.1.2,!=2.1.6,>=2.0.1 in /usr/local/lib/python3.6/dist-packages (from matplotlib<=3.3.2->Potosnail==0.0.6) (2.4.7)\n",
            "Requirement already satisfied: python-dateutil>=2.1 in /usr/local/lib/python3.6/dist-packages (from matplotlib<=3.3.2->Potosnail==0.0.6) (2.8.1)\n",
            "Requirement already satisfied: imbalanced-learn in /usr/local/lib/python3.6/dist-packages (from imblearn<=0.0->Potosnail==0.0.6) (0.4.3)\n",
            "Requirement already satisfied: pytz>=2017.2 in /usr/local/lib/python3.6/dist-packages (from pandas<=1.1.3->Potosnail==0.0.6) (2018.9)\n",
            "Requirement already satisfied: google-auth-oauthlib<0.5,>=0.4.1 in /usr/local/lib/python3.6/dist-packages (from tensorboard~=2.4->tensorflow<=2.4.0->Potosnail==0.0.6) (0.4.2)\n",
            "Requirement already satisfied: tensorboard-plugin-wit>=1.6.0 in /usr/local/lib/python3.6/dist-packages (from tensorboard~=2.4->tensorflow<=2.4.0->Potosnail==0.0.6) (1.8.0)\n",
            "Requirement already satisfied: requests<3,>=2.21.0 in /usr/local/lib/python3.6/dist-packages (from tensorboard~=2.4->tensorflow<=2.4.0->Potosnail==0.0.6) (2.23.0)\n",
            "Requirement already satisfied: google-auth<2,>=1.6.3 in /usr/local/lib/python3.6/dist-packages (from tensorboard~=2.4->tensorflow<=2.4.0->Potosnail==0.0.6) (1.17.2)\n",
            "Requirement already satisfied: setuptools>=41.0.0 in /usr/local/lib/python3.6/dist-packages (from tensorboard~=2.4->tensorflow<=2.4.0->Potosnail==0.0.6) (51.3.3)\n",
            "Requirement already satisfied: markdown>=2.6.8 in /usr/local/lib/python3.6/dist-packages (from tensorboard~=2.4->tensorflow<=2.4.0->Potosnail==0.0.6) (3.3.3)\n",
            "Requirement already satisfied: werkzeug>=0.11.15 in /usr/local/lib/python3.6/dist-packages (from tensorboard~=2.4->tensorflow<=2.4.0->Potosnail==0.0.6) (1.0.1)\n",
            "Requirement already satisfied: requests-oauthlib>=0.7.0 in /usr/local/lib/python3.6/dist-packages (from google-auth-oauthlib<0.5,>=0.4.1->tensorboard~=2.4->tensorflow<=2.4.0->Potosnail==0.0.6) (1.3.0)\n",
            "Requirement already satisfied: idna<3,>=2.5 in /usr/local/lib/python3.6/dist-packages (from requests<3,>=2.21.0->tensorboard~=2.4->tensorflow<=2.4.0->Potosnail==0.0.6) (2.10)\n",
            "Requirement already satisfied: certifi>=2017.4.17 in /usr/local/lib/python3.6/dist-packages (from requests<3,>=2.21.0->tensorboard~=2.4->tensorflow<=2.4.0->Potosnail==0.0.6) (2020.12.5)\n",
            "Requirement already satisfied: chardet<4,>=3.0.2 in /usr/local/lib/python3.6/dist-packages (from requests<3,>=2.21.0->tensorboard~=2.4->tensorflow<=2.4.0->Potosnail==0.0.6) (3.0.4)\n",
            "Requirement already satisfied: cachetools<5.0,>=2.0.0 in /usr/local/lib/python3.6/dist-packages (from google-auth<2,>=1.6.3->tensorboard~=2.4->tensorflow<=2.4.0->Potosnail==0.0.6) (4.2.1)\n",
            "Requirement already satisfied: pyasn1-modules>=0.2.1 in /usr/local/lib/python3.6/dist-packages (from google-auth<2,>=1.6.3->tensorboard~=2.4->tensorflow<=2.4.0->Potosnail==0.0.6) (0.2.8)\n",
            "Requirement already satisfied: rsa<5,>=3.1.4; python_version >= \"3\" in /usr/local/lib/python3.6/dist-packages (from google-auth<2,>=1.6.3->tensorboard~=2.4->tensorflow<=2.4.0->Potosnail==0.0.6) (4.7)\n",
            "Requirement already satisfied: importlib-metadata; python_version < \"3.8\" in /usr/local/lib/python3.6/dist-packages (from markdown>=2.6.8->tensorboard~=2.4->tensorflow<=2.4.0->Potosnail==0.0.6) (3.4.0)\n",
            "Requirement already satisfied: oauthlib>=3.0.0 in /usr/local/lib/python3.6/dist-packages (from requests-oauthlib>=0.7.0->google-auth-oauthlib<0.5,>=0.4.1->tensorboard~=2.4->tensorflow<=2.4.0->Potosnail==0.0.6) (3.1.0)\n",
            "Requirement already satisfied: pyasn1<0.5.0,>=0.4.6 in /usr/local/lib/python3.6/dist-packages (from pyasn1-modules>=0.2.1->google-auth<2,>=1.6.3->tensorboard~=2.4->tensorflow<=2.4.0->Potosnail==0.0.6) (0.4.8)\n",
            "Requirement already satisfied: zipp>=0.5 in /usr/local/lib/python3.6/dist-packages (from importlib-metadata; python_version < \"3.8\"->markdown>=2.6.8->tensorboard~=2.4->tensorflow<=2.4.0->Potosnail==0.0.6) (3.4.0)\n"
          ],
          "name": "stdout"
        }
      ]
    },
    {
      "cell_type": "markdown",
      "metadata": {
        "id": "rCHJ17iPkzGW"
      },
      "source": [
        "# Text Classification"
      ]
    },
    {
      "cell_type": "code",
      "metadata": {
        "id": "JmAOn3RilO9k",
        "colab": {
          "base_uri": "https://localhost:8080/"
        },
        "outputId": "8f0d3357-6ea4-48fa-86d6-7c89c4807006"
      },
      "source": [
        "import pandas as pd\r\n",
        "import numpy as np\r\n",
        "from google.colab import files\r\n",
        "import zipfile\r\n",
        "import io\r\n",
        "from potosnail import MachineLearning, DeepLearning, DataHelper, Evaluater, Algorithms, Wrappers\r\n",
        "\r\n",
        "ml = MachineLearning()\r\n",
        "dl = DeepLearning()\r\n",
        "dh = DataHelper()\r\n",
        "ev = Evaluater()\r\n",
        "al = Algorithms()\r\n",
        "wr = Wrappers()\r\n",
        "\r\n",
        "df = pd.read_csv('https://raw.githubusercontent.com/spe301/Wikipedia-Capstone/main/Data/HumanText.csv').drop(['Unnamed: 0', 'Unnamed: 0.1'], axis='columns')\r\n",
        "df2 = pd.read_csv('https://raw.githubusercontent.com/spe301/Wikipedia-Capstone/main/Data/Generated%20(1).csv').drop(['Unnamed: 0'], axis='columns')\r\n",
        "blog_df = pd.concat([df.sample(n=180), df2])\r\n",
        "\r\n",
        "df = pd.read_csv('https://raw.githubusercontent.com/spe301/dsc-phase-4-project/main/data/judge-1377884607_tweet_product_company.csv', engine='python',encoding='latin-1')\r\n",
        "df = df.drop(6)\r\n",
        "df = df.loc[df['is_there_an_emotion_directed_at_a_brand_or_product'] != \"I can't tell\"]\r\n",
        "ix = list(df.index)\r\n",
        "clean = []\r\n",
        "for i in range(len(ix)):\r\n",
        "  clean.append(df['tweet_text'][ix[i]].replace('.@', '').replace('.', '').replace('!', '').replace('@', '').replace('?', '').replace(':', '')\r\n",
        "  .replace(',', '').replace(';', '').lower())\r\n",
        "\r\n",
        "df['tweet'] = clean\r\n",
        "tweet_df = df.drop(['tweet_text', 'emotion_in_tweet_is_directed_at'], axis='columns')"
      ],
      "execution_count": 2,
      "outputs": [
        {
          "output_type": "stream",
          "text": [
            "/usr/local/lib/python3.6/dist-packages/sklearn/externals/six.py:31: FutureWarning: The module is deprecated in version 0.21 and will be removed in version 0.23 since we've dropped support for Python 2.7. Please rely on the official version of six (https://pypi.org/project/six/).\n",
            "  \"(https://pypi.org/project/six/).\", FutureWarning)\n",
            "/usr/local/lib/python3.6/dist-packages/sklearn/utils/deprecation.py:144: FutureWarning: The sklearn.neighbors.base module is  deprecated in version 0.22 and will be removed in version 0.24. The corresponding classes / functions should instead be imported from sklearn.neighbors. Anything that cannot be imported from sklearn.neighbors is now part of the private API.\n",
            "  warnings.warn(message, FutureWarning)\n",
            "/usr/local/lib/python3.6/dist-packages/statsmodels/tools/_testing.py:19: FutureWarning: pandas.util.testing is deprecated. Use the functions in the public API at pandas.testing instead.\n",
            "  import pandas.util.testing as tm\n"
          ],
          "name": "stderr"
        }
      ]
    },
    {
      "cell_type": "code",
      "metadata": {
        "id": "ildth_Wxp6Kb"
      },
      "source": [
        "def Preprocess(df, data_str, target_str):\r\n",
        "  '''fully preprocesses a dataframe of Text Documents for classification'''\r\n",
        "  avg = 0\r\n",
        "  for i in range(len(df[data_str])):\r\n",
        "    avg += len(list(df[data_str])[i].split(' '))/len(df)\r\n",
        "  pad = int(avg)\r\n",
        "  text, labels = dl.ModelReadyText1(df[data_str], df[target_str], pad)\r\n",
        "  return text, labels\r\n",
        "\r\n",
        "blogs, blog_labels = Preprocess(blog_df, 'Text', 'AI')\r\n",
        "tweets, tweet_labels = Preprocess(tweet_df, 'tweet', 'is_there_an_emotion_directed_at_a_brand_or_product')"
      ],
      "execution_count": 3,
      "outputs": []
    },
    {
      "cell_type": "code",
      "metadata": {
        "id": "UkBf_12yxO5X"
      },
      "source": [
        "def GetVocab(df, data_str):\r\n",
        "  words = []\r\n",
        "  for i in range(len(df)):\r\n",
        "    word_lst = list(df[data_str])[i].replace('\\n', ' ').split(' ')\r\n",
        "    for word in word_lst:\r\n",
        "      words.append(word.replace('.', '').replace(',', '').replace(' ', '').replace('\"', '').replace(':', '').replace(';', '').replace('!', ''))\r\n",
        "  return len(np.unique(words))"
      ],
      "execution_count": 6,
      "outputs": []
    },
    {
      "cell_type": "code",
      "metadata": {
        "id": "zpOqw8tPzYNb"
      },
      "source": [
        "blogs_vocab = GetVocab(blog_df, 'Text')\r\n",
        "tweets_vocab = GetVocab(tweet_df, 'tweet')"
      ],
      "execution_count": 8,
      "outputs": []
    },
    {
      "cell_type": "code",
      "metadata": {
        "colab": {
          "base_uri": "https://localhost:8080/"
        },
        "id": "AJOxtvQ0zlO-",
        "outputId": "377e0237-3906-41d0-d070-eadb857cc696"
      },
      "source": [
        "tweets.shape"
      ],
      "execution_count": 26,
      "outputs": [
        {
          "output_type": "execute_result",
          "data": {
            "text/plain": [
              "(8936, 17)"
            ]
          },
          "metadata": {
            "tags": []
          },
          "execution_count": 26
        }
      ]
    },
    {
      "cell_type": "code",
      "metadata": {
        "colab": {
          "base_uri": "https://localhost:8080/",
          "height": 1000
        },
        "id": "4eW_EMtkzA-C",
        "outputId": "03bad0a1-5eb3-41e4-ed37-62b483ddf073"
      },
      "source": [
        "blogs_grid = {'output_dim': [tweet_labels.shape[1]], 'embedding': [tweets_vocab], 'nodes': [64], 'activation': ['tanh'], \r\n",
        "              'regularizer': [None, 'L1'], 'stacking': [False, True], 'dropout': [False], 'optimizer': ['adam'], \r\n",
        "              'method': ['GRU'], 'bidirectional': [True]} \r\n",
        "\r\n",
        "dl.CollectPerformance(blogs_grid, dl.RNN, tweets, tweet_labels.reshape(-1))"
      ],
      "execution_count": 28,
      "outputs": [
        {
          "output_type": "stream",
          "text": [
            "preforming 4 total fits ...\n",
            "Epoch 1/50\n",
            "224/224 [==============================] - 11s 33ms/step - loss: 0.7120 - accuracy: 0.6447 - val_loss: 0.6374 - val_accuracy: 0.6667\n",
            "Epoch 2/50\n",
            "224/224 [==============================] - 7s 29ms/step - loss: 0.6367 - accuracy: 0.6679 - val_loss: 0.6447 - val_accuracy: 0.6655\n",
            "Epoch 3/50\n",
            "224/224 [==============================] - 7s 30ms/step - loss: 0.5746 - accuracy: 0.7098 - val_loss: 0.6944 - val_accuracy: 0.6040\n",
            "Epoch 4/50\n",
            "224/224 [==============================] - 6s 29ms/step - loss: 0.4142 - accuracy: 0.8150 - val_loss: 0.8133 - val_accuracy: 0.6068\n",
            "Epoch 5/50\n",
            "224/224 [==============================] - 6s 29ms/step - loss: 0.3252 - accuracy: 0.8461 - val_loss: 1.0198 - val_accuracy: 0.5615\n",
            "Epoch 6/50\n",
            "224/224 [==============================] - 6s 29ms/step - loss: 0.2669 - accuracy: 0.8627 - val_loss: 1.3212 - val_accuracy: 0.5319\n",
            "1 of 4 fits complete!\n",
            "Epoch 1/50\n",
            "224/224 [==============================] - 11s 31ms/step - loss: 0.7239 - accuracy: 0.6285 - val_loss: 0.6380 - val_accuracy: 0.6667\n",
            "Epoch 2/50\n",
            "224/224 [==============================] - 6s 28ms/step - loss: 0.6325 - accuracy: 0.6735 - val_loss: 0.6394 - val_accuracy: 0.6644\n",
            "Epoch 3/50\n",
            "224/224 [==============================] - 6s 28ms/step - loss: 0.5931 - accuracy: 0.6962 - val_loss: 0.6539 - val_accuracy: 0.6588\n",
            "Epoch 4/50\n",
            "224/224 [==============================] - 6s 28ms/step - loss: 0.4381 - accuracy: 0.7966 - val_loss: 0.7297 - val_accuracy: 0.6124\n",
            "Epoch 5/50\n",
            "224/224 [==============================] - 6s 28ms/step - loss: 0.3428 - accuracy: 0.8463 - val_loss: 0.8730 - val_accuracy: 0.6035\n",
            "Epoch 6/50\n",
            "224/224 [==============================] - 6s 29ms/step - loss: 0.2934 - accuracy: 0.8550 - val_loss: 0.9123 - val_accuracy: 0.6018\n",
            "2 of 4 fits complete!\n",
            "Epoch 1/50\n",
            "224/224 [==============================] - 10s 31ms/step - loss: 0.7316 - accuracy: 0.6532 - val_loss: 0.6385 - val_accuracy: 0.6667\n",
            "Epoch 2/50\n",
            "224/224 [==============================] - 6s 28ms/step - loss: 0.6417 - accuracy: 0.6628 - val_loss: 0.6401 - val_accuracy: 0.6667\n",
            "Epoch 3/50\n",
            "224/224 [==============================] - 6s 28ms/step - loss: 0.5856 - accuracy: 0.7025 - val_loss: 0.6770 - val_accuracy: 0.6381\n",
            "Epoch 4/50\n",
            "224/224 [==============================] - 7s 30ms/step - loss: 0.4221 - accuracy: 0.8003 - val_loss: 0.8162 - val_accuracy: 0.5839\n",
            "Epoch 5/50\n",
            "224/224 [==============================] - 7s 30ms/step - loss: 0.3262 - accuracy: 0.8444 - val_loss: 0.9496 - val_accuracy: 0.5559\n",
            "Epoch 6/50\n",
            "224/224 [==============================] - 6s 28ms/step - loss: 0.2724 - accuracy: 0.8588 - val_loss: 1.1352 - val_accuracy: 0.5889\n",
            "3 of 4 fits complete!\n",
            "Epoch 1/50\n",
            "224/224 [==============================] - 11s 32ms/step - loss: 0.7220 - accuracy: 0.6594 - val_loss: 0.6391 - val_accuracy: 0.6667\n",
            "Epoch 2/50\n",
            "224/224 [==============================] - 6s 28ms/step - loss: 0.6419 - accuracy: 0.6619 - val_loss: 0.6391 - val_accuracy: 0.6667\n",
            "Epoch 3/50\n",
            "224/224 [==============================] - 6s 28ms/step - loss: 0.6039 - accuracy: 0.6889 - val_loss: 0.6645 - val_accuracy: 0.6348\n",
            "Epoch 4/50\n",
            "224/224 [==============================] - 6s 28ms/step - loss: 0.4639 - accuracy: 0.7867 - val_loss: 0.7421 - val_accuracy: 0.6023\n",
            "Epoch 5/50\n",
            "224/224 [==============================] - 6s 29ms/step - loss: 0.3722 - accuracy: 0.8313 - val_loss: 0.8431 - val_accuracy: 0.6113\n",
            "Epoch 6/50\n",
            "224/224 [==============================] - 6s 28ms/step - loss: 0.3054 - accuracy: 0.8571 - val_loss: 0.8668 - val_accuracy: 0.5928\n",
            "4 of 4 fits complete!\n"
          ],
          "name": "stdout"
        },
        {
          "output_type": "execute_result",
          "data": {
            "text/html": [
              "<div>\n",
              "<style scoped>\n",
              "    .dataframe tbody tr th:only-of-type {\n",
              "        vertical-align: middle;\n",
              "    }\n",
              "\n",
              "    .dataframe tbody tr th {\n",
              "        vertical-align: top;\n",
              "    }\n",
              "\n",
              "    .dataframe thead th {\n",
              "        text-align: right;\n",
              "    }\n",
              "</style>\n",
              "<table border=\"1\" class=\"dataframe\">\n",
              "  <thead>\n",
              "    <tr style=\"text-align: right;\">\n",
              "      <th></th>\n",
              "      <th>output_dim</th>\n",
              "      <th>embedding</th>\n",
              "      <th>nodes</th>\n",
              "      <th>activation</th>\n",
              "      <th>regularizer</th>\n",
              "      <th>stacking</th>\n",
              "      <th>dropout</th>\n",
              "      <th>optimizer</th>\n",
              "      <th>bidirectional</th>\n",
              "      <th>epochs</th>\n",
              "      <th>batch_size</th>\n",
              "      <th>method</th>\n",
              "      <th>accuracy</th>\n",
              "      <th>loss</th>\n",
              "      <th>val_accuracy</th>\n",
              "      <th>val_loss</th>\n",
              "    </tr>\n",
              "  </thead>\n",
              "  <tbody>\n",
              "    <tr>\n",
              "      <th>0</th>\n",
              "      <td>3</td>\n",
              "      <td>12300</td>\n",
              "      <td>64</td>\n",
              "      <td>tanh</td>\n",
              "      <td>None</td>\n",
              "      <td>False</td>\n",
              "      <td>False</td>\n",
              "      <td>adam</td>\n",
              "      <td>True</td>\n",
              "      <td>6</td>\n",
              "      <td>32</td>\n",
              "      <td>GRU</td>\n",
              "      <td>0.858422</td>\n",
              "      <td>0.274318</td>\n",
              "      <td>0.531879</td>\n",
              "      <td>1.321163</td>\n",
              "    </tr>\n",
              "    <tr>\n",
              "      <th>1</th>\n",
              "      <td>3</td>\n",
              "      <td>12300</td>\n",
              "      <td>64</td>\n",
              "      <td>tanh</td>\n",
              "      <td>None</td>\n",
              "      <td>True</td>\n",
              "      <td>False</td>\n",
              "      <td>adam</td>\n",
              "      <td>True</td>\n",
              "      <td>6</td>\n",
              "      <td>32</td>\n",
              "      <td>GRU</td>\n",
              "      <td>0.848209</td>\n",
              "      <td>0.304630</td>\n",
              "      <td>0.601790</td>\n",
              "      <td>0.912252</td>\n",
              "    </tr>\n",
              "    <tr>\n",
              "      <th>2</th>\n",
              "      <td>3</td>\n",
              "      <td>12300</td>\n",
              "      <td>64</td>\n",
              "      <td>tanh</td>\n",
              "      <td>L1</td>\n",
              "      <td>False</td>\n",
              "      <td>False</td>\n",
              "      <td>adam</td>\n",
              "      <td>True</td>\n",
              "      <td>6</td>\n",
              "      <td>32</td>\n",
              "      <td>GRU</td>\n",
              "      <td>0.851427</td>\n",
              "      <td>0.280485</td>\n",
              "      <td>0.588926</td>\n",
              "      <td>1.135162</td>\n",
              "    </tr>\n",
              "    <tr>\n",
              "      <th>3</th>\n",
              "      <td>3</td>\n",
              "      <td>12300</td>\n",
              "      <td>64</td>\n",
              "      <td>tanh</td>\n",
              "      <td>L1</td>\n",
              "      <td>True</td>\n",
              "      <td>False</td>\n",
              "      <td>adam</td>\n",
              "      <td>True</td>\n",
              "      <td>6</td>\n",
              "      <td>32</td>\n",
              "      <td>GRU</td>\n",
              "      <td>0.841074</td>\n",
              "      <td>0.322878</td>\n",
              "      <td>0.592841</td>\n",
              "      <td>0.866836</td>\n",
              "    </tr>\n",
              "  </tbody>\n",
              "</table>\n",
              "</div>"
            ],
            "text/plain": [
              "   output_dim  embedding  nodes  ...      loss val_accuracy  val_loss\n",
              "0           3      12300     64  ...  0.274318     0.531879  1.321163\n",
              "1           3      12300     64  ...  0.304630     0.601790  0.912252\n",
              "2           3      12300     64  ...  0.280485     0.588926  1.135162\n",
              "3           3      12300     64  ...  0.322878     0.592841  0.866836\n",
              "\n",
              "[4 rows x 16 columns]"
            ]
          },
          "metadata": {
            "tags": []
          },
          "execution_count": 28
        }
      ]
    },
    {
      "cell_type": "markdown",
      "metadata": {
        "id": "tKZ0gOQek08C"
      },
      "source": [
        "# Image Classification"
      ]
    },
    {
      "cell_type": "code",
      "metadata": {
        "colab": {
          "resources": {
            "http://localhost:8080/nbextensions/google.colab/files.js": {
              "data": "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",
              "ok": true,
              "headers": [
                [
                  "content-type",
                  "application/javascript"
                ]
              ],
              "status": 200,
              "status_text": ""
            }
          },
          "base_uri": "https://localhost:8080/",
          "height": 73
        },
        "id": "UzpiKZ8h3fN-",
        "outputId": "fc269a0d-57f6-4457-f62a-ca5b5ecee39b"
      },
      "source": [
        "from google.colab import files\r\n",
        "import zipfile\r\n",
        "import io\r\n",
        "uploaded = files.upload()\r\n",
        "data = zipfile.ZipFile(io.BytesIO(uploaded['IMGDS1.zip']), 'r')\r\n",
        "data.extractall()"
      ],
      "execution_count": 29,
      "outputs": [
        {
          "output_type": "display_data",
          "data": {
            "text/html": [
              "\n",
              "     <input type=\"file\" id=\"files-f785d310-8745-44b1-ad44-474330e1488f\" name=\"files[]\" multiple disabled\n",
              "        style=\"border:none\" />\n",
              "     <output id=\"result-f785d310-8745-44b1-ad44-474330e1488f\">\n",
              "      Upload widget is only available when the cell has been executed in the\n",
              "      current browser session. Please rerun this cell to enable.\n",
              "      </output>\n",
              "      <script src=\"/nbextensions/google.colab/files.js\"></script> "
            ],
            "text/plain": [
              "<IPython.core.display.HTML object>"
            ]
          },
          "metadata": {
            "tags": []
          }
        },
        {
          "output_type": "stream",
          "text": [
            "Saving IMGDS1.zip to IMGDS1.zip\n"
          ],
          "name": "stdout"
        }
      ]
    },
    {
      "cell_type": "code",
      "metadata": {
        "colab": {
          "base_uri": "https://localhost:8080/"
        },
        "id": "QnFsLxmY6U5v",
        "outputId": "394b4d5f-7ef6-4482-dce7-57139ea27a96"
      },
      "source": [
        "train_dir = r'dataset/training_set'\r\n",
        "test_dir = r'dataset/test_set'\r\n",
        "train_dogs = r'dataset/training_set/dogs'\r\n",
        "train_cats = r'dataset/training_set/cats'\r\n",
        "test_dogs = r'dataset/test_set/dogs'\r\n",
        "test_cats = r'dataset/test_set/cats'\r\n",
        "directories = [train_dir, test_dir, train_dogs, train_cats, test_dogs, test_cats]\r\n",
        "classes = ['cats', 'dogs']\r\n",
        "\r\n",
        "tri1, tei1, tray1, tey1 = dl.ModelReadyPixles(directories, classes)"
      ],
      "execution_count": 31,
      "outputs": [
        {
          "output_type": "stream",
          "text": [
            "Found 8000 images belonging to 2 classes.\n",
            "Found 2000 images belonging to 2 classes.\n",
            "Found 8000 images belonging to 2 classes.\n",
            "Found 2000 images belonging to 2 classes.\n",
            "Found 8000 images belonging to 2 classes.\n",
            "Found 2000 images belonging to 2 classes.\n",
            "Found 8000 images belonging to 2 classes.\n",
            "Found 2000 images belonging to 2 classes.\n"
          ],
          "name": "stdout"
        }
      ]
    },
    {
      "cell_type": "code",
      "metadata": {
        "colab": {
          "base_uri": "https://localhost:8080/",
          "height": 653
        },
        "id": "sTDXhWTW8Kfp",
        "outputId": "51f3cd7d-50ba-488f-845a-caba5dbd8da6"
      },
      "source": [
        "cnn_grid = {'output_dim': [tray1.shape[1]], 'base_filters':[32], 'kernel_size': [3], 'activation': ['relu'], \r\n",
        "            'nblocks': [3, 4], 'pool':[2], 'dropout': [False], 'closer': [False, True], 'optimizer': ['adam'], \r\n",
        "            'metrics': ['accuracy']}\r\n",
        "\r\n",
        "dl.CollectPerformance(cnn_grid, dl.CNN, tri1, tray1, epochs=3)"
      ],
      "execution_count": 35,
      "outputs": [
        {
          "output_type": "stream",
          "text": [
            "preforming 4 total fits ...\n",
            "Epoch 1/3\n",
            "200/200 [==============================] - 227s 1s/step - loss: 0.6961 - accuracy: 0.5115 - val_loss: 0.7131 - val_accuracy: 0.4894\n",
            "Epoch 2/3\n",
            "200/200 [==============================] - 220s 1s/step - loss: 0.6758 - accuracy: 0.5926 - val_loss: 0.6266 - val_accuracy: 0.6419\n",
            "Epoch 3/3\n",
            "200/200 [==============================] - 219s 1s/step - loss: 0.6200 - accuracy: 0.6594 - val_loss: 0.6312 - val_accuracy: 0.6169\n",
            "1 of 4 fits complete!\n",
            "Epoch 1/3\n",
            "200/200 [==============================] - 220s 1s/step - loss: 0.6776 - accuracy: 0.5509 - val_loss: 0.5842 - val_accuracy: 0.6913\n",
            "Epoch 2/3\n",
            "200/200 [==============================] - 219s 1s/step - loss: 0.5624 - accuracy: 0.7050 - val_loss: 0.5013 - val_accuracy: 0.7581\n",
            "Epoch 3/3\n",
            "200/200 [==============================] - 219s 1s/step - loss: 0.4707 - accuracy: 0.7793 - val_loss: 0.4636 - val_accuracy: 0.7844\n",
            "2 of 4 fits complete!\n",
            "Epoch 1/3\n",
            "200/200 [==============================] - 222s 1s/step - loss: 0.6929 - accuracy: 0.5178 - val_loss: 0.6749 - val_accuracy: 0.5500\n",
            "Epoch 2/3\n",
            "200/200 [==============================] - 219s 1s/step - loss: 0.6330 - accuracy: 0.6329 - val_loss: 0.5609 - val_accuracy: 0.7006\n",
            "Epoch 3/3\n",
            "200/200 [==============================] - 219s 1s/step - loss: 0.5438 - accuracy: 0.7202 - val_loss: 0.5248 - val_accuracy: 0.7375\n",
            "3 of 4 fits complete!\n",
            "Epoch 1/3\n",
            "200/200 [==============================] - 222s 1s/step - loss: 0.6864 - accuracy: 0.5363 - val_loss: 0.6152 - val_accuracy: 0.6606\n",
            "Epoch 2/3\n",
            "200/200 [==============================] - 220s 1s/step - loss: 0.6041 - accuracy: 0.6775 - val_loss: 0.5929 - val_accuracy: 0.6988\n",
            "Epoch 3/3\n",
            "200/200 [==============================] - 219s 1s/step - loss: 0.5469 - accuracy: 0.7218 - val_loss: 0.5095 - val_accuracy: 0.7375\n",
            "4 of 4 fits complete!\n"
          ],
          "name": "stdout"
        },
        {
          "output_type": "execute_result",
          "data": {
            "text/html": [
              "<div>\n",
              "<style scoped>\n",
              "    .dataframe tbody tr th:only-of-type {\n",
              "        vertical-align: middle;\n",
              "    }\n",
              "\n",
              "    .dataframe tbody tr th {\n",
              "        vertical-align: top;\n",
              "    }\n",
              "\n",
              "    .dataframe thead th {\n",
              "        text-align: right;\n",
              "    }\n",
              "</style>\n",
              "<table border=\"1\" class=\"dataframe\">\n",
              "  <thead>\n",
              "    <tr style=\"text-align: right;\">\n",
              "      <th></th>\n",
              "      <th>output_dim</th>\n",
              "      <th>base_filters</th>\n",
              "      <th>kernel_size</th>\n",
              "      <th>activation</th>\n",
              "      <th>nblocks</th>\n",
              "      <th>pool</th>\n",
              "      <th>dropout</th>\n",
              "      <th>closer</th>\n",
              "      <th>metrics</th>\n",
              "      <th>epochs</th>\n",
              "      <th>batch_size</th>\n",
              "      <th>optimizer</th>\n",
              "      <th>accuracy</th>\n",
              "      <th>loss</th>\n",
              "      <th>val_accuracy</th>\n",
              "      <th>val_loss</th>\n",
              "    </tr>\n",
              "  </thead>\n",
              "  <tbody>\n",
              "    <tr>\n",
              "      <th>0</th>\n",
              "      <td>2</td>\n",
              "      <td>32</td>\n",
              "      <td>3</td>\n",
              "      <td>relu</td>\n",
              "      <td>3</td>\n",
              "      <td>2</td>\n",
              "      <td>False</td>\n",
              "      <td>False</td>\n",
              "      <td>accuracy</td>\n",
              "      <td>3</td>\n",
              "      <td>32</td>\n",
              "      <td>adam</td>\n",
              "      <td>0.663906</td>\n",
              "      <td>0.615597</td>\n",
              "      <td>0.616875</td>\n",
              "      <td>0.631234</td>\n",
              "    </tr>\n",
              "    <tr>\n",
              "      <th>1</th>\n",
              "      <td>2</td>\n",
              "      <td>32</td>\n",
              "      <td>3</td>\n",
              "      <td>relu</td>\n",
              "      <td>3</td>\n",
              "      <td>2</td>\n",
              "      <td>False</td>\n",
              "      <td>True</td>\n",
              "      <td>accuracy</td>\n",
              "      <td>3</td>\n",
              "      <td>32</td>\n",
              "      <td>adam</td>\n",
              "      <td>0.774844</td>\n",
              "      <td>0.471077</td>\n",
              "      <td>0.784375</td>\n",
              "      <td>0.463609</td>\n",
              "    </tr>\n",
              "    <tr>\n",
              "      <th>2</th>\n",
              "      <td>2</td>\n",
              "      <td>32</td>\n",
              "      <td>3</td>\n",
              "      <td>relu</td>\n",
              "      <td>4</td>\n",
              "      <td>2</td>\n",
              "      <td>False</td>\n",
              "      <td>False</td>\n",
              "      <td>accuracy</td>\n",
              "      <td>3</td>\n",
              "      <td>32</td>\n",
              "      <td>adam</td>\n",
              "      <td>0.731094</td>\n",
              "      <td>0.533612</td>\n",
              "      <td>0.737500</td>\n",
              "      <td>0.524788</td>\n",
              "    </tr>\n",
              "    <tr>\n",
              "      <th>3</th>\n",
              "      <td>2</td>\n",
              "      <td>32</td>\n",
              "      <td>3</td>\n",
              "      <td>relu</td>\n",
              "      <td>4</td>\n",
              "      <td>2</td>\n",
              "      <td>False</td>\n",
              "      <td>True</td>\n",
              "      <td>accuracy</td>\n",
              "      <td>3</td>\n",
              "      <td>32</td>\n",
              "      <td>adam</td>\n",
              "      <td>0.726250</td>\n",
              "      <td>0.539328</td>\n",
              "      <td>0.737500</td>\n",
              "      <td>0.509467</td>\n",
              "    </tr>\n",
              "  </tbody>\n",
              "</table>\n",
              "</div>"
            ],
            "text/plain": [
              "   output_dim  base_filters  kernel_size  ...      loss  val_accuracy  val_loss\n",
              "0           2            32            3  ...  0.615597      0.616875  0.631234\n",
              "1           2            32            3  ...  0.471077      0.784375  0.463609\n",
              "2           2            32            3  ...  0.533612      0.737500  0.524788\n",
              "3           2            32            3  ...  0.539328      0.737500  0.509467\n",
              "\n",
              "[4 rows x 16 columns]"
            ]
          },
          "metadata": {
            "tags": []
          },
          "execution_count": 35
        }
      ]
    },
    {
      "cell_type": "markdown",
      "metadata": {
        "id": "Mr2l2z1jlEW4"
      },
      "source": [
        "# Tabular Classification"
      ]
    },
    {
      "cell_type": "markdown",
      "metadata": {
        "id": "qpnh4jAwlQI4"
      },
      "source": [
        "# Tabular Regression"
      ]
    },
    {
      "cell_type": "code",
      "metadata": {
        "id": "G7VUbcxICnPY"
      },
      "source": [
        ""
      ],
      "execution_count": null,
      "outputs": []
    },
    {
      "cell_type": "markdown",
      "metadata": {
        "id": "YusHTXm0CcKV"
      },
      "source": [
        "# Dogs and Cats\r\n",
        "train_dir = r'dataset/training_set'\r\n",
        "\r\n",
        "test_dir = r'dataset/test_set'\r\n",
        "\r\n",
        "train_dogs = r'dataset/training_set/dogs'\r\n",
        "\r\n",
        "train_cats = r'dataset/training_set/cats'\r\n",
        "\r\n",
        "test_dogs = r'dataset/test_set/dogs'\r\n",
        "\r\n",
        "test_cats = r'dataset/test_set/cats'\r\n",
        "\r\n",
        "directories = [train_dir, test_dir, train_dogs, train_cats, test_dogs, test_cats]\r\n",
        "\r\n",
        "classes = ['cats', 'dogs']"
      ]
    }
  ]
}