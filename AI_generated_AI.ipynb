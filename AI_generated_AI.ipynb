{
  "nbformat": 4,
  "nbformat_minor": 0,
  "metadata": {
    "colab": {
      "name": "AI_generated_AI.ipynb",
      "provenance": [],
      "authorship_tag": "ABX9TyM1EdeHUYZ5mbyrKsliwSc4",
      "include_colab_link": true
    },
    "kernelspec": {
      "name": "python3",
      "display_name": "Python 3"
    }
  },
  "cells": [
    {
      "cell_type": "markdown",
      "metadata": {
        "id": "view-in-github",
        "colab_type": "text"
      },
      "source": [
        "<a href=\"https://colab.research.google.com/github/spe301/AI-generated-AI/blob/main/AI_generated_AI.ipynb\" target=\"_parent\"><img src=\"https://colab.research.google.com/assets/colab-badge.svg\" alt=\"Open In Colab\"/></a>"
      ]
    },
    {
      "cell_type": "code",
      "metadata": {
        "colab": {
          "base_uri": "https://localhost:8080/"
        },
        "id": "CkPOituvoRXT",
        "outputId": "c60b9a1b-7610-45ae-a102-d89fa9b50214"
      },
      "source": [
        "!pip install Potosnail==0.0.6"
      ],
      "execution_count": 1,
      "outputs": [
        {
          "output_type": "stream",
          "text": [
            "Requirement already satisfied: Potosnail==0.0.6 in /usr/local/lib/python3.6/dist-packages (0.0.6)\n",
            "Requirement already satisfied: urllib3==1.25.11 in /usr/local/lib/python3.6/dist-packages (from Potosnail==0.0.6) (1.25.11)\n",
            "Requirement already satisfied: matplotlib<=3.3.2 in /usr/local/lib/python3.6/dist-packages (from Potosnail==0.0.6) (3.2.2)\n",
            "Requirement already satisfied: numpy<=1.19.2 in /usr/local/lib/python3.6/dist-packages (from Potosnail==0.0.6) (1.19.2)\n",
            "Requirement already satisfied: xgboost<=1.3.1 in /usr/local/lib/python3.6/dist-packages (from Potosnail==0.0.6) (0.90)\n",
            "Requirement already satisfied: statsmodels<=0.12.0 in /usr/local/lib/python3.6/dist-packages (from Potosnail==0.0.6) (0.10.2)\n",
            "Requirement already satisfied: tensorflow<=2.4.0 in /usr/local/lib/python3.6/dist-packages (from Potosnail==0.0.6) (2.4.0)\n",
            "Requirement already satisfied: lxml==4.6.1 in /usr/local/lib/python3.6/dist-packages (from Potosnail==0.0.6) (4.6.1)\n",
            "Requirement already satisfied: regex==2020.10.15 in /usr/local/lib/python3.6/dist-packages (from Potosnail==0.0.6) (2020.10.15)\n",
            "Requirement already satisfied: pandas<=1.1.3 in /usr/local/lib/python3.6/dist-packages (from Potosnail==0.0.6) (1.1.3)\n",
            "Requirement already satisfied: seaborn<=0.11.0 in /usr/local/lib/python3.6/dist-packages (from Potosnail==0.0.6) (0.11.0)\n",
            "Requirement already satisfied: beautifulsoup4==4.9.3 in /usr/local/lib/python3.6/dist-packages (from Potosnail==0.0.6) (4.9.3)\n",
            "Requirement already satisfied: scikit-learn<=0.23.2 in /usr/local/lib/python3.6/dist-packages (from Potosnail==0.0.6) (0.22.2.post1)\n",
            "Requirement already satisfied: imblearn<=0.0 in /usr/local/lib/python3.6/dist-packages (from Potosnail==0.0.6) (0.0)\n",
            "Requirement already satisfied: kiwisolver>=1.0.1 in /usr/local/lib/python3.6/dist-packages (from matplotlib<=3.3.2->Potosnail==0.0.6) (1.3.1)\n",
            "Requirement already satisfied: cycler>=0.10 in /usr/local/lib/python3.6/dist-packages (from matplotlib<=3.3.2->Potosnail==0.0.6) (0.10.0)\n",
            "Requirement already satisfied: python-dateutil>=2.1 in /usr/local/lib/python3.6/dist-packages (from matplotlib<=3.3.2->Potosnail==0.0.6) (2.8.1)\n",
            "Requirement already satisfied: pyparsing!=2.0.4,!=2.1.2,!=2.1.6,>=2.0.1 in /usr/local/lib/python3.6/dist-packages (from matplotlib<=3.3.2->Potosnail==0.0.6) (2.4.7)\n",
            "Requirement already satisfied: scipy in /usr/local/lib/python3.6/dist-packages (from xgboost<=1.3.1->Potosnail==0.0.6) (1.4.1)\n",
            "Requirement already satisfied: patsy>=0.4.0 in /usr/local/lib/python3.6/dist-packages (from statsmodels<=0.12.0->Potosnail==0.0.6) (0.5.1)\n",
            "Requirement already satisfied: termcolor~=1.1.0 in /usr/local/lib/python3.6/dist-packages (from tensorflow<=2.4.0->Potosnail==0.0.6) (1.1.0)\n",
            "Requirement already satisfied: absl-py~=0.10 in /usr/local/lib/python3.6/dist-packages (from tensorflow<=2.4.0->Potosnail==0.0.6) (0.10.0)\n",
            "Requirement already satisfied: astunparse~=1.6.3 in /usr/local/lib/python3.6/dist-packages (from tensorflow<=2.4.0->Potosnail==0.0.6) (1.6.3)\n",
            "Requirement already satisfied: keras-preprocessing~=1.1.2 in /usr/local/lib/python3.6/dist-packages (from tensorflow<=2.4.0->Potosnail==0.0.6) (1.1.2)\n",
            "Requirement already satisfied: tensorflow-estimator<2.5.0,>=2.4.0rc0 in /usr/local/lib/python3.6/dist-packages (from tensorflow<=2.4.0->Potosnail==0.0.6) (2.4.0)\n",
            "Requirement already satisfied: wheel~=0.35 in /usr/local/lib/python3.6/dist-packages (from tensorflow<=2.4.0->Potosnail==0.0.6) (0.36.2)\n",
            "Requirement already satisfied: grpcio~=1.32.0 in /usr/local/lib/python3.6/dist-packages (from tensorflow<=2.4.0->Potosnail==0.0.6) (1.32.0)\n",
            "Requirement already satisfied: opt-einsum~=3.3.0 in /usr/local/lib/python3.6/dist-packages (from tensorflow<=2.4.0->Potosnail==0.0.6) (3.3.0)\n",
            "Requirement already satisfied: tensorboard~=2.4 in /usr/local/lib/python3.6/dist-packages (from tensorflow<=2.4.0->Potosnail==0.0.6) (2.4.1)\n",
            "Requirement already satisfied: wrapt~=1.12.1 in /usr/local/lib/python3.6/dist-packages (from tensorflow<=2.4.0->Potosnail==0.0.6) (1.12.1)\n",
            "Requirement already satisfied: gast==0.3.3 in /usr/local/lib/python3.6/dist-packages (from tensorflow<=2.4.0->Potosnail==0.0.6) (0.3.3)\n",
            "Requirement already satisfied: six~=1.15.0 in /usr/local/lib/python3.6/dist-packages (from tensorflow<=2.4.0->Potosnail==0.0.6) (1.15.0)\n",
            "Requirement already satisfied: google-pasta~=0.2 in /usr/local/lib/python3.6/dist-packages (from tensorflow<=2.4.0->Potosnail==0.0.6) (0.2.0)\n",
            "Requirement already satisfied: flatbuffers~=1.12.0 in /usr/local/lib/python3.6/dist-packages (from tensorflow<=2.4.0->Potosnail==0.0.6) (1.12)\n",
            "Requirement already satisfied: typing-extensions~=3.7.4 in /usr/local/lib/python3.6/dist-packages (from tensorflow<=2.4.0->Potosnail==0.0.6) (3.7.4.3)\n",
            "Requirement already satisfied: protobuf>=3.9.2 in /usr/local/lib/python3.6/dist-packages (from tensorflow<=2.4.0->Potosnail==0.0.6) (3.12.4)\n",
            "Requirement already satisfied: h5py~=2.10.0 in /usr/local/lib/python3.6/dist-packages (from tensorflow<=2.4.0->Potosnail==0.0.6) (2.10.0)\n",
            "Requirement already satisfied: pytz>=2017.2 in /usr/local/lib/python3.6/dist-packages (from pandas<=1.1.3->Potosnail==0.0.6) (2018.9)\n",
            "Requirement already satisfied: soupsieve>1.2; python_version >= \"3.0\" in /usr/local/lib/python3.6/dist-packages (from beautifulsoup4==4.9.3->Potosnail==0.0.6) (2.1)\n",
            "Requirement already satisfied: joblib>=0.11 in /usr/local/lib/python3.6/dist-packages (from scikit-learn<=0.23.2->Potosnail==0.0.6) (1.0.0)\n",
            "Requirement already satisfied: imbalanced-learn in /usr/local/lib/python3.6/dist-packages (from imblearn<=0.0->Potosnail==0.0.6) (0.4.3)\n",
            "Requirement already satisfied: requests<3,>=2.21.0 in /usr/local/lib/python3.6/dist-packages (from tensorboard~=2.4->tensorflow<=2.4.0->Potosnail==0.0.6) (2.23.0)\n",
            "Requirement already satisfied: markdown>=2.6.8 in /usr/local/lib/python3.6/dist-packages (from tensorboard~=2.4->tensorflow<=2.4.0->Potosnail==0.0.6) (3.3.3)\n",
            "Requirement already satisfied: google-auth-oauthlib<0.5,>=0.4.1 in /usr/local/lib/python3.6/dist-packages (from tensorboard~=2.4->tensorflow<=2.4.0->Potosnail==0.0.6) (0.4.2)\n",
            "Requirement already satisfied: google-auth<2,>=1.6.3 in /usr/local/lib/python3.6/dist-packages (from tensorboard~=2.4->tensorflow<=2.4.0->Potosnail==0.0.6) (1.17.2)\n",
            "Requirement already satisfied: werkzeug>=0.11.15 in /usr/local/lib/python3.6/dist-packages (from tensorboard~=2.4->tensorflow<=2.4.0->Potosnail==0.0.6) (1.0.1)\n",
            "Requirement already satisfied: setuptools>=41.0.0 in /usr/local/lib/python3.6/dist-packages (from tensorboard~=2.4->tensorflow<=2.4.0->Potosnail==0.0.6) (51.3.3)\n",
            "Requirement already satisfied: tensorboard-plugin-wit>=1.6.0 in /usr/local/lib/python3.6/dist-packages (from tensorboard~=2.4->tensorflow<=2.4.0->Potosnail==0.0.6) (1.8.0)\n",
            "Requirement already satisfied: chardet<4,>=3.0.2 in /usr/local/lib/python3.6/dist-packages (from requests<3,>=2.21.0->tensorboard~=2.4->tensorflow<=2.4.0->Potosnail==0.0.6) (3.0.4)\n",
            "Requirement already satisfied: certifi>=2017.4.17 in /usr/local/lib/python3.6/dist-packages (from requests<3,>=2.21.0->tensorboard~=2.4->tensorflow<=2.4.0->Potosnail==0.0.6) (2020.12.5)\n",
            "Requirement already satisfied: idna<3,>=2.5 in /usr/local/lib/python3.6/dist-packages (from requests<3,>=2.21.0->tensorboard~=2.4->tensorflow<=2.4.0->Potosnail==0.0.6) (2.10)\n",
            "Requirement already satisfied: importlib-metadata; python_version < \"3.8\" in /usr/local/lib/python3.6/dist-packages (from markdown>=2.6.8->tensorboard~=2.4->tensorflow<=2.4.0->Potosnail==0.0.6) (3.4.0)\n",
            "Requirement already satisfied: requests-oauthlib>=0.7.0 in /usr/local/lib/python3.6/dist-packages (from google-auth-oauthlib<0.5,>=0.4.1->tensorboard~=2.4->tensorflow<=2.4.0->Potosnail==0.0.6) (1.3.0)\n",
            "Requirement already satisfied: cachetools<5.0,>=2.0.0 in /usr/local/lib/python3.6/dist-packages (from google-auth<2,>=1.6.3->tensorboard~=2.4->tensorflow<=2.4.0->Potosnail==0.0.6) (4.2.1)\n",
            "Requirement already satisfied: pyasn1-modules>=0.2.1 in /usr/local/lib/python3.6/dist-packages (from google-auth<2,>=1.6.3->tensorboard~=2.4->tensorflow<=2.4.0->Potosnail==0.0.6) (0.2.8)\n",
            "Requirement already satisfied: rsa<5,>=3.1.4; python_version >= \"3\" in /usr/local/lib/python3.6/dist-packages (from google-auth<2,>=1.6.3->tensorboard~=2.4->tensorflow<=2.4.0->Potosnail==0.0.6) (4.7)\n",
            "Requirement already satisfied: zipp>=0.5 in /usr/local/lib/python3.6/dist-packages (from importlib-metadata; python_version < \"3.8\"->markdown>=2.6.8->tensorboard~=2.4->tensorflow<=2.4.0->Potosnail==0.0.6) (3.4.0)\n",
            "Requirement already satisfied: oauthlib>=3.0.0 in /usr/local/lib/python3.6/dist-packages (from requests-oauthlib>=0.7.0->google-auth-oauthlib<0.5,>=0.4.1->tensorboard~=2.4->tensorflow<=2.4.0->Potosnail==0.0.6) (3.1.0)\n",
            "Requirement already satisfied: pyasn1<0.5.0,>=0.4.6 in /usr/local/lib/python3.6/dist-packages (from pyasn1-modules>=0.2.1->google-auth<2,>=1.6.3->tensorboard~=2.4->tensorflow<=2.4.0->Potosnail==0.0.6) (0.4.8)\n"
          ],
          "name": "stdout"
        }
      ]
    },
    {
      "cell_type": "markdown",
      "metadata": {
        "id": "rCHJ17iPkzGW"
      },
      "source": [
        "# Text Classification"
      ]
    },
    {
      "cell_type": "code",
      "metadata": {
        "id": "JmAOn3RilO9k"
      },
      "source": [
        "import pandas as pd\r\n",
        "import numpy as np\r\n",
        "from potosnail import MachineLearning, DeepLearning, DataHelper, Evaluater, Algorithms, Wrappers\r\n",
        "\r\n",
        "ml = MachineLearning()\r\n",
        "dl = DeepLearning()\r\n",
        "dh = DataHelper()\r\n",
        "ev = Evaluater()\r\n",
        "al = Algorithms()\r\n",
        "wr = Wrappers()\r\n",
        "\r\n",
        "df = pd.read_csv('https://raw.githubusercontent.com/spe301/Wikipedia-Capstone/main/Data/HumanText.csv').drop(['Unnamed: 0', 'Unnamed: 0.1'], axis='columns')\r\n",
        "df2 = pd.read_csv('https://raw.githubusercontent.com/spe301/Wikipedia-Capstone/main/Data/Generated%20(1).csv').drop(['Unnamed: 0'], axis='columns')\r\n",
        "blog_df = pd.concat([df.sample(n=180), df2])\r\n",
        "\r\n",
        "df = pd.read_csv('https://raw.githubusercontent.com/spe301/dsc-phase-4-project/main/data/judge-1377884607_tweet_product_company.csv', engine='python',encoding='latin-1')\r\n",
        "df = df.drop(6)\r\n",
        "df = df.loc[df['is_there_an_emotion_directed_at_a_brand_or_product'] != \"I can't tell\"]\r\n",
        "ix = list(df.index)\r\n",
        "clean = []\r\n",
        "for i in range(len(ix)):\r\n",
        "  clean.append(df['tweet_text'][ix[i]].replace('.@', '').replace('.', '').replace('!', '').replace('@', '').replace('?', '').replace(':', '')\r\n",
        "  .replace(',', '').replace(';', '').lower())\r\n",
        "\r\n",
        "df['tweet'] = clean\r\n",
        "tweet_df = df.drop(['tweet_text', 'emotion_in_tweet_is_directed_at'], axis='columns')"
      ],
      "execution_count": 2,
      "outputs": []
    },
    {
      "cell_type": "code",
      "metadata": {
        "id": "ildth_Wxp6Kb"
      },
      "source": [
        "def Preprocess(df, data_str, target_str):\r\n",
        "  '''fully preprocesses a dataframe of Text Documents for classification'''\r\n",
        "  avg = 0\r\n",
        "  for i in range(len(df[data_str])):\r\n",
        "    avg += len(list(df[data_str])[i].split(' '))/len(df)\r\n",
        "  pad = int(avg)\r\n",
        "  text, labels = dl.ModelReadyText1(df[data_str], df[target_str], pad)\r\n",
        "  return text, labels\r\n",
        "\r\n",
        "blogs, blog_labels = Preprocess(blog_df, 'Text', 'AI')\r\n",
        "tweets, tweet_labels = Preprocess(tweet_df, 'tweet', 'is_there_an_emotion_directed_at_a_brand_or_product')"
      ],
      "execution_count": 9,
      "outputs": []
    },
    {
      "cell_type": "code",
      "metadata": {
        "id": "UkBf_12yxO5X"
      },
      "source": [
        "import numpy as np\r\n",
        "\r\n",
        "def GetVocab(text_series):\r\n",
        "  words = []\r\n",
        "  for i in range(len(text_series)):\r\n",
        "    word_lst = list(text_series)[i].replace('\\n', ' ').split(' ')\r\n",
        "  for word in word_lst:\r\n",
        "    words.append(word.replace('.', '').replace(',', '').replace(' ', '').replace('\"', '').replace(':', '').replace(';', '').replace('!', ''))\r\n",
        "  vocab = len(np.unique(words))\r\n",
        "  return vocab\r\n",
        "\r\n",
        "blogs_vocab = GetVocab(blog_df['Text'])\r\n",
        "tweets_vocab = GetVocab(tweet_df['tweet'])"
      ],
      "execution_count": 11,
      "outputs": []
    },
    {
      "cell_type": "code",
      "metadata": {
        "colab": {
          "base_uri": "https://localhost:8080/"
        },
        "id": "zpOqw8tPzYNb",
        "outputId": "bf17f3db-e1ce-441f-d4b7-5266fa03fa49"
      },
      "source": [
        ""
      ],
      "execution_count": 16,
      "outputs": [
        {
          "output_type": "execute_result",
          "data": {
            "text/plain": [
              "9"
            ]
          },
          "metadata": {
            "tags": []
          },
          "execution_count": 16
        }
      ]
    },
    {
      "cell_type": "code",
      "metadata": {
        "colab": {
          "base_uri": "https://localhost:8080/",
          "height": 178
        },
        "id": "4eW_EMtkzA-C",
        "outputId": "44a18d14-e10f-4049-ba15-f582dd98fe98"
      },
      "source": [
        "blogs_grid = {'output_dim': [len(np.unique(blog_labels))], 'embedding': } "
      ],
      "execution_count": 12,
      "outputs": [
        {
          "output_type": "error",
          "ename": "TypeError",
          "evalue": "ignored",
          "traceback": [
            "\u001b[0;31m---------------------------------------------------------------------------\u001b[0m",
            "\u001b[0;31mTypeError\u001b[0m                                 Traceback (most recent call last)",
            "\u001b[0;32m<ipython-input-12-a6e37364a682>\u001b[0m in \u001b[0;36m<module>\u001b[0;34m()\u001b[0m\n\u001b[0;32m----> 1\u001b[0;31m \u001b[0mdl\u001b[0m\u001b[0;34m.\u001b[0m\u001b[0mRNN\u001b[0m\u001b[0;34m(\u001b[0m\u001b[0;34m)\u001b[0m\u001b[0;34m\u001b[0m\u001b[0;34m\u001b[0m\u001b[0m\n\u001b[0m",
            "\u001b[0;31mTypeError\u001b[0m: RNN() missing 10 required positional arguments: 'output_dim', 'embedding', 'nodes', 'activation', 'regularizer', 'stacking', 'dropout', 'optimizer', 'method', and 'bidirectional'"
          ]
        }
      ]
    },
    {
      "cell_type": "markdown",
      "metadata": {
        "id": "tKZ0gOQek08C"
      },
      "source": [
        "# Image Classification"
      ]
    },
    {
      "cell_type": "markdown",
      "metadata": {
        "id": "Mr2l2z1jlEW4"
      },
      "source": [
        "# Tabular Classification"
      ]
    },
    {
      "cell_type": "markdown",
      "metadata": {
        "id": "qpnh4jAwlQI4"
      },
      "source": [
        "# Tabular Regression"
      ]
    }
  ]
}